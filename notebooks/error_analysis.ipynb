{
 "cells": [
  {
   "cell_type": "code",
   "execution_count": 134,
   "id": "1b9429e1",
   "metadata": {},
   "outputs": [],
   "source": [
    "import numpy as np # linear algebra\n",
    "import pandas as pd # data processing, CSV file I/O (e.g. pd.read_csv)\n",
    "import matplotlib.pyplot as plt\n",
    "import seaborn as sns"
   ]
  },
  {
   "cell_type": "code",
   "execution_count": 135,
   "id": "cc80ba99",
   "metadata": {},
   "outputs": [
    {
     "data": {
      "text/html": [
       "<div>\n",
       "<style scoped>\n",
       "    .dataframe tbody tr th:only-of-type {\n",
       "        vertical-align: middle;\n",
       "    }\n",
       "\n",
       "    .dataframe tbody tr th {\n",
       "        vertical-align: top;\n",
       "    }\n",
       "\n",
       "    .dataframe thead th {\n",
       "        text-align: right;\n",
       "    }\n",
       "</style>\n",
       "<table border=\"1\" class=\"dataframe\">\n",
       "  <thead>\n",
       "    <tr style=\"text-align: right;\">\n",
       "      <th></th>\n",
       "      <th>textID</th>\n",
       "      <th>text</th>\n",
       "      <th>selected_text</th>\n",
       "      <th>sentiment</th>\n",
       "    </tr>\n",
       "  </thead>\n",
       "  <tbody>\n",
       "    <tr>\n",
       "      <th>0</th>\n",
       "      <td>cb774db0d1</td>\n",
       "      <td>I`d have responded, if I were going</td>\n",
       "      <td>I`d have responded, if I were going</td>\n",
       "      <td>neutral</td>\n",
       "    </tr>\n",
       "    <tr>\n",
       "      <th>1</th>\n",
       "      <td>549e992a42</td>\n",
       "      <td>Sooo SAD I will miss you here in San Diego!!!</td>\n",
       "      <td>Sooo SAD</td>\n",
       "      <td>negative</td>\n",
       "    </tr>\n",
       "  </tbody>\n",
       "</table>\n",
       "</div>"
      ],
      "text/plain": [
       "       textID                                            text  \\\n",
       "0  cb774db0d1             I`d have responded, if I were going   \n",
       "1  549e992a42   Sooo SAD I will miss you here in San Diego!!!   \n",
       "\n",
       "                         selected_text sentiment  \n",
       "0  I`d have responded, if I were going   neutral  \n",
       "1                             Sooo SAD  negative  "
      ]
     },
     "execution_count": 135,
     "metadata": {},
     "output_type": "execute_result"
    }
   ],
   "source": [
    "df_train = pd.read_csv(\"data/train.csv\")\n",
    "df_test = pd.read_csv(\"data/test.csv\")\n",
    "df_train.head(2)"
   ]
  },
  {
   "cell_type": "code",
   "execution_count": 136,
   "id": "3c67eb83",
   "metadata": {},
   "outputs": [
    {
     "name": "stdout",
     "output_type": "stream",
     "text": [
      "Shape of the train data:  (27480, 4)\n"
     ]
    }
   ],
   "source": [
    "## drpping na values\n",
    "df_train.dropna(inplace=True)\n",
    "print(\"Shape of the train data: \", df_train.shape)"
   ]
  },
  {
   "cell_type": "code",
   "execution_count": 137,
   "id": "3ea802b6",
   "metadata": {},
   "outputs": [],
   "source": [
    "from datasets import Dataset\n",
    "\n",
    "df_train.reset_index(drop=True,inplace=True)\n",
    "data = Dataset.from_pandas(df_train)"
   ]
  },
  {
   "cell_type": "code",
   "execution_count": 138,
   "id": "fb64fd7c",
   "metadata": {},
   "outputs": [],
   "source": [
    "n_best = 20\n",
    "\n",
    "def predict_answers(inputs):\n",
    "    predicted_answer = []\n",
    "    for i in range(len(inputs[\"offset_mapping\"])):\n",
    "        start_logit = inputs[\"start_logits\"][i]\n",
    "        end_logit = inputs[\"end_logits\"][i]\n",
    "        context = inputs[\"text\"][i]\n",
    "        offset = inputs[\"offset_mapping\"][i]\n",
    "        start_indexes = np.argsort(start_logit)[-1: -n_best - 1:-1].tolist()\n",
    "        end_indexes = np.argsort(end_logit)[-1: -n_best - 1: -1].tolist()\n",
    "        \n",
    "        flag = False\n",
    "        for start_index in start_indexes:\n",
    "            for end_index in end_indexes:\n",
    "                # skip answer that are not in the context.\n",
    "                if offset[start_index] is None or offset[end_index] is None:\n",
    "                    continue\n",
    "                # skip answer with length that is either < 0\n",
    "                if end_index < start_index:\n",
    "                    continue\n",
    "                flag = True\n",
    "                answer = context[offset[start_index][0]: offset[end_index][1]]\n",
    "                predicted_answer.append(answer)\n",
    "                break\n",
    "            if flag:\n",
    "                break\n",
    "        if not flag:\n",
    "            predicted_answer.append(answer)\n",
    "    return {\"predicted_answer\":predicted_answer}"
   ]
  },
  {
   "cell_type": "code",
   "execution_count": 139,
   "id": "1b2fa17d",
   "metadata": {},
   "outputs": [],
   "source": [
    "def jaccard(str1, str2): \n",
    "    a = set(str1.lower().split()) \n",
    "    b = set(str2.lower().split())\n",
    "    if (len(a)==0) & (len(b)==0): return 0.5\n",
    "    c = a.intersection(b)\n",
    "    return float(len(c)) / (len(a) + len(b) - len(c))"
   ]
  },
  {
   "cell_type": "markdown",
   "id": "f6fdd144",
   "metadata": {},
   "source": [
    "## 1. Using the best model: Roberta to predict on the whole dataset."
   ]
  },
  {
   "cell_type": "code",
   "execution_count": 140,
   "id": "a847607f",
   "metadata": {},
   "outputs": [
    {
     "name": "stderr",
     "output_type": "stream",
     "text": [
      "All model checkpoint layers were used when initializing TFRobertaForQuestionAnswering.\n",
      "\n",
      "All the layers of TFRobertaForQuestionAnswering were initialized from the model checkpoint at saved_models/roberta-base/roberta_base.\n",
      "If your task is similar to the task the model of the checkpoint was trained on, you can already use TFRobertaForQuestionAnswering for predictions without further training.\n"
     ]
    }
   ],
   "source": [
    "from transformers import AutoTokenizer\n",
    "from transformers import TFAutoModelForQuestionAnswering\n",
    "\n",
    "tokenizer = AutoTokenizer.from_pretrained(\"saved_models/roberta-base/roberta_base_tokenizer\",local_files_only=True)\n",
    "\n",
    "model = TFAutoModelForQuestionAnswering.from_pretrained(\"saved_models/roberta-base/roberta_base\",local_files_only=True)\n"
   ]
  },
  {
   "cell_type": "code",
   "execution_count": 141,
   "id": "5b0578ea",
   "metadata": {},
   "outputs": [],
   "source": [
    "MAX_LENGTH = 105\n",
    "\n",
    "def post_porocess_data(examples):\n",
    "  questions = examples[\"sentiment\"]\n",
    "  context = examples[\"text\"]\n",
    "  inputs = tokenizer(\n",
    "      questions,\n",
    "      context,\n",
    "      max_length = MAX_LENGTH,\n",
    "      padding=\"max_length\",\n",
    "      return_offsets_mapping = True,   \n",
    "  )\n",
    "\n",
    "  for i in range(len(inputs[\"input_ids\"])):\n",
    "    offset = inputs[\"offset_mapping\"][i]\n",
    "    sequence_ids = inputs.sequence_ids(i)\n",
    "    inputs[\"offset_mapping\"][i] = [\n",
    "                                  o if sequence_ids[k] == 1 else None for k, o in enumerate(offset)\n",
    "    ]\n",
    "  return inputs"
   ]
  },
  {
   "cell_type": "code",
   "execution_count": 142,
   "id": "d3f8b3d0",
   "metadata": {},
   "outputs": [
    {
     "data": {
      "application/vnd.jupyter.widget-view+json": {
       "model_id": "2937bec09a55499e9e333a8d1c4b92c3",
       "version_major": 2,
       "version_minor": 0
      },
      "text/plain": [
       "  0%|          | 0/28 [00:00<?, ?ba/s]"
      ]
     },
     "metadata": {},
     "output_type": "display_data"
    },
    {
     "data": {
      "text/plain": [
       "Dataset({\n",
       "    features: ['attention_mask', 'input_ids', 'offset_mapping', 'selected_text', 'sentiment', 'text', 'textID'],\n",
       "    num_rows: 27480\n",
       "})"
      ]
     },
     "execution_count": 142,
     "metadata": {},
     "output_type": "execute_result"
    }
   ],
   "source": [
    "processed_data = data.map(\n",
    "    post_porocess_data,\n",
    "    batched = True\n",
    ")\n",
    "processed_data"
   ]
  },
  {
   "cell_type": "code",
   "execution_count": 143,
   "id": "c751c36c",
   "metadata": {},
   "outputs": [],
   "source": [
    "tf_dataset = processed_data.to_tf_dataset(\n",
    "    columns=[\"input_ids\", \"attention_mask\"],\n",
    "    shuffle=False,\n",
    "    batch_size=16,\n",
    ")"
   ]
  },
  {
   "cell_type": "code",
   "execution_count": 144,
   "id": "bfa5e4ec",
   "metadata": {},
   "outputs": [],
   "source": [
    "outputs = model.predict(tf_dataset)\n",
    "\n",
    "start_logits = outputs.start_logits\n",
    "end_logits = outputs.end_logits"
   ]
  },
  {
   "cell_type": "code",
   "execution_count": 145,
   "id": "bcdc6e52",
   "metadata": {},
   "outputs": [
    {
     "data": {
      "application/vnd.jupyter.widget-view+json": {
       "model_id": "8ee730dfc3e743099b56f34c416ec8c6",
       "version_major": 2,
       "version_minor": 0
      },
      "text/plain": [
       "  0%|          | 0/28 [00:00<?, ?ba/s]"
      ]
     },
     "metadata": {},
     "output_type": "display_data"
    },
    {
     "data": {
      "text/plain": [
       "Dataset({\n",
       "    features: ['attention_mask', 'end_logits', 'input_ids', 'offset_mapping', 'predicted_answer', 'selected_text', 'sentiment', 'start_logits', 'text', 'textID'],\n",
       "    num_rows: 27480\n",
       "})"
      ]
     },
     "execution_count": 145,
     "metadata": {},
     "output_type": "execute_result"
    }
   ],
   "source": [
    "processed_data.set_format(\"pandas\")\n",
    "processed_df =  processed_data[:]\n",
    "\n",
    "processed_df[\"start_logits\"] = start_logits.tolist()\n",
    "processed_df[\"end_logits\"] = end_logits.tolist()\n",
    "\n",
    "processed_df[\"text\"] = data[\"text\"]\n",
    "\n",
    "roberta_final_data = Dataset.from_pandas(processed_df)\n",
    "\n",
    "roberta_final_data = roberta_final_data.map(predict_answers,batched=True)\n",
    "roberta_final_data"
   ]
  },
  {
   "cell_type": "code",
   "execution_count": 146,
   "id": "0cc19d96",
   "metadata": {},
   "outputs": [
    {
     "name": "stdout",
     "output_type": "stream",
     "text": [
      "Jaccard score on validation data:  0.7919860485290353\n"
     ]
    }
   ],
   "source": [
    "# calculating the jaccard score\n",
    "score = 0\n",
    "predicted_answers_by_roberta = roberta_final_data[\"predicted_answer\"]\n",
    "theoritcal_answers = data[\"selected_text\"]\n",
    "for i in range(len(theoritcal_answers)):\n",
    "    score += jaccard(theoritcal_answers[i],predicted_answers_by_roberta[i])\n",
    "\n",
    "score /= len(theoritcal_answers)\n",
    "print(\"Jaccard score on validation data: \", score)"
   ]
  },
  {
   "cell_type": "markdown",
   "id": "4aa4fc1d",
   "metadata": {},
   "source": [
    "## 2. Error analysis"
   ]
  },
  {
   "cell_type": "code",
   "execution_count": 147,
   "id": "fc511321",
   "metadata": {},
   "outputs": [
    {
     "data": {
      "text/html": [
       "<div>\n",
       "<style scoped>\n",
       "    .dataframe tbody tr th:only-of-type {\n",
       "        vertical-align: middle;\n",
       "    }\n",
       "\n",
       "    .dataframe tbody tr th {\n",
       "        vertical-align: top;\n",
       "    }\n",
       "\n",
       "    .dataframe thead th {\n",
       "        text-align: right;\n",
       "    }\n",
       "</style>\n",
       "<table border=\"1\" class=\"dataframe\">\n",
       "  <thead>\n",
       "    <tr style=\"text-align: right;\">\n",
       "      <th></th>\n",
       "      <th>attention_mask</th>\n",
       "      <th>end_logits</th>\n",
       "      <th>input_ids</th>\n",
       "      <th>offset_mapping</th>\n",
       "      <th>predicted_answer</th>\n",
       "      <th>selected_text</th>\n",
       "      <th>sentiment</th>\n",
       "      <th>start_logits</th>\n",
       "      <th>text</th>\n",
       "      <th>textID</th>\n",
       "    </tr>\n",
       "  </thead>\n",
       "  <tbody>\n",
       "    <tr>\n",
       "      <th>0</th>\n",
       "      <td>[1, 1, 1, 1, 1, 1, 1, 1, 1, 1, 1, 1, 1, 1, 1, ...</td>\n",
       "      <td>[-5.651948928833008, -7.115287780761719, -5.18...</td>\n",
       "      <td>[0, 12516, 2, 2, 38, 12905, 417, 33, 2334, 6, ...</td>\n",
       "      <td>[None, None, None, None, [1, 2], [2, 3], [3, 4...</td>\n",
       "      <td>I`d have responded, if I were going</td>\n",
       "      <td>I`d have responded, if I were going</td>\n",
       "      <td>neutral</td>\n",
       "      <td>[-6.200232982635498, -6.917436122894287, -5.97...</td>\n",
       "      <td>I`d have responded, if I were going</td>\n",
       "      <td>cb774db0d1</td>\n",
       "    </tr>\n",
       "    <tr>\n",
       "      <th>1</th>\n",
       "      <td>[1, 1, 1, 1, 1, 1, 1, 1, 1, 1, 1, 1, 1, 1, 1, ...</td>\n",
       "      <td>[-6.003640174865723, -7.3557257652282715, -5.6...</td>\n",
       "      <td>[0, 33407, 2, 2, 407, 3036, 208, 2606, 38, 40,...</td>\n",
       "      <td>[None, None, None, None, [1, 3], [3, 5], [6, 7...</td>\n",
       "      <td>SAD</td>\n",
       "      <td>Sooo SAD</td>\n",
       "      <td>negative</td>\n",
       "      <td>[-6.560288906097412, -7.023008823394775, -6.40...</td>\n",
       "      <td>Sooo SAD I will miss you here in San Diego!!!</td>\n",
       "      <td>549e992a42</td>\n",
       "    </tr>\n",
       "  </tbody>\n",
       "</table>\n",
       "</div>"
      ],
      "text/plain": [
       "                                      attention_mask  \\\n",
       "0  [1, 1, 1, 1, 1, 1, 1, 1, 1, 1, 1, 1, 1, 1, 1, ...   \n",
       "1  [1, 1, 1, 1, 1, 1, 1, 1, 1, 1, 1, 1, 1, 1, 1, ...   \n",
       "\n",
       "                                          end_logits  \\\n",
       "0  [-5.651948928833008, -7.115287780761719, -5.18...   \n",
       "1  [-6.003640174865723, -7.3557257652282715, -5.6...   \n",
       "\n",
       "                                           input_ids  \\\n",
       "0  [0, 12516, 2, 2, 38, 12905, 417, 33, 2334, 6, ...   \n",
       "1  [0, 33407, 2, 2, 407, 3036, 208, 2606, 38, 40,...   \n",
       "\n",
       "                                      offset_mapping  \\\n",
       "0  [None, None, None, None, [1, 2], [2, 3], [3, 4...   \n",
       "1  [None, None, None, None, [1, 3], [3, 5], [6, 7...   \n",
       "\n",
       "                      predicted_answer                        selected_text  \\\n",
       "0  I`d have responded, if I were going  I`d have responded, if I were going   \n",
       "1                                  SAD                             Sooo SAD   \n",
       "\n",
       "  sentiment                                       start_logits  \\\n",
       "0   neutral  [-6.200232982635498, -6.917436122894287, -5.97...   \n",
       "1  negative  [-6.560288906097412, -7.023008823394775, -6.40...   \n",
       "\n",
       "                                             text      textID  \n",
       "0             I`d have responded, if I were going  cb774db0d1  \n",
       "1   Sooo SAD I will miss you here in San Diego!!!  549e992a42  "
      ]
     },
     "execution_count": 147,
     "metadata": {},
     "output_type": "execute_result"
    }
   ],
   "source": [
    "roberta_final_data.set_format(\"pandas\")\n",
    "final_data =  roberta_final_data[:]\n",
    "final_data.head(2)"
   ]
  },
  {
   "cell_type": "markdown",
   "id": "0eb0a297",
   "metadata": {},
   "source": [
    "### 2.1. Divide the dataset sentiment wise."
   ]
  },
  {
   "cell_type": "code",
   "execution_count": 148,
   "id": "54307aef",
   "metadata": {
    "scrolled": true
   },
   "outputs": [
    {
     "name": "stdout",
     "output_type": "stream",
     "text": [
      "Shape of the df_positive shape:  (8582, 10)\n",
      "Shape of the df_negative_shape:  (7781, 10)\n",
      "Shape of the df_neutral shape:  (11117, 10)\n"
     ]
    }
   ],
   "source": [
    "df_positive = final_data[final_data[\"sentiment\"] == \"positive\"]\n",
    "df_negative = final_data[final_data[\"sentiment\"] == \"negative\"]\n",
    "df_neutral = final_data[final_data[\"sentiment\"] == \"neutral\"]\n",
    "\n",
    "print(\"Shape of the df_positive shape: \", df_positive.shape)\n",
    "print(\"Shape of the df_negative_shape: \", df_negative.shape)\n",
    "print(\"Shape of the df_neutral shape: \", df_neutral.shape)\n"
   ]
  },
  {
   "cell_type": "markdown",
   "id": "d88de9af",
   "metadata": {},
   "source": [
    "### 2.2 Computing Jaccard score between predicted answer and the ground truth answer."
   ]
  },
  {
   "cell_type": "code",
   "execution_count": 149,
   "id": "095a2df1",
   "metadata": {
    "scrolled": true
   },
   "outputs": [
    {
     "name": "stderr",
     "output_type": "stream",
     "text": [
      "<ipython-input-149-a656a6ec807d>:1: SettingWithCopyWarning: \n",
      "A value is trying to be set on a copy of a slice from a DataFrame.\n",
      "Try using .loc[row_indexer,col_indexer] = value instead\n",
      "\n",
      "See the caveats in the documentation: https://pandas.pydata.org/pandas-docs/stable/user_guide/indexing.html#returning-a-view-versus-a-copy\n",
      "  df_positive[\"jaccard_score\"] = df_positive.apply(lambda x: jaccard(x[\"selected_text\"],x[\"predicted_answer\"]),axis=1)\n",
      "<ipython-input-149-a656a6ec807d>:2: SettingWithCopyWarning: \n",
      "A value is trying to be set on a copy of a slice from a DataFrame.\n",
      "Try using .loc[row_indexer,col_indexer] = value instead\n",
      "\n",
      "See the caveats in the documentation: https://pandas.pydata.org/pandas-docs/stable/user_guide/indexing.html#returning-a-view-versus-a-copy\n",
      "  df_negative[\"jaccard_score\"] = df_negative.apply(lambda x: jaccard(x[\"selected_text\"],x[\"predicted_answer\"]),axis=1)\n",
      "<ipython-input-149-a656a6ec807d>:3: SettingWithCopyWarning: \n",
      "A value is trying to be set on a copy of a slice from a DataFrame.\n",
      "Try using .loc[row_indexer,col_indexer] = value instead\n",
      "\n",
      "See the caveats in the documentation: https://pandas.pydata.org/pandas-docs/stable/user_guide/indexing.html#returning-a-view-versus-a-copy\n",
      "  df_neutral[\"jaccard_score\"] = df_neutral.apply(lambda x: jaccard(x[\"selected_text\"],x[\"predicted_answer\"]),axis=1)\n"
     ]
    }
   ],
   "source": [
    "df_positive[\"jaccard_score\"] = df_positive.apply(lambda x: jaccard(x[\"selected_text\"],x[\"predicted_answer\"]),axis=1)\n",
    "df_negative[\"jaccard_score\"] = df_negative.apply(lambda x: jaccard(x[\"selected_text\"],x[\"predicted_answer\"]),axis=1)\n",
    "df_neutral[\"jaccard_score\"] = df_neutral.apply(lambda x: jaccard(x[\"selected_text\"],x[\"predicted_answer\"]),axis=1)\n",
    "\n"
   ]
  },
  {
   "cell_type": "markdown",
   "id": "976640cb",
   "metadata": {},
   "source": [
    "### 2.3 Distribution of Jaccard score sentiment wise."
   ]
  },
  {
   "cell_type": "code",
   "execution_count": 150,
   "id": "e124a9f5",
   "metadata": {
    "scrolled": false
   },
   "outputs": [
    {
     "data": {
      "image/png": "[encoded data removed]",
      "text/plain": [
       "<Figure size 720x432 with 1 Axes>"
      ]
     },
     "metadata": {
      "needs_background": "light"
     },
     "output_type": "display_data"
    }
   ],
   "source": [
    "fig, (ax1) = plt.subplots(1,1,figsize=(10,6))\n",
    "\n",
    "sns.kdeplot(df_positive[\"jaccard_score\"],shade=True,color=\"r\",ax=ax1).set_title(\"Kernel Distribution of jaccard score for positive, negative and neutral sentiment.\")\n",
    "sns.kdeplot(df_negative[\"jaccard_score\"],shade=True,color=\"b\",ax=ax1)\n",
    "sns.kdeplot(df_neutral[\"jaccard_score\"],shade=True,color=\"g\",ax=ax1)\n",
    "\n",
    "ax1.legend([\"positive sentiment\",\"negative sentiment\",\"neutral sentiment\"],loc = \"upper right\")\n",
    "\n",
    "plt.tight_layout()\n",
    "plt.show()\n"
   ]
  },
  {
   "cell_type": "markdown",
   "id": "bc41f814",
   "metadata": {},
   "source": [
    "### Observation(s)\n",
    "\n",
    "- As we can observe, distrbution of jaccard score for neutral sentimet is symmentrical and is centred around 1.0. This means that predicted and ground truth answers are almost identical for neutral sentiment.\n",
    "- Where as. distribution of jaccard score for positive and negative sentiment is asymmetrical(left skewed) and highly overlapping. "
   ]
  },
  {
   "cell_type": "markdown",
   "id": "7350e21e",
   "metadata": {},
   "source": [
    "### 2.4 Error Analsis of  positive sentiment samples with low jaccard score."
   ]
  },
  {
   "cell_type": "code",
   "execution_count": 151,
   "id": "552ebb4a",
   "metadata": {},
   "outputs": [
    {
     "name": "stdout",
     "output_type": "stream",
     "text": [
      "Number of rows who's jaccard score for positive sentiment is less than 0.5:  2920\n"
     ]
    }
   ],
   "source": [
    "## get rows who's jaccard score is less than 0.5\n",
    "\n",
    "df_positive_errors = df_positive[df_positive[\"jaccard_score\"]<0.5]\n",
    "\n",
    "print(\"Number of rows who's jaccard score for positive sentiment is less than 0.5: \", df_positive_errors.shape[0])\n"
   ]
  },
  {
   "cell_type": "code",
   "execution_count": 152,
   "id": "08101e7d",
   "metadata": {
    "scrolled": true
   },
   "outputs": [
    {
     "name": "stdout",
     "output_type": "stream",
     "text": [
      "****************************************************************************************************\n",
      "Context:  the free fillin` app on my ipod is fun, im addicted\n",
      "Ground Truth answer:  the free fillin` app on my ipod is fun, im addicted\n",
      "Predicted answer:  fun,\n",
      "****************************************************************************************************\n",
      "****************************************************************************************************\n",
      "Context:   That`s very funny.  Cute kids.\n",
      "Ground Truth answer:  funny.\n",
      "Predicted answer:  That`s very funny.\n",
      "****************************************************************************************************\n",
      "****************************************************************************************************\n",
      "Context:  A little happy for the wine jeje ok it`sm my free time so who cares, jaja i love this day\n",
      "Ground Truth answer:  A little happy fo\n",
      "Predicted answer:  happy for the wine jeje ok it`sm my free time so who cares, jaja i love this day\n",
      "****************************************************************************************************\n",
      "****************************************************************************************************\n",
      "Context:   romance zero is funny\n",
      "Ground Truth answer:  romance zero is funny\n",
      "Predicted answer:  funny\n",
      "****************************************************************************************************\n",
      "****************************************************************************************************\n",
      "Context:  Happy Star Wars day everyone! and Enjoy the holiday (UK)\n",
      "Ground Truth answer:  Happy Star Wars day everyone! and Enjoy the holiday (UK)\n",
      "Predicted answer:  Happy\n",
      "****************************************************************************************************\n",
      "****************************************************************************************************\n",
      "Context:   SWEEEEET - San Fran is awesome!!!!  Love it there\n",
      "Ground Truth answer:  Love it there\n",
      "Predicted answer:  awesome!!!!\n",
      "****************************************************************************************************\n",
      "****************************************************************************************************\n",
      "Context:  Happy Mothers day to all you Mums out there\n",
      "Ground Truth answer:  Happy Mothers day to all you Mums out there\n",
      "Predicted answer:  Happy\n",
      "****************************************************************************************************\n",
      "****************************************************************************************************\n",
      "Context:   woof, I wish I was allowed to go\n",
      "Ground Truth answer:  I wish I was allowed to go\n",
      "Predicted answer:  wish\n",
      "****************************************************************************************************\n",
      "****************************************************************************************************\n",
      "Context:   hey mia!  totally adore your music.  when will your cd be out?\n",
      "Ground Truth answer:  y adore\n",
      "Predicted answer:  totally adore\n",
      "****************************************************************************************************\n",
      "****************************************************************************************************\n",
      "Context:   =O you need to ask him something? Lmao I love him too\n",
      "Ground Truth answer:  I love him too\n",
      "Predicted answer:  love\n",
      "****************************************************************************************************\n",
      "****************************************************************************************************\n",
      "Context:   She`s unassuming and unpretentious. She`s just, as. I suppose that`s why she`s so endearing--because we can relate to her\n",
      "Ground Truth answer:  endearing-\n",
      "Predicted answer:  endearing--\n",
      "****************************************************************************************************\n",
      "****************************************************************************************************\n",
      "Context:  goooooddd morning tweets!!  week three OF my workout. did i mention i got my new glasses yesterday?!?\n",
      "Ground Truth answer:  goooooddd morning tweets!!\n",
      "Predicted answer:  goooooddd\n",
      "****************************************************************************************************\n",
      "****************************************************************************************************\n",
      "Context:   its the best show EVER!\n",
      "Ground Truth answer:  its the best show EVER!\n",
      "Predicted answer:  best\n",
      "****************************************************************************************************\n",
      "****************************************************************************************************\n",
      "Context:  happy 1 year! <3\n",
      "Ground Truth answer:  happy 1 year! <3\n",
      "Predicted answer:  happy\n",
      "****************************************************************************************************\n",
      "****************************************************************************************************\n",
      "Context:   nite nite bday girl  have fun at concert\n",
      "Ground Truth answer:  e fun\n",
      "Predicted answer:  have fun\n",
      "****************************************************************************************************\n",
      "****************************************************************************************************\n",
      "Context:  im thinking that im going to have fun tonight....and maybe some changes are coming\n",
      "Ground Truth answer:  going to have fun\n",
      "Predicted answer:  fun\n",
      "****************************************************************************************************\n",
      "****************************************************************************************************\n",
      "Context:  35mins through the 1hr 20mins Google Wave demo, that looks a lot of fun, would love to test it though.  http://bit.ly/WnMSc\n",
      "Ground Truth answer:  would love to test it though.\n",
      "Predicted answer:  fun,\n",
      "****************************************************************************************************\n",
      "****************************************************************************************************\n",
      "Context:  Screw the reviews, I thought Wolverine was awesome. But not enough Dominic Monaghan for my liking.\n",
      "Ground Truth answer:  I thought Wolverine was awesome.\n",
      "Predicted answer:  awesome.\n",
      "****************************************************************************************************\n",
      "****************************************************************************************************\n",
      "Context:  Happy monday  up and about going to tavares today. Hope everyone has a blessed day!\n",
      "Ground Truth answer:  Happy\n",
      "Predicted answer:  Happy monday  up and about going to tavares today. Hope everyone has a blessed day!\n",
      "****************************************************************************************************\n",
      "****************************************************************************************************\n",
      "Context:  Well good morning all, What a wonderful day in the neighborhood  Thanks for all those that are now following another 60 this morning\n",
      "Ground Truth answer:  Well good morning all, What a wonderful day in the neighborhood  Thanks for all those that are now following another 60 this morning\n",
      "Predicted answer:  wonderful day in the neighborhood\n",
      "****************************************************************************************************\n"
     ]
    }
   ],
   "source": [
    "## Let's see the context\n",
    "\n",
    "count=0\n",
    "for i in range(df_positive_errors.shape[0]):\n",
    "    count+=1\n",
    "    print(\"*\"*100)\n",
    "    print(\"Context: \",df_positive_errors[\"text\"].iloc[i])\n",
    "    print(\"Ground Truth answer: \",df_positive_errors[\"selected_text\"].iloc[i])\n",
    "    print(\"Predicted answer: \", df_positive_errors[\"predicted_answer\"].iloc[i])\n",
    "    print(\"*\"*100)\n",
    "    if count==20:\n",
    "        break"
   ]
  },
  {
   "cell_type": "markdown",
   "id": "9983fb21",
   "metadata": {},
   "source": [
    "### 2.5 Error Analsis of  negative sentiment samples with low jaccard score."
   ]
  },
  {
   "cell_type": "code",
   "execution_count": 155,
   "id": "4e005002",
   "metadata": {},
   "outputs": [
    {
     "name": "stdout",
     "output_type": "stream",
     "text": [
      "Number of rows who's jaccard score for negative sentiment is less than 0.5:  2472\n"
     ]
    }
   ],
   "source": [
    "## get rows who's jaccard score is less than 0.5\n",
    "\n",
    "df_negative_errors = df_negative[df_negative[\"jaccard_score\"]<0.5]\n",
    "\n",
    "print(\"Number of rows who's jaccard score for negative sentiment is less than 0.5: \", df_negative_errors.shape[0])\n"
   ]
  },
  {
   "cell_type": "code",
   "execution_count": 154,
   "id": "b7572d52",
   "metadata": {
    "scrolled": true
   },
   "outputs": [
    {
     "name": "stdout",
     "output_type": "stream",
     "text": [
      "****************************************************************************************************\n",
      "Context:  Uh oh, I am sunburned\n",
      "Ground Truth answer:  Uh oh, I am sunburned\n",
      "Predicted answer:  sunburned\n",
      "****************************************************************************************************\n",
      "****************************************************************************************************\n",
      "Context:  is back home now      gonna miss every one\n",
      "Ground Truth answer:  onna\n",
      "Predicted answer:  gonna miss\n",
      "****************************************************************************************************\n",
      "****************************************************************************************************\n",
      "Context:    I`m sorry.\n",
      "Ground Truth answer:  I`m sorry.\n",
      "Predicted answer:  I`m sorry\n",
      "****************************************************************************************************\n",
      "****************************************************************************************************\n",
      "Context:  On the way to Malaysia...no internet access to Twit\n",
      "Ground Truth answer:  .no internet\n",
      "Predicted answer:  no internet access\n",
      "****************************************************************************************************\n",
      "****************************************************************************************************\n",
      "Context:   which case? I got a new one last week and I`m not thrilled at all with mine.\n",
      "Ground Truth answer:  d I`m not thrilled at all with mine.\n",
      "Predicted answer:  not thrilled\n",
      "****************************************************************************************************\n",
      "****************************************************************************************************\n",
      "Context:   it is ****...u have dissappointed me that past few days\n",
      "Ground Truth answer:  it is ****...u have dissappointed me that past few days\n",
      "Predicted answer:  dissappointed\n",
      "****************************************************************************************************\n",
      "****************************************************************************************************\n",
      "Context:  Bah a coworker ran into work late and her bag smacked into my knee  it really hurts now\n",
      "Ground Truth answer:  hurts\n",
      "Predicted answer:  it really hurts now\n",
      "****************************************************************************************************\n",
      "****************************************************************************************************\n",
      "Context:  Aw. Torn ace of hearts  #Hunchback\n",
      "Ground Truth answer:  Torn ace of hearts\n",
      "Predicted answer:  Torn\n",
      "****************************************************************************************************\n",
      "****************************************************************************************************\n",
      "Context:  i lost all my friends, i`m alone and sleepy..i wanna go home\n",
      "Ground Truth answer:  i lost all my friends, i`m alone and sleepy..\n",
      "Predicted answer:  i lost\n",
      "****************************************************************************************************\n",
      "****************************************************************************************************\n",
      "Context:  mannnn..... _ got an iphone!!! im jealous....  http://bit.ly/NgnaR\n",
      "Ground Truth answer:  jealous..\n",
      "Predicted answer:  jealous....\n",
      "****************************************************************************************************\n",
      "****************************************************************************************************\n",
      "Context:  graduation is done  im a little sad.. anyone want to hang out???\n",
      "Ground Truth answer:  sad.\n",
      "Predicted answer:  sad..\n",
      "****************************************************************************************************\n",
      "****************************************************************************************************\n",
      "Context:   those splinters look very painful...but you were being very heroic saving mr. Pickle\n",
      "Ground Truth answer:  painful.\n",
      "Predicted answer:  painful...\n",
      "****************************************************************************************************\n",
      "****************************************************************************************************\n",
      "Context:  Car-warmed Sprite tastes like sore throat\n",
      "Ground Truth answer:  Car-warmed Sprite tastes like sore throat\n",
      "Predicted answer:  sore throat\n",
      "****************************************************************************************************\n",
      "****************************************************************************************************\n",
      "Context:  Bugger. forgot I still have washing in my machine\n",
      "Ground Truth answer:  Bugger. forgot I still have washing in my machine\n",
      "Predicted answer:  Bugger.\n",
      "****************************************************************************************************\n",
      "****************************************************************************************************\n",
      "Context:  My back hurts...really bad\n",
      "Ground Truth answer:  .really bad\n",
      "Predicted answer:  My back hurts...really bad\n",
      "****************************************************************************************************\n",
      "****************************************************************************************************\n",
      "Context:  I`m starving!! This diet is killing me but I can`t eat after 8pm\n",
      "Ground Truth answer:  This diet is killing me\n",
      "Predicted answer:  killing me\n",
      "****************************************************************************************************\n",
      "****************************************************************************************************\n",
      "Context:  im soo bored...im deffo missing my music channels\n",
      "Ground Truth answer:  bored..\n",
      "Predicted answer:  missing my music channels\n",
      "****************************************************************************************************\n",
      "****************************************************************************************************\n",
      "Context:  Walking to class. I hate not having a bike....especially mine.\n",
      "Ground Truth answer:  I hate not having a bike..\n",
      "Predicted answer:  I hate\n",
      "****************************************************************************************************\n",
      "****************************************************************************************************\n",
      "Context:  failed inspection. Did you know you can pass wo/oven, but not wo/anti-tip bracket, which is only sold w/oven? This is worse than taxes.\n",
      "Ground Truth answer:  This is worse than taxes.\n",
      "Predicted answer:  failed inspection. Did you know you can pass wo/oven, but not wo/anti-tip bracket, which is only sold w/oven? This is worse than taxes.\n",
      "****************************************************************************************************\n",
      "****************************************************************************************************\n",
      "Context:  Wolverine Was BOSS! Seriously, And Will.I.Am Was In It, What The **** ??\n",
      "Ground Truth answer:  Seriously,\n",
      "Predicted answer:  What The ****\n",
      "****************************************************************************************************\n"
     ]
    }
   ],
   "source": [
    "## Let's see the context \n",
    "\n",
    "count=0\n",
    "for i in range(df_negative_errors.shape[0]):\n",
    "    count+=1\n",
    "    print(\"*\"*100)\n",
    "    print(\"Context: \",df_negative_errors[\"text\"].iloc[i])\n",
    "    print(\"Ground Truth answer: \",df_negative_errors[\"selected_text\"].iloc[i])\n",
    "    print(\"Predicted answer: \", df_negative_errors[\"predicted_answer\"].iloc[i])\n",
    "    print(\"*\"*100)\n",
    "    if count==20:\n",
    "        break"
   ]
  },
  {
   "cell_type": "markdown",
   "id": "21ff5e5c",
   "metadata": {},
   "source": [
    "### Observation(s):\n",
    "\n",
    "- The Roberta model correctly able to to find the word from the context that reflect the correspoding sentiment(question) but sometimes it fails to get the phrase from the context.\n"
   ]
  },
  {
   "cell_type": "markdown",
   "id": "76837d24",
   "metadata": {},
   "source": [
    "| Context | Sentiment | Given Answers | Roberta predicted Answers |\n",
    "|---------|-----------|-----------    |-------------------|\n",
    "| the free fillin` app on my ipod is fun, im addicted  |  positive | the free fillin` app on my ipod is fun, im addicted                   |            fun,       |\n",
    "|     Happy Star Wars day everyone! and Enjoy the holiday (UK)    |  positive |Happy Star Wars day everyone! and Enjoy the holiday (UK)                    |                Happy   |\n",
    "| which case? I got a new one last week and I`m not thrilled at all with mine. | negative | d I`m not thrilled at all with mine. | not thrilled |\n",
    "| it is ****...u have dissappointed me that past few days| negative | it is ****...u have dissappointed me that past few days | dissappointed |\n"
   ]
  },
  {
   "cell_type": "markdown",
   "id": "74367ee4",
   "metadata": {},
   "source": [
    "- When the given sample contains two or more positive/negative words that reflects the corresponding sentiment(question), the model gets confused in choosing the right word/phrase that is required as an answer."
   ]
  },
  {
   "cell_type": "markdown",
   "id": "546c06ee",
   "metadata": {},
   "source": [
    "| Context | Sentiment | Given Answers | Roberta predicted Answers |\n",
    "|---------|-----------|-----------    |-------------------|\n",
    "| SWEEEEET - San Fran is awesome!!!!  Love it there |  positive | Love it there              |        awesome!!!!      |\n",
    "|      Wolverine Was BOSS! Seriously, And Will.I.Am Was In It, What The **** ?? |  negative | Seriously,    |               What The ****  |\n"
   ]
  },
  {
   "cell_type": "markdown",
   "id": "0731545f",
   "metadata": {},
   "source": [
    "| Model | Kaggle Private Leaderboard Score |\n",
    "|---------|-----------|\n",
    "| Bert-base |  0.67857 |\n",
    "|  Albert-base |  0.67573 |\n",
    "| Roberta-base |  **0.71917** |\n",
    "|  Xlnet-base |  0.68592 |\n",
    "|  ensemble(Bert + Albert + Roberta + Xlnet)|  0.68683 |\n",
    "\n"
   ]
  },
  {
   "cell_type": "code",
   "execution_count": null,
   "id": "aa8ea0fa",
   "metadata": {},
   "outputs": [],
   "source": []
  }
 ],
 "metadata": {
  "kernelspec": {
   "display_name": "Python 3",
   "language": "python",
   "name": "python3"
  },
  "language_info": {
   "codemirror_mode": {
    "name": "ipython",
    "version": 3
   },
   "file_extension": ".py",
   "mimetype": "text/x-python",
   "name": "python",
   "nbconvert_exporter": "python",
   "pygments_lexer": "ipython3",
   "version": "3.8.8"
  }
 },
 "nbformat": 4,
 "nbformat_minor": 5
}
