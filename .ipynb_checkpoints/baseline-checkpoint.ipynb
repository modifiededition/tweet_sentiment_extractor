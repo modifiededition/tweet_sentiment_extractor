{
 "cells": [
  {
   "cell_type": "markdown",
   "id": "64cd4ad8",
   "metadata": {},
   "source": [
    "# <span style=\"color:red\">Twitter Sentiment Extractor</span>"
   ]
  },
  {
   "cell_type": "markdown",
   "id": "6d17e7e5",
   "metadata": {},
   "source": [
    "> This is an **extractive question-answering problem** where tweet_text is a context, sentiment is a question and selected_text is an answer.\n",
    ">\n",
    "> In this notebook, I will **create different feature sets** with using different types of representations of word such as  bag-of-words, tf-idf, n-gram, Glove embedding. Then I will try **using LSTM cell with Recurrent neural network** structure on these feature sets."
   ]
  },
  {
   "cell_type": "code",
   "execution_count": 17,
   "id": "b85640d5",
   "metadata": {},
   "outputs": [],
   "source": [
    "# basic imports\n",
    "import pandas as pd\n",
    "import numpy as np\n",
    "\n",
    "import tensorflow as tf\n",
    "from tensorflow.keras.layers import LSTM, GRU, Dense, Input, Embedding\n",
    "from tensorflow.keras.models import Model"
   ]
  },
  {
   "cell_type": "code",
   "execution_count": 2,
   "id": "51ac0fd7",
   "metadata": {},
   "outputs": [
    {
     "data": {
      "text/html": [
       "<div>\n",
       "<style scoped>\n",
       "    .dataframe tbody tr th:only-of-type {\n",
       "        vertical-align: middle;\n",
       "    }\n",
       "\n",
       "    .dataframe tbody tr th {\n",
       "        vertical-align: top;\n",
       "    }\n",
       "\n",
       "    .dataframe thead th {\n",
       "        text-align: right;\n",
       "    }\n",
       "</style>\n",
       "<table border=\"1\" class=\"dataframe\">\n",
       "  <thead>\n",
       "    <tr style=\"text-align: right;\">\n",
       "      <th></th>\n",
       "      <th>textID</th>\n",
       "      <th>text</th>\n",
       "      <th>selected_text</th>\n",
       "      <th>sentiment</th>\n",
       "    </tr>\n",
       "  </thead>\n",
       "  <tbody>\n",
       "    <tr>\n",
       "      <th>0</th>\n",
       "      <td>cb774db0d1</td>\n",
       "      <td>I`d have responded, if I were going</td>\n",
       "      <td>I`d have responded, if I were going</td>\n",
       "      <td>neutral</td>\n",
       "    </tr>\n",
       "    <tr>\n",
       "      <th>1</th>\n",
       "      <td>549e992a42</td>\n",
       "      <td>Sooo SAD I will miss you here in San Diego!!!</td>\n",
       "      <td>Sooo SAD</td>\n",
       "      <td>negative</td>\n",
       "    </tr>\n",
       "  </tbody>\n",
       "</table>\n",
       "</div>"
      ],
      "text/plain": [
       "       textID                                            text  \\\n",
       "0  cb774db0d1             I`d have responded, if I were going   \n",
       "1  549e992a42   Sooo SAD I will miss you here in San Diego!!!   \n",
       "\n",
       "                         selected_text sentiment  \n",
       "0  I`d have responded, if I were going   neutral  \n",
       "1                             Sooo SAD  negative  "
      ]
     },
     "execution_count": 2,
     "metadata": {},
     "output_type": "execute_result"
    }
   ],
   "source": [
    "df = pd.read_csv(\"data/train.csv\")\n",
    "df.head(2)"
   ]
  },
  {
   "cell_type": "code",
   "execution_count": 3,
   "id": "ee40b8c5",
   "metadata": {},
   "outputs": [
    {
     "data": {
      "text/plain": [
       "(27481, 4)"
      ]
     },
     "execution_count": 3,
     "metadata": {},
     "output_type": "execute_result"
    }
   ],
   "source": [
    "df.shape"
   ]
  },
  {
   "cell_type": "code",
   "execution_count": 14,
   "id": "8eeb75f0",
   "metadata": {},
   "outputs": [],
   "source": [
    "df.fillna(\"\",inplace=True)"
   ]
  },
  {
   "cell_type": "markdown",
   "id": "82ad36e9",
   "metadata": {},
   "source": [
    "# 1. Preparing the data / Preprocessing."
   ]
  },
  {
   "cell_type": "markdown",
   "id": "7eda9aee",
   "metadata": {},
   "source": [
    "> The **text(context) field** and **sentiment(question) field** are very straightforward to use as input for the model. The **seleced_text( answer) field** is a bit trickier to use as the output.</span>\n",
    ">\n",
    "> We need to generate labels for the question's answer. And the **labels will be start and end position of the token** corresponding to the token inside the context. So, **labels will be index of token where the answer starts and index of the token where the answer ends.**\n",
    ">\n",
    "> And the model will be tasked to **predict one start and end logit per token** in the input context."
   ]
  },
  {
   "cell_type": "markdown",
   "id": "dbe5bc48",
   "metadata": {},
   "source": [
    "## 1.1 Train-Validation Split."
   ]
  },
  {
   "cell_type": "code",
   "execution_count": 121,
   "id": "3ec5b6fa",
   "metadata": {},
   "outputs": [
    {
     "name": "stdout",
     "output_type": "stream",
     "text": [
      "Shape of the train data:  (24732, 4)\n",
      "Shape of the validation data:  (2749, 4)\n"
     ]
    }
   ],
   "source": [
    "from sklearn.model_selection import train_test_split\n",
    "\n",
    "\n",
    "\n",
    "X_train, X_val = train_test_split(df,test_size=0.1,random_state=42)\n",
    "\n",
    "print(\"Shape of the train data: \", X_train.shape)\n",
    "print(\"Shape of the validation data: \", X_val.shape)"
   ]
  },
  {
   "cell_type": "code",
   "execution_count": 122,
   "id": "b8086c98",
   "metadata": {},
   "outputs": [
    {
     "data": {
      "text/html": [
       "<div>\n",
       "<style scoped>\n",
       "    .dataframe tbody tr th:only-of-type {\n",
       "        vertical-align: middle;\n",
       "    }\n",
       "\n",
       "    .dataframe tbody tr th {\n",
       "        vertical-align: top;\n",
       "    }\n",
       "\n",
       "    .dataframe thead th {\n",
       "        text-align: right;\n",
       "    }\n",
       "</style>\n",
       "<table border=\"1\" class=\"dataframe\">\n",
       "  <thead>\n",
       "    <tr style=\"text-align: right;\">\n",
       "      <th></th>\n",
       "      <th>textID</th>\n",
       "      <th>text</th>\n",
       "      <th>selected_text</th>\n",
       "      <th>sentiment</th>\n",
       "    </tr>\n",
       "  </thead>\n",
       "  <tbody>\n",
       "    <tr>\n",
       "      <th>14619</th>\n",
       "      <td>ddc3017ca5</td>\n",
       "      <td>WTF facebook just cleared out my whole survey ...</td>\n",
       "      <td>WTF facebook just cleared out my whole survey ...</td>\n",
       "      <td>positive</td>\n",
       "    </tr>\n",
       "    <tr>\n",
       "      <th>25779</th>\n",
       "      <td>3e6cc1a2d8</td>\n",
       "      <td>Back from LAAANDAN.  Miss it already   check o...</td>\n",
       "      <td>Miss it already</td>\n",
       "      <td>negative</td>\n",
       "    </tr>\n",
       "  </tbody>\n",
       "</table>\n",
       "</div>"
      ],
      "text/plain": [
       "           textID                                               text  \\\n",
       "14619  ddc3017ca5  WTF facebook just cleared out my whole survey ...   \n",
       "25779  3e6cc1a2d8  Back from LAAANDAN.  Miss it already   check o...   \n",
       "\n",
       "                                           selected_text sentiment  \n",
       "14619  WTF facebook just cleared out my whole survey ...  positive  \n",
       "25779                                    Miss it already  negative  "
      ]
     },
     "execution_count": 122,
     "metadata": {},
     "output_type": "execute_result"
    }
   ],
   "source": [
    "X_train.head(2)"
   ]
  },
  {
   "cell_type": "code",
   "execution_count": 123,
   "id": "b9a30027",
   "metadata": {},
   "outputs": [
    {
     "data": {
      "text/html": [
       "<div>\n",
       "<style scoped>\n",
       "    .dataframe tbody tr th:only-of-type {\n",
       "        vertical-align: middle;\n",
       "    }\n",
       "\n",
       "    .dataframe tbody tr th {\n",
       "        vertical-align: top;\n",
       "    }\n",
       "\n",
       "    .dataframe thead th {\n",
       "        text-align: right;\n",
       "    }\n",
       "</style>\n",
       "<table border=\"1\" class=\"dataframe\">\n",
       "  <thead>\n",
       "    <tr style=\"text-align: right;\">\n",
       "      <th></th>\n",
       "      <th>textID</th>\n",
       "      <th>text</th>\n",
       "      <th>selected_text</th>\n",
       "      <th>sentiment</th>\n",
       "    </tr>\n",
       "  </thead>\n",
       "  <tbody>\n",
       "    <tr>\n",
       "      <th>1588</th>\n",
       "      <td>a7f72a928a</td>\n",
       "      <td>WOOOOOOOOOO   are you coming to Nottingham at...</td>\n",
       "      <td>t?  lovelovelove</td>\n",
       "      <td>positive</td>\n",
       "    </tr>\n",
       "    <tr>\n",
       "      <th>23879</th>\n",
       "      <td>ef42dee96c</td>\n",
       "      <td>resting had a whole day of walking</td>\n",
       "      <td>resting had a whole day of walking</td>\n",
       "      <td>neutral</td>\n",
       "    </tr>\n",
       "  </tbody>\n",
       "</table>\n",
       "</div>"
      ],
      "text/plain": [
       "           textID                                               text  \\\n",
       "1588   a7f72a928a   WOOOOOOOOOO   are you coming to Nottingham at...   \n",
       "23879  ef42dee96c                 resting had a whole day of walking   \n",
       "\n",
       "                            selected_text sentiment  \n",
       "1588                     t?  lovelovelove  positive  \n",
       "23879  resting had a whole day of walking   neutral  "
      ]
     },
     "execution_count": 123,
     "metadata": {},
     "output_type": "execute_result"
    }
   ],
   "source": [
    "X_val.head(2)"
   ]
  },
  {
   "cell_type": "code",
   "execution_count": 124,
   "id": "91ada33d",
   "metadata": {},
   "outputs": [],
   "source": [
    "## saving data.\n",
    "X_train.to_csv(\"data/X_train.csv\",index=False)\n",
    "X_val.to_csv(\"data/X_val.csv\", index = False)\n"
   ]
  },
  {
   "cell_type": "markdown",
   "id": "83a25aa5",
   "metadata": {},
   "source": [
    "## 1.2 Cleaning Data."
   ]
  },
  {
   "cell_type": "code",
   "execution_count": 207,
   "id": "822ea894",
   "metadata": {},
   "outputs": [],
   "source": [
    "import re\n",
    "import string\n",
    "\n",
    "def clean_text(text):\n",
    "    '''Make text lowercase, remove text in square brackets,remove links,remove punctuation,\n",
    "    remove words containing numbers and remove extra spaces.'''\n",
    "    text = (text).lower()\n",
    "    text = re.sub('\\[.*?\\]', '', text)\n",
    "    text = re.sub('https?://\\S+|www\\.\\S+', '', text)\n",
    "    text = re.sub('<.*?>+', '', text)\n",
    "    text = re.sub('[%s]' % re.escape(string.punctuation), '', text)\n",
    "    text = re.sub('\\n', '', text)\n",
    "    text = re.sub('\\w*\\d\\w*', '', text)\n",
    "    text = re.sub(' +', ' ', text)\n",
    "    \n",
    "    return text.strip()"
   ]
  },
  {
   "cell_type": "code",
   "execution_count": 208,
   "id": "294e5992",
   "metadata": {
    "scrolled": true
   },
   "outputs": [],
   "source": [
    "X_train[\"cleaned_text\"] = X_train.apply(lambda x: clean_text(x[\"text\"]),axis=1)\n",
    "X_val[\"cleaned_text\"] = X_val.apply(lambda x: clean_text(x[\"text\"]),axis=1)\n",
    "\n",
    "X_train[\"cleaned_selected_text\"] = X_train.apply(lambda x: clean_text(x[\"selected_text\"]),axis=1)\n",
    "X_val[\"cleaned_selected_text\"] = X_val.apply(lambda x: clean_text(x[\"selected_text\"]),axis=1)\n"
   ]
  },
  {
   "cell_type": "code",
   "execution_count": 209,
   "id": "516fada6",
   "metadata": {},
   "outputs": [
    {
     "data": {
      "text/html": [
       "<div>\n",
       "<style scoped>\n",
       "    .dataframe tbody tr th:only-of-type {\n",
       "        vertical-align: middle;\n",
       "    }\n",
       "\n",
       "    .dataframe tbody tr th {\n",
       "        vertical-align: top;\n",
       "    }\n",
       "\n",
       "    .dataframe thead th {\n",
       "        text-align: right;\n",
       "    }\n",
       "</style>\n",
       "<table border=\"1\" class=\"dataframe\">\n",
       "  <thead>\n",
       "    <tr style=\"text-align: right;\">\n",
       "      <th></th>\n",
       "      <th>textID</th>\n",
       "      <th>text</th>\n",
       "      <th>selected_text</th>\n",
       "      <th>sentiment</th>\n",
       "      <th>cleaned_text</th>\n",
       "      <th>cleaned_selected_text</th>\n",
       "    </tr>\n",
       "  </thead>\n",
       "  <tbody>\n",
       "    <tr>\n",
       "      <th>14619</th>\n",
       "      <td>ddc3017ca5</td>\n",
       "      <td>WTF facebook just cleared out my whole survey ...</td>\n",
       "      <td>WTF facebook just cleared out my whole survey ...</td>\n",
       "      <td>positive</td>\n",
       "      <td>wtf facebook just cleared out my whole survey ...</td>\n",
       "      <td>wtf facebook just cleared out my whole survey ...</td>\n",
       "    </tr>\n",
       "    <tr>\n",
       "      <th>25779</th>\n",
       "      <td>3e6cc1a2d8</td>\n",
       "      <td>Back from LAAANDAN.  Miss it already   check o...</td>\n",
       "      <td>Miss it already</td>\n",
       "      <td>negative</td>\n",
       "      <td>back from laaandan miss it already check out m...</td>\n",
       "      <td>miss it already</td>\n",
       "    </tr>\n",
       "  </tbody>\n",
       "</table>\n",
       "</div>"
      ],
      "text/plain": [
       "           textID                                               text  \\\n",
       "14619  ddc3017ca5  WTF facebook just cleared out my whole survey ...   \n",
       "25779  3e6cc1a2d8  Back from LAAANDAN.  Miss it already   check o...   \n",
       "\n",
       "                                           selected_text sentiment  \\\n",
       "14619  WTF facebook just cleared out my whole survey ...  positive   \n",
       "25779                                    Miss it already  negative   \n",
       "\n",
       "                                            cleaned_text  \\\n",
       "14619  wtf facebook just cleared out my whole survey ...   \n",
       "25779  back from laaandan miss it already check out m...   \n",
       "\n",
       "                                   cleaned_selected_text  \n",
       "14619  wtf facebook just cleared out my whole survey ...  \n",
       "25779                                    miss it already  "
      ]
     },
     "execution_count": 209,
     "metadata": {},
     "output_type": "execute_result"
    }
   ],
   "source": [
    "X_train.head(2)"
   ]
  },
  {
   "cell_type": "code",
   "execution_count": 210,
   "id": "a619ddbc",
   "metadata": {},
   "outputs": [
    {
     "data": {
      "text/html": [
       "<div>\n",
       "<style scoped>\n",
       "    .dataframe tbody tr th:only-of-type {\n",
       "        vertical-align: middle;\n",
       "    }\n",
       "\n",
       "    .dataframe tbody tr th {\n",
       "        vertical-align: top;\n",
       "    }\n",
       "\n",
       "    .dataframe thead th {\n",
       "        text-align: right;\n",
       "    }\n",
       "</style>\n",
       "<table border=\"1\" class=\"dataframe\">\n",
       "  <thead>\n",
       "    <tr style=\"text-align: right;\">\n",
       "      <th></th>\n",
       "      <th>textID</th>\n",
       "      <th>text</th>\n",
       "      <th>selected_text</th>\n",
       "      <th>sentiment</th>\n",
       "      <th>cleaned_text</th>\n",
       "      <th>cleaned_selected_text</th>\n",
       "    </tr>\n",
       "  </thead>\n",
       "  <tbody>\n",
       "    <tr>\n",
       "      <th>1588</th>\n",
       "      <td>a7f72a928a</td>\n",
       "      <td>WOOOOOOOOOO   are you coming to Nottingham at...</td>\n",
       "      <td>t?  lovelovelove</td>\n",
       "      <td>positive</td>\n",
       "      <td>woooooooooo are you coming to nottingham at an...</td>\n",
       "      <td>t lovelovelove</td>\n",
       "    </tr>\n",
       "    <tr>\n",
       "      <th>23879</th>\n",
       "      <td>ef42dee96c</td>\n",
       "      <td>resting had a whole day of walking</td>\n",
       "      <td>resting had a whole day of walking</td>\n",
       "      <td>neutral</td>\n",
       "      <td>resting had a whole day of walking</td>\n",
       "      <td>resting had a whole day of walking</td>\n",
       "    </tr>\n",
       "  </tbody>\n",
       "</table>\n",
       "</div>"
      ],
      "text/plain": [
       "           textID                                               text  \\\n",
       "1588   a7f72a928a   WOOOOOOOOOO   are you coming to Nottingham at...   \n",
       "23879  ef42dee96c                 resting had a whole day of walking   \n",
       "\n",
       "                            selected_text sentiment  \\\n",
       "1588                     t?  lovelovelove  positive   \n",
       "23879  resting had a whole day of walking   neutral   \n",
       "\n",
       "                                            cleaned_text  \\\n",
       "1588   woooooooooo are you coming to nottingham at an...   \n",
       "23879                 resting had a whole day of walking   \n",
       "\n",
       "                    cleaned_selected_text  \n",
       "1588                       t lovelovelove  \n",
       "23879  resting had a whole day of walking  "
      ]
     },
     "execution_count": 210,
     "metadata": {},
     "output_type": "execute_result"
    }
   ],
   "source": [
    "X_val.head(2)"
   ]
  },
  {
   "cell_type": "markdown",
   "id": "1c61309f",
   "metadata": {},
   "source": [
    "## 1.3 Generating Labels: start and end position"
   ]
  },
  {
   "cell_type": "code",
   "execution_count": 211,
   "id": "32190318",
   "metadata": {},
   "outputs": [
    {
     "data": {
      "text/plain": [
       "True"
      ]
     },
     "execution_count": 211,
     "metadata": {},
     "output_type": "execute_result"
    }
   ],
   "source": [
    "\"a\" == \"a\""
   ]
  },
  {
   "cell_type": "code",
   "execution_count": 212,
   "id": "65bfe565",
   "metadata": {},
   "outputs": [
    {
     "name": "stdout",
     "output_type": "stream",
     "text": [
      "b\n"
     ]
    }
   ],
   "source": [
    "print(X_train[\"cleaned_text\"].iloc[1][0])"
   ]
  },
  {
   "cell_type": "code",
   "execution_count": 213,
   "id": "62679ed3",
   "metadata": {},
   "outputs": [
    {
     "data": {
      "text/plain": [
       "121"
      ]
     },
     "execution_count": 213,
     "metadata": {},
     "output_type": "execute_result"
    }
   ],
   "source": [
    "len(X_train[\"cleaned_selected_text\"].iloc[0])"
   ]
  },
  {
   "cell_type": "code",
   "execution_count": null,
   "id": "df6be50e",
   "metadata": {},
   "outputs": [],
   "source": []
  },
  {
   "cell_type": "code",
   "execution_count": 202,
   "id": "573ade63",
   "metadata": {},
   "outputs": [
    {
     "data": {
      "text/plain": [
       "'wtf facebook just cleared out my whole survey and i was on the last q this night gets better and better  what else is next'"
      ]
     },
     "execution_count": 202,
     "metadata": {},
     "output_type": "execute_result"
    }
   ],
   "source": [
    "X_train[\"cleaned_text\"].iloc[0]"
   ]
  },
  {
   "cell_type": "code",
   "execution_count": 203,
   "id": "0eb45d94",
   "metadata": {},
   "outputs": [
    {
     "data": {
      "text/plain": [
       "'wtf facebook just cleared out my whole survey and i was on the last q this night gets better and better  what else is next'"
      ]
     },
     "execution_count": 203,
     "metadata": {},
     "output_type": "execute_result"
    }
   ],
   "source": [
    "X_train[\"cleaned_selected_text\"].iloc[0]"
   ]
  },
  {
   "cell_type": "code",
   "execution_count": 204,
   "id": "d168acfb",
   "metadata": {
    "scrolled": true
   },
   "outputs": [
    {
     "name": "stdout",
     "output_type": "stream",
     "text": [
      "True\n",
      "0\n"
     ]
    }
   ],
   "source": [
    "start_positions = []\n",
    "end_positions = []\n",
    "\n",
    "offset_map = []\n",
    "for idx in range(X_train.shape[0]):\n",
    "    text = (X_train[\"cleaned_text\"].iloc[0])\n",
    "    selected_text = (X_train[\"cleaned_selected_text\"].iloc[0])\n",
    "    \n",
    "    \n",
    "    ## creating offset map: that contains a tuple of start and end char position of a word.\n",
    "    words = text.split()\n",
    "    offset = []\n",
    "    for word in words:\n",
    "        count = 0\n",
    "        start_char = 0\n",
    "        end\n",
    "            \n",
    "        \n",
    "        \n",
    "        \n",
    "                \n",
    "                \n",
    "            if text[i] == \n",
    "    for i in range(len(text)):\n",
    "        count = i\n",
    "        for ch in selected_text:\n",
    "            flag = True\n",
    "            if text[count]== ch:\n",
    "                count +=1\n",
    "            else:\n",
    "                flag = False\n",
    "                break\n",
    "        print(flag)\n",
    "        print(i)   \n",
    "        if flag:\n",
    "            start_pos = i\n",
    "            break\n",
    "        \n",
    "    break\n",
    "        \n",
    "        \n",
    "                \n",
    "              \n",
    "    \n",
    "    "
   ]
  },
  {
   "cell_type": "markdown",
   "id": "d38d1cc7",
   "metadata": {},
   "source": [
    "## 1.4 Tokenization"
   ]
  },
  {
   "cell_type": "markdown",
   "id": "14640537",
   "metadata": {},
   "source": [
    "# 2. Creating the Recurrent Neural Network using LSTM cell. "
   ]
  },
  {
   "cell_type": "markdown",
   "id": "48a4f51c",
   "metadata": {},
   "source": [
    "# 3. Training the RNN."
   ]
  },
  {
   "cell_type": "markdown",
   "id": "c03fc592",
   "metadata": {},
   "source": [
    "# 4. Evaluation using Jaccard Similarity metric."
   ]
  },
  {
   "cell_type": "markdown",
   "id": "8649a607",
   "metadata": {},
   "source": [
    "# 5. Result(s)"
   ]
  },
  {
   "cell_type": "markdown",
   "id": "8e5ad542",
   "metadata": {},
   "source": [
    "# 6. Choosing the best model to predict on test set. "
   ]
  },
  {
   "cell_type": "code",
   "execution_count": null,
   "id": "b4f02781",
   "metadata": {},
   "outputs": [],
   "source": []
  }
 ],
 "metadata": {
  "kernelspec": {
   "display_name": "Python 3",
   "language": "python",
   "name": "python3"
  },
  "language_info": {
   "codemirror_mode": {
    "name": "ipython",
    "version": 3
   },
   "file_extension": ".py",
   "mimetype": "text/x-python",
   "name": "python",
   "nbconvert_exporter": "python",
   "pygments_lexer": "ipython3",
   "version": "3.8.8"
  }
 },
 "nbformat": 4,
 "nbformat_minor": 5
}
