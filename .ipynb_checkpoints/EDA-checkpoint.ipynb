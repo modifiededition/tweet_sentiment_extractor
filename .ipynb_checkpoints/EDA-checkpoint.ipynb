{
 "cells": [
  {
   "cell_type": "markdown",
   "id": "96beb977",
   "metadata": {},
   "source": [
    "# Twitter Sentiment Extractor EDA"
   ]
  },
  {
   "cell_type": "markdown",
   "id": "951af0ed",
   "metadata": {},
   "source": [
    "## Objective: In this competition, it is been asked to extract out the part of the tweet(word or phrase) that refelcts the sentiment."
   ]
  },
  {
   "cell_type": "code",
   "execution_count": 11,
   "id": "dc0215bd",
   "metadata": {},
   "outputs": [],
   "source": [
    "import re\n",
    "import string\n",
    "import numpy as np \n",
    "import random\n",
    "import pandas as pd \n",
    "import matplotlib.pyplot as plt\n",
    "import seaborn as sns\n",
    "%matplotlib inline\n",
    "from plotly import graph_objs as go\n",
    "import plotly.express as px\n",
    "import plotly.figure_factory as ff\n",
    "from collections import Counter\n",
    "\n",
    "from PIL import Image\n",
    "from wordcloud import WordCloud, STOPWORDS, ImageColorGenerator\n",
    "\n",
    "\n",
    "import nltk\n",
    "from nltk.corpus import stopwords\n",
    "\n",
    "from tqdm import tqdm\n",
    "import os\n",
    "import nltk\n",
    "import spacy\n",
    "import random\n",
    "from spacy.util import compounding\n",
    "from spacy.util import minibatch\n",
    "\n",
    "import warnings\n",
    "warnings.filterwarnings(\"ignore\")\n",
    "\n",
    "\n"
   ]
  },
  {
   "cell_type": "markdown",
   "id": "7ce4ddb3",
   "metadata": {},
   "source": [
    "## 1. Reading the data"
   ]
  },
  {
   "cell_type": "code",
   "execution_count": 13,
   "id": "d64cdd32",
   "metadata": {},
   "outputs": [
    {
     "name": "stdout",
     "output_type": "stream",
     "text": [
      "Shape of the train data:  (27481, 4)\n",
      "Shape of the test data:  (3534, 3)\n"
     ]
    }
   ],
   "source": [
    "train_df = pd.read_csv(\"data/train.csv\")\n",
    "test_df = pd.read_csv(\"data/test.csv\")\n",
    "\n",
    "print(\"Shape of the train data: \", train_df.shape)\n",
    "print(\"Shape of the test data: \", test_df.shape)"
   ]
  },
  {
   "cell_type": "code",
   "execution_count": 14,
   "id": "89003d14",
   "metadata": {},
   "outputs": [
    {
     "data": {
      "text/html": [
       "<div>\n",
       "<style scoped>\n",
       "    .dataframe tbody tr th:only-of-type {\n",
       "        vertical-align: middle;\n",
       "    }\n",
       "\n",
       "    .dataframe tbody tr th {\n",
       "        vertical-align: top;\n",
       "    }\n",
       "\n",
       "    .dataframe thead th {\n",
       "        text-align: right;\n",
       "    }\n",
       "</style>\n",
       "<table border=\"1\" class=\"dataframe\">\n",
       "  <thead>\n",
       "    <tr style=\"text-align: right;\">\n",
       "      <th></th>\n",
       "      <th>textID</th>\n",
       "      <th>text</th>\n",
       "      <th>selected_text</th>\n",
       "      <th>sentiment</th>\n",
       "    </tr>\n",
       "  </thead>\n",
       "  <tbody>\n",
       "    <tr>\n",
       "      <th>0</th>\n",
       "      <td>cb774db0d1</td>\n",
       "      <td>I`d have responded, if I were going</td>\n",
       "      <td>I`d have responded, if I were going</td>\n",
       "      <td>neutral</td>\n",
       "    </tr>\n",
       "    <tr>\n",
       "      <th>1</th>\n",
       "      <td>549e992a42</td>\n",
       "      <td>Sooo SAD I will miss you here in San Diego!!!</td>\n",
       "      <td>Sooo SAD</td>\n",
       "      <td>negative</td>\n",
       "    </tr>\n",
       "  </tbody>\n",
       "</table>\n",
       "</div>"
      ],
      "text/plain": [
       "       textID                                            text  \\\n",
       "0  cb774db0d1             I`d have responded, if I were going   \n",
       "1  549e992a42   Sooo SAD I will miss you here in San Diego!!!   \n",
       "\n",
       "                         selected_text sentiment  \n",
       "0  I`d have responded, if I were going   neutral  \n",
       "1                             Sooo SAD  negative  "
      ]
     },
     "execution_count": 14,
     "metadata": {},
     "output_type": "execute_result"
    }
   ],
   "source": [
    "train_df.head(2)"
   ]
  },
  {
   "cell_type": "code",
   "execution_count": 17,
   "id": "9db2693a",
   "metadata": {},
   "outputs": [
    {
     "name": "stdout",
     "output_type": "stream",
     "text": [
      "<class 'pandas.core.frame.DataFrame'>\n",
      "RangeIndex: 27481 entries, 0 to 27480\n",
      "Data columns (total 4 columns):\n",
      " #   Column         Non-Null Count  Dtype \n",
      "---  ------         --------------  ----- \n",
      " 0   textID         27481 non-null  object\n",
      " 1   text           27480 non-null  object\n",
      " 2   selected_text  27480 non-null  object\n",
      " 3   sentiment      27481 non-null  object\n",
      "dtypes: object(4)\n",
      "memory usage: 858.9+ KB\n"
     ]
    }
   ],
   "source": [
    "train_df.info()"
   ]
  },
  {
   "cell_type": "code",
   "execution_count": 28,
   "id": "6397560e",
   "metadata": {},
   "outputs": [
    {
     "name": "stdout",
     "output_type": "stream",
     "text": [
      "<class 'pandas.core.frame.DataFrame'>\n",
      "RangeIndex: 3534 entries, 0 to 3533\n",
      "Data columns (total 3 columns):\n",
      " #   Column     Non-Null Count  Dtype \n",
      "---  ------     --------------  ----- \n",
      " 0   textID     3534 non-null   object\n",
      " 1   text       3534 non-null   object\n",
      " 2   sentiment  3534 non-null   object\n",
      "dtypes: object(3)\n",
      "memory usage: 83.0+ KB\n"
     ]
    }
   ],
   "source": [
    "test_df.info()"
   ]
  },
  {
   "cell_type": "code",
   "execution_count": 153,
   "id": "9d54aed5",
   "metadata": {},
   "outputs": [
    {
     "name": "stdout",
     "output_type": "stream",
     "text": [
      "Positive Tweet example : 2am feedings for the baby are fun when he is all smiles and coos\n",
      "Negative Tweet example :  Sooo SAD I will miss you here in San Diego!!!\n",
      "Neutral tweet example  :  I`d have responded, if I were going\n"
     ]
    }
   ],
   "source": [
    "# Positive tweet\n",
    "print(\"Positive Tweet example :\",train_df[train_df['sentiment']=='positive']['text'].values[0])\n",
    "#negative_text\n",
    "print(\"Negative Tweet example :\",train_df[train_df['sentiment']=='negative']['text'].values[0])\n",
    "#neutral_text\n",
    "print(\"Neutral tweet example  :\",train_df[train_df['sentiment']=='neutral']['text'].values[0])"
   ]
  },
  {
   "cell_type": "markdown",
   "id": "599ce92d",
   "metadata": {},
   "source": [
    "### Observation(s):\n",
    "- There are 27,481 samples in the train data.\n",
    "- As we can see, from the train info. there is one sample which contains null value.\n",
    "- And there is no Null value in the test data."
   ]
  },
  {
   "cell_type": "markdown",
   "id": "6fe5ad65",
   "metadata": {},
   "source": [
    "## 2. Dropping Nan value."
   ]
  },
  {
   "cell_type": "code",
   "execution_count": 26,
   "id": "ed143c52",
   "metadata": {},
   "outputs": [
    {
     "data": {
      "text/html": [
       "<div>\n",
       "<style scoped>\n",
       "    .dataframe tbody tr th:only-of-type {\n",
       "        vertical-align: middle;\n",
       "    }\n",
       "\n",
       "    .dataframe tbody tr th {\n",
       "        vertical-align: top;\n",
       "    }\n",
       "\n",
       "    .dataframe thead th {\n",
       "        text-align: right;\n",
       "    }\n",
       "</style>\n",
       "<table border=\"1\" class=\"dataframe\">\n",
       "  <thead>\n",
       "    <tr style=\"text-align: right;\">\n",
       "      <th></th>\n",
       "      <th>textID</th>\n",
       "      <th>text</th>\n",
       "      <th>selected_text</th>\n",
       "      <th>sentiment</th>\n",
       "    </tr>\n",
       "  </thead>\n",
       "  <tbody>\n",
       "    <tr>\n",
       "      <th>314</th>\n",
       "      <td>fdb77c3752</td>\n",
       "      <td>NaN</td>\n",
       "      <td>NaN</td>\n",
       "      <td>neutral</td>\n",
       "    </tr>\n",
       "  </tbody>\n",
       "</table>\n",
       "</div>"
      ],
      "text/plain": [
       "         textID text selected_text sentiment\n",
       "314  fdb77c3752  NaN           NaN   neutral"
      ]
     },
     "execution_count": 26,
     "metadata": {},
     "output_type": "execute_result"
    }
   ],
   "source": [
    "train_df[train_df.isna().any(1)]"
   ]
  },
  {
   "cell_type": "code",
   "execution_count": 27,
   "id": "44944131",
   "metadata": {},
   "outputs": [],
   "source": [
    "train_df.dropna(inplace=True)"
   ]
  },
  {
   "cell_type": "code",
   "execution_count": 29,
   "id": "77f601e2",
   "metadata": {},
   "outputs": [
    {
     "data": {
      "text/plain": [
       "(27480, 4)"
      ]
     },
     "execution_count": 29,
     "metadata": {},
     "output_type": "execute_result"
    }
   ],
   "source": [
    "train_df.shape"
   ]
  },
  {
   "cell_type": "markdown",
   "id": "11eae5f1",
   "metadata": {},
   "source": [
    "## 3. Distribution of  sentiments in the train data."
   ]
  },
  {
   "cell_type": "code",
   "execution_count": 39,
   "id": "805ad80a",
   "metadata": {},
   "outputs": [
    {
     "data": {
      "text/html": [
       "<style  type=\"text/css\" >\n",
       "#T_a8b1e_row0_col1{\n",
       "            background-color:  #67000d;\n",
       "            color:  #f1f1f1;\n",
       "        }#T_a8b1e_row1_col1{\n",
       "            background-color:  #fcbea5;\n",
       "            color:  #000000;\n",
       "        }#T_a8b1e_row2_col1{\n",
       "            background-color:  #fff5f0;\n",
       "            color:  #000000;\n",
       "        }</style><table id=\"T_a8b1e_\" ><thead>    <tr>        <th class=\"blank level0\" ></th>        <th class=\"col_heading level0 col0\" >sentiment</th>        <th class=\"col_heading level0 col1\" >text</th>    </tr></thead><tbody>\n",
       "                <tr>\n",
       "                        <th id=\"T_a8b1e_level0_row0\" class=\"row_heading level0 row0\" >1</th>\n",
       "                        <td id=\"T_a8b1e_row0_col0\" class=\"data row0 col0\" >neutral</td>\n",
       "                        <td id=\"T_a8b1e_row0_col1\" class=\"data row0 col1\" >11117</td>\n",
       "            </tr>\n",
       "            <tr>\n",
       "                        <th id=\"T_a8b1e_level0_row1\" class=\"row_heading level0 row1\" >2</th>\n",
       "                        <td id=\"T_a8b1e_row1_col0\" class=\"data row1 col0\" >positive</td>\n",
       "                        <td id=\"T_a8b1e_row1_col1\" class=\"data row1 col1\" >8582</td>\n",
       "            </tr>\n",
       "            <tr>\n",
       "                        <th id=\"T_a8b1e_level0_row2\" class=\"row_heading level0 row2\" >0</th>\n",
       "                        <td id=\"T_a8b1e_row2_col0\" class=\"data row2 col0\" >negative</td>\n",
       "                        <td id=\"T_a8b1e_row2_col1\" class=\"data row2 col1\" >7781</td>\n",
       "            </tr>\n",
       "    </tbody></table>"
      ],
      "text/plain": [
       "<pandas.io.formats.style.Styler at 0x2005e29a790>"
      ]
     },
     "execution_count": 39,
     "metadata": {},
     "output_type": "execute_result"
    }
   ],
   "source": [
    "tweets_group = train_df.groupby(\"sentiment\").count()[\"text\"].reset_index().sort_values(by = \"text\",ascending=False)\n",
    "tweets_group.style.background_gradient(cmap=\"Reds\")"
   ]
  },
  {
   "cell_type": "code",
   "execution_count": 47,
   "id": "f33fc66c",
   "metadata": {},
   "outputs": [
    {
     "data": {
      "image/png": "[encoded data removed]",
      "text/plain": [
       "<Figure size 432x288 with 1 Axes>"
      ]
     },
     "metadata": {
      "needs_background": "light"
     },
     "output_type": "display_data"
    }
   ],
   "source": [
    "plt.figure(figsize=(6,4))\n",
    "sns.countplot(x = \"sentiment\", data = train_df)\n",
    "plt.show()"
   ]
  },
  {
   "cell_type": "code",
   "execution_count": null,
   "id": "a4bd6134",
   "metadata": {},
   "outputs": [],
   "source": [
    "### 3.1 "
   ]
  },
  {
   "cell_type": "markdown",
   "id": "5e59b9dc",
   "metadata": {},
   "source": [
    "### Observation(s):\n",
    "- As we can observe, frequency of tweets with the neutral sentiment is highest, followed by positve and then negative sentiment."
   ]
  },
  {
   "cell_type": "markdown",
   "id": "a284e4e1",
   "metadata": {},
   "source": [
    "## 4. Generaing some Meta-features."
   ]
  },
  {
   "cell_type": "code",
   "execution_count": 50,
   "id": "6f928335",
   "metadata": {},
   "outputs": [],
   "source": [
    "def jaccard_score(text1, text2):\n",
    "    set1 = set(text1.lower().split())\n",
    "    set2 = set(text2.lower().split())\n",
    "    intersection = set1.intersection(set2)\n",
    "    \n",
    "    score = float(len(intersection) / (len(set1) + len(set2) - len(intersection)))\n",
    "    return score\n",
    "\n"
   ]
  },
  {
   "cell_type": "code",
   "execution_count": 56,
   "id": "a1ae3631",
   "metadata": {
    "scrolled": true
   },
   "outputs": [
    {
     "data": {
      "text/html": [
       "<div>\n",
       "<style scoped>\n",
       "    .dataframe tbody tr th:only-of-type {\n",
       "        vertical-align: middle;\n",
       "    }\n",
       "\n",
       "    .dataframe tbody tr th {\n",
       "        vertical-align: top;\n",
       "    }\n",
       "\n",
       "    .dataframe thead th {\n",
       "        text-align: right;\n",
       "    }\n",
       "</style>\n",
       "<table border=\"1\" class=\"dataframe\">\n",
       "  <thead>\n",
       "    <tr style=\"text-align: right;\">\n",
       "      <th></th>\n",
       "      <th>textID</th>\n",
       "      <th>text</th>\n",
       "      <th>selected_text</th>\n",
       "      <th>sentiment</th>\n",
       "      <th>jaccard_score</th>\n",
       "      <th>num_words_text</th>\n",
       "      <th>num_words_selected_text</th>\n",
       "      <th>difference_in_words</th>\n",
       "    </tr>\n",
       "  </thead>\n",
       "  <tbody>\n",
       "    <tr>\n",
       "      <th>0</th>\n",
       "      <td>cb774db0d1</td>\n",
       "      <td>I`d have responded, if I were going</td>\n",
       "      <td>I`d have responded, if I were going</td>\n",
       "      <td>neutral</td>\n",
       "      <td>1.000000</td>\n",
       "      <td>7</td>\n",
       "      <td>7</td>\n",
       "      <td>0</td>\n",
       "    </tr>\n",
       "    <tr>\n",
       "      <th>1</th>\n",
       "      <td>549e992a42</td>\n",
       "      <td>Sooo SAD I will miss you here in San Diego!!!</td>\n",
       "      <td>Sooo SAD</td>\n",
       "      <td>negative</td>\n",
       "      <td>0.200000</td>\n",
       "      <td>10</td>\n",
       "      <td>2</td>\n",
       "      <td>8</td>\n",
       "    </tr>\n",
       "    <tr>\n",
       "      <th>2</th>\n",
       "      <td>088c60f138</td>\n",
       "      <td>my boss is bullying me...</td>\n",
       "      <td>bullying me</td>\n",
       "      <td>negative</td>\n",
       "      <td>0.166667</td>\n",
       "      <td>5</td>\n",
       "      <td>2</td>\n",
       "      <td>3</td>\n",
       "    </tr>\n",
       "  </tbody>\n",
       "</table>\n",
       "</div>"
      ],
      "text/plain": [
       "       textID                                            text  \\\n",
       "0  cb774db0d1             I`d have responded, if I were going   \n",
       "1  549e992a42   Sooo SAD I will miss you here in San Diego!!!   \n",
       "2  088c60f138                       my boss is bullying me...   \n",
       "\n",
       "                         selected_text sentiment  jaccard_score  \\\n",
       "0  I`d have responded, if I were going   neutral       1.000000   \n",
       "1                             Sooo SAD  negative       0.200000   \n",
       "2                          bullying me  negative       0.166667   \n",
       "\n",
       "   num_words_text  num_words_selected_text  difference_in_words  \n",
       "0               7                        7                    0  \n",
       "1              10                        2                    8  \n",
       "2               5                        2                    3  "
      ]
     },
     "execution_count": 56,
     "metadata": {},
     "output_type": "execute_result"
    }
   ],
   "source": [
    "\n",
    "# Checking the simmilarity of words between text and select_text columns using Jaccard Similarity/jaccard score.\n",
    "train_df[\"jaccard_score\"] = train_df.apply(lambda x : jaccard_score(x[\"text\"],x[\"selected_text\"]),axis=1)\n",
    "\n",
    "# Number of words in text column.\n",
    "train_df[\"num_words_text\"] = train_df.apply(lambda x: len(x[\"text\"].split()), axis=1)\n",
    "\n",
    "\n",
    "# Number of words in selected_text column.\n",
    "train_df[\"num_words_selected_text\"] = train_df.apply(lambda x: len(x[\"selected_text\"].split()),axis=1)\n",
    "\n",
    "\n",
    "# Difference of words between select_text and text columns.\n",
    "train_df[\"difference_in_words\"] = train_df[\"num_words_text\"] - train_df[\"num_words_selected_text\"]\n",
    "\n",
    "train_df.head(3)\n",
    "\n"
   ]
  },
  {
   "cell_type": "markdown",
   "id": "b8288644",
   "metadata": {},
   "source": [
    "###  4.1 Let's see the distribution of the meta features."
   ]
  },
  {
   "cell_type": "code",
   "execution_count": 87,
   "id": "beafd95a",
   "metadata": {},
   "outputs": [
    {
     "data": {
      "image/png": "[encoded data removed]",
      "text/plain": [
       "<Figure size 720x432 with 1 Axes>"
      ]
     },
     "metadata": {
      "needs_background": "light"
     },
     "output_type": "display_data"
    }
   ],
   "source": [
    "plt.figure(figsize=(10,6))\n",
    "sns.kdeplot(train_df[\"num_words_text\"],shade=True,color=\"r\").set_title(\"Kernel Distribution of Number of words\")\n",
    "sns.kdeplot(train_df[\"num_words_selected_text\"],shade= True,color='b')\n",
    "plt.legend([\"num_words_text\",\"num_words_selected_text\"],loc = \"upper right\")\n",
    "plt.show()"
   ]
  },
  {
   "cell_type": "code",
   "execution_count": 97,
   "id": "04cb790c",
   "metadata": {},
   "outputs": [
    {
     "name": "stdout",
     "output_type": "stream",
     "text": [
      "50th Percentile of seletect_text with number of words less than equal to:   4.0\n",
      "****************************************************************************************************\n",
      "50th Percentile of text with number of words less than equal to:   12.0\n"
     ]
    }
   ],
   "source": [
    "print(\"50th Percentile of seletect_text with number of words less than equal to:  \",np.percentile(train_df[\"num_words_selected_text\"],[50])[0])\n",
    "print(\"*\"*100)\n",
    "print(\"50th Percentile of text with number of words less than equal to:  \",np.percentile(train_df[\"num_words_text\"],[50])[0])"
   ]
  },
  {
   "cell_type": "markdown",
   "id": "aae382b6",
   "metadata": {},
   "source": [
    "#### observation(s):\n",
    "- Selected_text has high frequency of text with length of 1,2, 3 and 4 as 50% of the samples have length less than 4.\n",
    "- Distribution of text is right skewed, as there are very fewer tweets with length greater than 25"
   ]
  },
  {
   "cell_type": "markdown",
   "id": "5983ab55",
   "metadata": {},
   "source": [
    "### 4.2. Distribution of difference of words across  differnet sentiment."
   ]
  },
  {
   "cell_type": "code",
   "execution_count": 105,
   "id": "1d27bae0",
   "metadata": {},
   "outputs": [
    {
     "data": {
      "image/png": "[encoded data removed]",
      "text/plain": [
       "<Figure size 1080x432 with 2 Axes>"
      ]
     },
     "metadata": {
      "needs_background": "light"
     },
     "output_type": "display_data"
    }
   ],
   "source": [
    "fig, (ax1,ax2) = plt.subplots(1,2,figsize=(15,6))\n",
    "\n",
    "sns.kdeplot(train_df[train_df[\"sentiment\"]==\"positive\"][\"difference_in_words\"],shade=True,color=\"r\",ax=ax1).set_title(\"Kernel Distribution of difference of words across positive and negative sentiment.\")\n",
    "sns.kdeplot(train_df[train_df[\"sentiment\"]==\"negative\"][\"difference_in_words\"],shade= True,color='b',ax=ax1)\n",
    "\n",
    "sns.distplot(train_df[train_df[\"sentiment\"]==\"neutral\"][\"difference_in_words\"],kde=False,ax=ax2).set_title(\"Histogram of difference of words across neutral sentiment.\")\n",
    "\n",
    "ax1.legend([\"positive sentiment\",\"negative sentiment\"],loc = \"upper right\")\n",
    "ax2.legend([\"neutral sentiment\"],loc=\"upper right\")\n",
    "ax2.grid()\n",
    "\n",
    "plt.tight_layout()\n",
    "plt.show()\n"
   ]
  },
  {
   "cell_type": "markdown",
   "id": "5d9b0e81",
   "metadata": {},
   "source": [
    "### Observation(s):\n",
    "- We can clearly see the difference of words between tweet text and selected_text for neutral is 0.\n",
    "- And difference of text between tweet text and selected_text for positive and negative have almost same distribution."
   ]
  },
  {
   "cell_type": "markdown",
   "id": "35a4ece6",
   "metadata": {},
   "source": [
    "### 4.3. Distribution of difference of Jaccard Score across  differnet sentiment."
   ]
  },
  {
   "cell_type": "code",
   "execution_count": 106,
   "id": "b882a191",
   "metadata": {},
   "outputs": [
    {
     "data": {
      "image/png": "[encoded data removed]",
      "text/plain": [
       "<Figure size 1080x432 with 2 Axes>"
      ]
     },
     "metadata": {
      "needs_background": "light"
     },
     "output_type": "display_data"
    }
   ],
   "source": [
    "fig, (ax1,ax2) = plt.subplots(1,2,figsize=(15,6))\n",
    "\n",
    "sns.kdeplot(train_df[train_df[\"sentiment\"]==\"positive\"][\"jaccard_score\"],shade=True,color=\"r\",ax=ax1).set_title(\"Kernel Distribution of jaccard score across positive and negative sentiment.\")\n",
    "sns.kdeplot(train_df[train_df[\"sentiment\"]==\"negative\"][\"jaccard_score\"],shade= True,color='b',ax=ax1)\n",
    "\n",
    "sns.distplot(train_df[train_df[\"sentiment\"]==\"neutral\"][\"jaccard_score\"],kde=False,ax=ax2).set_title(\"Histogram of jaccard score across neutral sentiment.\")\n",
    "\n",
    "ax1.legend([\"positive sentiment\",\"negative sentiment\"],loc = \"upper right\")\n",
    "ax2.legend([\"neutral sentiment\"],loc=\"upper right\")\n",
    "ax2.grid()\n",
    "\n",
    "plt.tight_layout()\n",
    "plt.show()\n"
   ]
  },
  {
   "cell_type": "markdown",
   "id": "9ff0759d",
   "metadata": {},
   "source": [
    "### Obervation(s):\n",
    "\n",
    "- Jaccard score i.e similarity of text between tweet and seletect_text is 1.0 for almost evert sample in case of neutral sentiment.\n",
    "- And from the distribution of jaccard score for positve and negative sentiment, we can see there is small cluster aroung 1.0 which means there is small number of samples for which we can predict it's selected text as tweet text directly."
   ]
  },
  {
   "cell_type": "markdown",
   "id": "0cf4a0ca",
   "metadata": {},
   "source": [
    "## 5. Most Common words in tweets sentiment wise (with removal of stop words):"
   ]
  },
  {
   "cell_type": "code",
   "execution_count": 124,
   "id": "babdd68b",
   "metadata": {},
   "outputs": [
    {
     "data": {
      "text/html": [
       "<div>\n",
       "<style scoped>\n",
       "    .dataframe tbody tr th:only-of-type {\n",
       "        vertical-align: middle;\n",
       "    }\n",
       "\n",
       "    .dataframe tbody tr th {\n",
       "        vertical-align: top;\n",
       "    }\n",
       "\n",
       "    .dataframe thead th {\n",
       "        text-align: right;\n",
       "    }\n",
       "</style>\n",
       "<table border=\"1\" class=\"dataframe\">\n",
       "  <thead>\n",
       "    <tr style=\"text-align: right;\">\n",
       "      <th></th>\n",
       "      <th>textID</th>\n",
       "      <th>text</th>\n",
       "      <th>selected_text</th>\n",
       "      <th>sentiment</th>\n",
       "      <th>jaccard_score</th>\n",
       "      <th>num_words_text</th>\n",
       "      <th>num_words_selected_text</th>\n",
       "      <th>difference_in_words</th>\n",
       "      <th>temp_text</th>\n",
       "      <th>temp_selected_text</th>\n",
       "    </tr>\n",
       "  </thead>\n",
       "  <tbody>\n",
       "    <tr>\n",
       "      <th>0</th>\n",
       "      <td>cb774db0d1</td>\n",
       "      <td>I`d have responded, if I were going</td>\n",
       "      <td>I`d have responded, if I were going</td>\n",
       "      <td>neutral</td>\n",
       "      <td>1.0</td>\n",
       "      <td>7</td>\n",
       "      <td>7</td>\n",
       "      <td>0</td>\n",
       "      <td>i`d  responded,    going</td>\n",
       "      <td>i`d  responded,    going</td>\n",
       "    </tr>\n",
       "    <tr>\n",
       "      <th>1</th>\n",
       "      <td>549e992a42</td>\n",
       "      <td>Sooo SAD I will miss you here in San Diego!!!</td>\n",
       "      <td>Sooo SAD</td>\n",
       "      <td>negative</td>\n",
       "      <td>0.2</td>\n",
       "      <td>10</td>\n",
       "      <td>2</td>\n",
       "      <td>8</td>\n",
       "      <td>sooo sad   miss    san diego!!!</td>\n",
       "      <td>sooo sad</td>\n",
       "    </tr>\n",
       "  </tbody>\n",
       "</table>\n",
       "</div>"
      ],
      "text/plain": [
       "       textID                                            text  \\\n",
       "0  cb774db0d1             I`d have responded, if I were going   \n",
       "1  549e992a42   Sooo SAD I will miss you here in San Diego!!!   \n",
       "\n",
       "                         selected_text sentiment  jaccard_score  \\\n",
       "0  I`d have responded, if I were going   neutral            1.0   \n",
       "1                             Sooo SAD  negative            0.2   \n",
       "\n",
       "   num_words_text  num_words_selected_text  difference_in_words  \\\n",
       "0               7                        7                    0   \n",
       "1              10                        2                    8   \n",
       "\n",
       "                         temp_text        temp_selected_text  \n",
       "0         i`d  responded,    going  i`d  responded,    going  \n",
       "1  sooo sad   miss    san diego!!!                  sooo sad  "
      ]
     },
     "execution_count": 124,
     "metadata": {},
     "output_type": "execute_result"
    }
   ],
   "source": [
    "## removing stop words from the tweet text and the selected_text.\n",
    "\n",
    "english_stopwords = stopwords.words(\"english\")\n",
    "def remove_stopwords(x):\n",
    "    words = x.lower().split()\n",
    "    text = \" \".join( [word if word not in english_stopwords else '' for word in words ])\n",
    "    return text\n",
    "train_df[\"temp_text\"] = train_df.apply(lambda x: remove_stopwords(x[\"text\"]),axis=1)\n",
    "train_df[\"temp_selected_text\"] = train_df.apply(lambda x: remove_stopwords(x[\"selected_text\"]),axis=1)\n",
    "train_df.head(2)"
   ]
  },
  {
   "cell_type": "markdown",
   "id": "085f82eb",
   "metadata": {},
   "source": [
    "### 5.1 Most common positive words "
   ]
  },
  {
   "cell_type": "code",
   "execution_count": 136,
   "id": "0dbade9b",
   "metadata": {
    "scrolled": true
   },
   "outputs": [
    {
     "data": {
      "text/html": [
       "<style  type=\"text/css\" >\n",
       "#T_33e92_row0_col1{\n",
       "            background-color:  #00441b;\n",
       "            color:  #f1f1f1;\n",
       "        }#T_33e92_row1_col1{\n",
       "            background-color:  #005924;\n",
       "            color:  #f1f1f1;\n",
       "        }#T_33e92_row2_col1{\n",
       "            background-color:  #006529;\n",
       "            color:  #f1f1f1;\n",
       "        }#T_33e92_row3_col1{\n",
       "            background-color:  #087432;\n",
       "            color:  #f1f1f1;\n",
       "        }#T_33e92_row4_col1{\n",
       "            background-color:  #84cc83;\n",
       "            color:  #000000;\n",
       "        }#T_33e92_row5_col1{\n",
       "            background-color:  #bae3b3;\n",
       "            color:  #000000;\n",
       "        }#T_33e92_row6_col1{\n",
       "            background-color:  #c9eac2;\n",
       "            color:  #000000;\n",
       "        }#T_33e92_row7_col1{\n",
       "            background-color:  #cdecc7;\n",
       "            color:  #000000;\n",
       "        }#T_33e92_row8_col1{\n",
       "            background-color:  #d2edcc;\n",
       "            color:  #000000;\n",
       "        }#T_33e92_row9_col1{\n",
       "            background-color:  #d5efcf;\n",
       "            color:  #000000;\n",
       "        }#T_33e92_row10_col1{\n",
       "            background-color:  #ddf2d8;\n",
       "            color:  #000000;\n",
       "        }#T_33e92_row11_col1{\n",
       "            background-color:  #e4f5df;\n",
       "            color:  #000000;\n",
       "        }#T_33e92_row12_col1{\n",
       "            background-color:  #e9f7e5;\n",
       "            color:  #000000;\n",
       "        }#T_33e92_row13_col1{\n",
       "            background-color:  #f0f9ec;\n",
       "            color:  #000000;\n",
       "        }#T_33e92_row14_col1{\n",
       "            background-color:  #f2faef;\n",
       "            color:  #000000;\n",
       "        }#T_33e92_row15_col1{\n",
       "            background-color:  #f2faf0;\n",
       "            color:  #000000;\n",
       "        }#T_33e92_row16_col1{\n",
       "            background-color:  #f4fbf1;\n",
       "            color:  #000000;\n",
       "        }#T_33e92_row17_col1,#T_33e92_row18_col1{\n",
       "            background-color:  #f5fbf2;\n",
       "            color:  #000000;\n",
       "        }#T_33e92_row19_col1{\n",
       "            background-color:  #f7fcf5;\n",
       "            color:  #000000;\n",
       "        }</style><table id=\"T_33e92_\" ><thead>    <tr>        <th class=\"blank level0\" ></th>        <th class=\"col_heading level0 col0\" >Common_words</th>        <th class=\"col_heading level0 col1\" >count</th>    </tr></thead><tbody>\n",
       "                <tr>\n",
       "                        <th id=\"T_33e92_level0_row0\" class=\"row_heading level0 row0\" >0</th>\n",
       "                        <td id=\"T_33e92_row0_col0\" class=\"data row0 col0\" >good</td>\n",
       "                        <td id=\"T_33e92_row0_col1\" class=\"data row0 col1\" >901</td>\n",
       "            </tr>\n",
       "            <tr>\n",
       "                        <th id=\"T_33e92_level0_row1\" class=\"row_heading level0 row1\" >1</th>\n",
       "                        <td id=\"T_33e92_row1_col0\" class=\"data row1 col0\" >day</td>\n",
       "                        <td id=\"T_33e92_row1_col1\" class=\"data row1 col1\" >859</td>\n",
       "            </tr>\n",
       "            <tr>\n",
       "                        <th id=\"T_33e92_level0_row2\" class=\"row_heading level0 row2\" >2</th>\n",
       "                        <td id=\"T_33e92_row2_col0\" class=\"data row2 col0\" >love</td>\n",
       "                        <td id=\"T_33e92_row2_col1\" class=\"data row2 col1\" >836</td>\n",
       "            </tr>\n",
       "            <tr>\n",
       "                        <th id=\"T_33e92_level0_row3\" class=\"row_heading level0 row3\" >3</th>\n",
       "                        <td id=\"T_33e92_row3_col0\" class=\"data row3 col0\" >happy</td>\n",
       "                        <td id=\"T_33e92_row3_col1\" class=\"data row3 col1\" >802</td>\n",
       "            </tr>\n",
       "            <tr>\n",
       "                        <th id=\"T_33e92_level0_row4\" class=\"row_heading level0 row4\" >4</th>\n",
       "                        <td id=\"T_33e92_row4_col0\" class=\"data row4 col0\" >i`m</td>\n",
       "                        <td id=\"T_33e92_row4_col1\" class=\"data row4 col1\" >555</td>\n",
       "            </tr>\n",
       "            <tr>\n",
       "                        <th id=\"T_33e92_level0_row5\" class=\"row_heading level0 row5\" >5</th>\n",
       "                        <td id=\"T_33e92_row5_col0\" class=\"data row5 col0\" >-</td>\n",
       "                        <td id=\"T_33e92_row5_col1\" class=\"data row5 col1\" >453</td>\n",
       "            </tr>\n",
       "            <tr>\n",
       "                        <th id=\"T_33e92_level0_row6\" class=\"row_heading level0 row6\" >6</th>\n",
       "                        <td id=\"T_33e92_row6_col0\" class=\"data row6 col0\" >thanks</td>\n",
       "                        <td id=\"T_33e92_row6_col1\" class=\"data row6 col1\" >420</td>\n",
       "            </tr>\n",
       "            <tr>\n",
       "                        <th id=\"T_33e92_level0_row7\" class=\"row_heading level0 row7\" >7</th>\n",
       "                        <td id=\"T_33e92_row7_col0\" class=\"data row7 col0\" >great</td>\n",
       "                        <td id=\"T_33e92_row7_col1\" class=\"data row7 col1\" >409</td>\n",
       "            </tr>\n",
       "            <tr>\n",
       "                        <th id=\"T_33e92_level0_row8\" class=\"row_heading level0 row8\" >8</th>\n",
       "                        <td id=\"T_33e92_row8_col0\" class=\"data row8 col0\" >like</td>\n",
       "                        <td id=\"T_33e92_row8_col1\" class=\"data row8 col1\" >396</td>\n",
       "            </tr>\n",
       "            <tr>\n",
       "                        <th id=\"T_33e92_level0_row9\" class=\"row_heading level0 row9\" >9</th>\n",
       "                        <td id=\"T_33e92_row9_col0\" class=\"data row9 col0\" >hope</td>\n",
       "                        <td id=\"T_33e92_row9_col1\" class=\"data row9 col1\" >389</td>\n",
       "            </tr>\n",
       "            <tr>\n",
       "                        <th id=\"T_33e92_level0_row10\" class=\"row_heading level0 row10\" >10</th>\n",
       "                        <td id=\"T_33e92_row10_col0\" class=\"data row10 col0\" >get</td>\n",
       "                        <td id=\"T_33e92_row10_col1\" class=\"data row10 col1\" >366</td>\n",
       "            </tr>\n",
       "            <tr>\n",
       "                        <th id=\"T_33e92_level0_row11\" class=\"row_heading level0 row11\" >11</th>\n",
       "                        <td id=\"T_33e92_row11_col0\" class=\"data row11 col0\" >it`s</td>\n",
       "                        <td id=\"T_33e92_row11_col1\" class=\"data row11 col1\" >350</td>\n",
       "            </tr>\n",
       "            <tr>\n",
       "                        <th id=\"T_33e92_level0_row12\" class=\"row_heading level0 row12\" >12</th>\n",
       "                        <td id=\"T_33e92_row12_col0\" class=\"data row12 col0\" >mother`s</td>\n",
       "                        <td id=\"T_33e92_row12_col1\" class=\"data row12 col1\" >329</td>\n",
       "            </tr>\n",
       "            <tr>\n",
       "                        <th id=\"T_33e92_level0_row13\" class=\"row_heading level0 row13\" >13</th>\n",
       "                        <td id=\"T_33e92_row13_col0\" class=\"data row13 col0\" >got</td>\n",
       "                        <td id=\"T_33e92_row13_col1\" class=\"data row13 col1\" >299</td>\n",
       "            </tr>\n",
       "            <tr>\n",
       "                        <th id=\"T_33e92_level0_row14\" class=\"row_heading level0 row14\" >14</th>\n",
       "                        <td id=\"T_33e92_row14_col0\" class=\"data row14 col0\" >u</td>\n",
       "                        <td id=\"T_33e92_row14_col1\" class=\"data row14 col1\" >290</td>\n",
       "            </tr>\n",
       "            <tr>\n",
       "                        <th id=\"T_33e92_level0_row15\" class=\"row_heading level0 row15\" >15</th>\n",
       "                        <td id=\"T_33e92_row15_col0\" class=\"data row15 col0\" >really</td>\n",
       "                        <td id=\"T_33e92_row15_col1\" class=\"data row15 col1\" >288</td>\n",
       "            </tr>\n",
       "            <tr>\n",
       "                        <th id=\"T_33e92_level0_row16\" class=\"row_heading level0 row16\" >16</th>\n",
       "                        <td id=\"T_33e92_row16_col0\" class=\"data row16 col0\" >nice</td>\n",
       "                        <td id=\"T_33e92_row16_col1\" class=\"data row16 col1\" >282</td>\n",
       "            </tr>\n",
       "            <tr>\n",
       "                        <th id=\"T_33e92_level0_row17\" class=\"row_heading level0 row17\" >17</th>\n",
       "                        <td id=\"T_33e92_row17_col0\" class=\"data row17 col0\" >going</td>\n",
       "                        <td id=\"T_33e92_row17_col1\" class=\"data row17 col1\" >278</td>\n",
       "            </tr>\n",
       "            <tr>\n",
       "                        <th id=\"T_33e92_level0_row18\" class=\"row_heading level0 row18\" >18</th>\n",
       "                        <td id=\"T_33e92_row18_col0\" class=\"data row18 col0\" >mothers</td>\n",
       "                        <td id=\"T_33e92_row18_col1\" class=\"data row18 col1\" >278</td>\n",
       "            </tr>\n",
       "            <tr>\n",
       "                        <th id=\"T_33e92_level0_row19\" class=\"row_heading level0 row19\" >19</th>\n",
       "                        <td id=\"T_33e92_row19_col0\" class=\"data row19 col0\" >new</td>\n",
       "                        <td id=\"T_33e92_row19_col1\" class=\"data row19 col1\" >266</td>\n",
       "            </tr>\n",
       "    </tbody></table>"
      ],
      "text/plain": [
       "<pandas.io.formats.style.Styler at 0x200629b11f0>"
      ]
     },
     "execution_count": 136,
     "metadata": {},
     "output_type": "execute_result"
    }
   ],
   "source": [
    "positive_sentiment = train_df[train_df[\"sentiment\"]==\"positive\"]\n",
    "negative_sentiment = train_df[train_df[\"sentiment\"]==\"negative\"]\n",
    "neutral_sentiment = train_df[train_df[\"sentiment\"]==\"neutral\"]\n",
    "\n",
    "top = Counter([word for sentence in positive_sentiment[\"temp_text\"] for word in sentence.split()])\n",
    "temp_positive = pd.DataFrame(top.most_common(20))\n",
    "temp_positive.columns = ['Common_words','count']\n",
    "temp_positive.style.background_gradient(cmap='Greens')"
   ]
  },
  {
   "cell_type": "code",
   "execution_count": 164,
   "id": "6d340622",
   "metadata": {
    "scrolled": false
   },
   "outputs": [
    {
     "data": {
      "application/vnd.plotly.v1+json": {
       "config": {
        "plotlyServerURL": "https://plot.ly"
       },
       "data": [
        {
         "alignmentgroup": "True",
         "hovertemplate": "Common_words=%{y}<br>count=%{x}<extra></extra>",
         "legendgroup": "i`m",
         "marker": {
          "color": "#636efa",
          "pattern": {
           "shape": ""
          }
         },
         "name": "i`m",
         "offsetgroup": "i`m",
         "orientation": "h",
         "showlegend": true,
         "textposition": "auto",
         "type": "bar",
         "x": [
          866
         ],
         "xaxis": "x",
         "y": [
          "i`m"
         ],
         "yaxis": "y"
        },
        {
         "alignmentgroup": "True",
         "hovertemplate": "Common_words=%{y}<br>count=%{x}<extra></extra>",
         "legendgroup": "like",
         "marker": {
          "color": "#EF553B",
          "pattern": {
           "shape": ""
          }
         },
         "name": "like",
         "offsetgroup": "like",
         "orientation": "h",
         "showlegend": true,
         "textposition": "auto",
         "type": "bar",
         "x": [
          464
         ],
         "xaxis": "x",
         "y": [
          "like"
         ],
         "yaxis": "y"
        },
        {
         "alignmentgroup": "True",
         "hovertemplate": "Common_words=%{y}<br>count=%{x}<extra></extra>",
         "legendgroup": "get",
         "marker": {
          "color": "#00cc96",
          "pattern": {
           "shape": ""
          }
         },
         "name": "get",
         "offsetgroup": "get",
         "orientation": "h",
         "showlegend": true,
         "textposition": "auto",
         "type": "bar",
         "x": [
          432
         ],
         "xaxis": "x",
         "y": [
          "get"
         ],
         "yaxis": "y"
        },
        {
         "alignmentgroup": "True",
         "hovertemplate": "Common_words=%{y}<br>count=%{x}<extra></extra>",
         "legendgroup": "miss",
         "marker": {
          "color": "#ab63fa",
          "pattern": {
           "shape": ""
          }
         },
         "name": "miss",
         "offsetgroup": "miss",
         "orientation": "h",
         "showlegend": true,
         "textposition": "auto",
         "type": "bar",
         "x": [
          422
         ],
         "xaxis": "x",
         "y": [
          "miss"
         ],
         "yaxis": "y"
        },
        {
         "alignmentgroup": "True",
         "hovertemplate": "Common_words=%{y}<br>count=%{x}<extra></extra>",
         "legendgroup": "****",
         "marker": {
          "color": "#FFA15A",
          "pattern": {
           "shape": ""
          }
         },
         "name": "****",
         "offsetgroup": "****",
         "orientation": "h",
         "showlegend": true,
         "textposition": "auto",
         "type": "bar",
         "x": [
          405
         ],
         "xaxis": "x",
         "y": [
          "****"
         ],
         "yaxis": "y"
        },
        {
         "alignmentgroup": "True",
         "hovertemplate": "Common_words=%{y}<br>count=%{x}<extra></extra>",
         "legendgroup": "go",
         "marker": {
          "color": "#19d3f3",
          "pattern": {
           "shape": ""
          }
         },
         "name": "go",
         "offsetgroup": "go",
         "orientation": "h",
         "showlegend": true,
         "textposition": "auto",
         "type": "bar",
         "x": [
          377
         ],
         "xaxis": "x",
         "y": [
          "go"
         ],
         "yaxis": "y"
        },
        {
         "alignmentgroup": "True",
         "hovertemplate": "Common_words=%{y}<br>count=%{x}<extra></extra>",
         "legendgroup": "it`s",
         "marker": {
          "color": "#FF6692",
          "pattern": {
           "shape": ""
          }
         },
         "name": "it`s",
         "offsetgroup": "it`s",
         "orientation": "h",
         "showlegend": true,
         "textposition": "auto",
         "type": "bar",
         "x": [
          366
         ],
         "xaxis": "x",
         "y": [
          "it`s"
         ],
         "yaxis": "y"
        },
        {
         "alignmentgroup": "True",
         "hovertemplate": "Common_words=%{y}<br>count=%{x}<extra></extra>",
         "legendgroup": "im",
         "marker": {
          "color": "#B6E880",
          "pattern": {
           "shape": ""
          }
         },
         "name": "im",
         "offsetgroup": "im",
         "orientation": "h",
         "showlegend": true,
         "textposition": "auto",
         "type": "bar",
         "x": [
          348
         ],
         "xaxis": "x",
         "y": [
          "im"
         ],
         "yaxis": "y"
        },
        {
         "alignmentgroup": "True",
         "hovertemplate": "Common_words=%{y}<br>count=%{x}<extra></extra>",
         "legendgroup": "don`t",
         "marker": {
          "color": "#FF97FF",
          "pattern": {
           "shape": ""
          }
         },
         "name": "don`t",
         "offsetgroup": "don`t",
         "orientation": "h",
         "showlegend": true,
         "textposition": "auto",
         "type": "bar",
         "x": [
          336
         ],
         "xaxis": "x",
         "y": [
          "don`t"
         ],
         "yaxis": "y"
        },
        {
         "alignmentgroup": "True",
         "hovertemplate": "Common_words=%{y}<br>count=%{x}<extra></extra>",
         "legendgroup": "can`t",
         "marker": {
          "color": "#FECB52",
          "pattern": {
           "shape": ""
          }
         },
         "name": "can`t",
         "offsetgroup": "can`t",
         "orientation": "h",
         "showlegend": true,
         "textposition": "auto",
         "type": "bar",
         "x": [
          328
         ],
         "xaxis": "x",
         "y": [
          "can`t"
         ],
         "yaxis": "y"
        },
        {
         "alignmentgroup": "True",
         "hovertemplate": "Common_words=%{y}<br>count=%{x}<extra></extra>",
         "legendgroup": "going",
         "marker": {
          "color": "#636efa",
          "pattern": {
           "shape": ""
          }
         },
         "name": "going",
         "offsetgroup": "going",
         "orientation": "h",
         "showlegend": true,
         "textposition": "auto",
         "type": "bar",
         "x": [
          326
         ],
         "xaxis": "x",
         "y": [
          "going"
         ],
         "yaxis": "y"
        },
        {
         "alignmentgroup": "True",
         "hovertemplate": "Common_words=%{y}<br>count=%{x}<extra></extra>",
         "legendgroup": "really",
         "marker": {
          "color": "#EF553B",
          "pattern": {
           "shape": ""
          }
         },
         "name": "really",
         "offsetgroup": "really",
         "orientation": "h",
         "showlegend": true,
         "textposition": "auto",
         "type": "bar",
         "x": [
          320
         ],
         "xaxis": "x",
         "y": [
          "really"
         ],
         "yaxis": "y"
        },
        {
         "alignmentgroup": "True",
         "hovertemplate": "Common_words=%{y}<br>count=%{x}<extra></extra>",
         "legendgroup": "got",
         "marker": {
          "color": "#00cc96",
          "pattern": {
           "shape": ""
          }
         },
         "name": "got",
         "offsetgroup": "got",
         "orientation": "h",
         "showlegend": true,
         "textposition": "auto",
         "type": "bar",
         "x": [
          317
         ],
         "xaxis": "x",
         "y": [
          "got"
         ],
         "yaxis": "y"
        },
        {
         "alignmentgroup": "True",
         "hovertemplate": "Common_words=%{y}<br>count=%{x}<extra></extra>",
         "legendgroup": "work",
         "marker": {
          "color": "#ab63fa",
          "pattern": {
           "shape": ""
          }
         },
         "name": "work",
         "offsetgroup": "work",
         "orientation": "h",
         "showlegend": true,
         "textposition": "auto",
         "type": "bar",
         "x": [
          309
         ],
         "xaxis": "x",
         "y": [
          "work"
         ],
         "yaxis": "y"
        },
        {
         "alignmentgroup": "True",
         "hovertemplate": "Common_words=%{y}<br>count=%{x}<extra></extra>",
         "legendgroup": "feel",
         "marker": {
          "color": "#FFA15A",
          "pattern": {
           "shape": ""
          }
         },
         "name": "feel",
         "offsetgroup": "feel",
         "orientation": "h",
         "showlegend": true,
         "textposition": "auto",
         "type": "bar",
         "x": [
          282
         ],
         "xaxis": "x",
         "y": [
          "feel"
         ],
         "yaxis": "y"
        },
        {
         "alignmentgroup": "True",
         "hovertemplate": "Common_words=%{y}<br>count=%{x}<extra></extra>",
         "legendgroup": "sad",
         "marker": {
          "color": "#19d3f3",
          "pattern": {
           "shape": ""
          }
         },
         "name": "sad",
         "offsetgroup": "sad",
         "orientation": "h",
         "showlegend": true,
         "textposition": "auto",
         "type": "bar",
         "x": [
          280
         ],
         "xaxis": "x",
         "y": [
          "sad"
         ],
         "yaxis": "y"
        },
        {
         "alignmentgroup": "True",
         "hovertemplate": "Common_words=%{y}<br>count=%{x}<extra></extra>",
         "legendgroup": "sorry",
         "marker": {
          "color": "#FF6692",
          "pattern": {
           "shape": ""
          }
         },
         "name": "sorry",
         "offsetgroup": "sorry",
         "orientation": "h",
         "showlegend": true,
         "textposition": "auto",
         "type": "bar",
         "x": [
          264
         ],
         "xaxis": "x",
         "y": [
          "sorry"
         ],
         "yaxis": "y"
        },
        {
         "alignmentgroup": "True",
         "hovertemplate": "Common_words=%{y}<br>count=%{x}<extra></extra>",
         "legendgroup": "hate",
         "marker": {
          "color": "#B6E880",
          "pattern": {
           "shape": ""
          }
         },
         "name": "hate",
         "offsetgroup": "hate",
         "orientation": "h",
         "showlegend": true,
         "textposition": "auto",
         "type": "bar",
         "x": [
          261
         ],
         "xaxis": "x",
         "y": [
          "hate"
         ],
         "yaxis": "y"
        },
        {
         "alignmentgroup": "True",
         "hovertemplate": "Common_words=%{y}<br>count=%{x}<extra></extra>",
         "legendgroup": "bad",
         "marker": {
          "color": "#FF97FF",
          "pattern": {
           "shape": ""
          }
         },
         "name": "bad",
         "offsetgroup": "bad",
         "orientation": "h",
         "showlegend": true,
         "textposition": "auto",
         "type": "bar",
         "x": [
          245
         ],
         "xaxis": "x",
         "y": [
          "bad"
         ],
         "yaxis": "y"
        },
        {
         "alignmentgroup": "True",
         "hovertemplate": "Common_words=%{y}<br>count=%{x}<extra></extra>",
         "legendgroup": "still",
         "marker": {
          "color": "#FECB52",
          "pattern": {
           "shape": ""
          }
         },
         "name": "still",
         "offsetgroup": "still",
         "orientation": "h",
         "showlegend": true,
         "textposition": "auto",
         "type": "bar",
         "x": [
          240
         ],
         "xaxis": "x",
         "y": [
          "still"
         ],
         "yaxis": "y"
        }
       ],
       "layout": {
        "barmode": "relative",
        "height": 700,
        "legend": {
         "title": {
          "text": "Common_words"
         },
         "tracegroupgap": 0
        },
        "template": {
         "data": {
          "bar": [
           {
            "error_x": {
             "color": "#2a3f5f"
            },
            "error_y": {
             "color": "#2a3f5f"
            },
            "marker": {
             "line": {
              "color": "#E5ECF6",
              "width": 0.5
             },
             "pattern": {
              "fillmode": "overlay",
              "size": 10,
              "solidity": 0.2
             }
            },
            "type": "bar"
           }
          ],
          "barpolar": [
           {
            "marker": {
             "line": {
              "color": "#E5ECF6",
              "width": 0.5
             },
             "pattern": {
              "fillmode": "overlay",
              "size": 10,
              "solidity": 0.2
             }
            },
            "type": "barpolar"
           }
          ],
          "carpet": [
           {
            "aaxis": {
             "endlinecolor": "#2a3f5f",
             "gridcolor": "white",
             "linecolor": "white",
             "minorgridcolor": "white",
             "startlinecolor": "#2a3f5f"
            },
            "baxis": {
             "endlinecolor": "#2a3f5f",
             "gridcolor": "white",
             "linecolor": "white",
             "minorgridcolor": "white",
             "startlinecolor": "#2a3f5f"
            },
            "type": "carpet"
           }
          ],
          "choropleth": [
           {
            "colorbar": {
             "outlinewidth": 0,
             "ticks": ""
            },
            "type": "choropleth"
           }
          ],
          "contour": [
           {
            "colorbar": {
             "outlinewidth": 0,
             "ticks": ""
            },
            "colorscale": [
             [
              0,
              "#0d0887"
             ],
             [
              0.1111111111111111,
              "#46039f"
             ],
             [
              0.2222222222222222,
              "#7201a8"
             ],
             [
              0.3333333333333333,
              "#9c179e"
             ],
             [
              0.4444444444444444,
              "#bd3786"
             ],
             [
              0.5555555555555556,
              "#d8576b"
             ],
             [
              0.6666666666666666,
              "#ed7953"
             ],
             [
              0.7777777777777778,
              "#fb9f3a"
             ],
             [
              0.8888888888888888,
              "#fdca26"
             ],
             [
              1,
              "#f0f921"
             ]
            ],
            "type": "contour"
           }
          ],
          "contourcarpet": [
           {
            "colorbar": {
             "outlinewidth": 0,
             "ticks": ""
            },
            "type": "contourcarpet"
           }
          ],
          "heatmap": [
           {
            "colorbar": {
             "outlinewidth": 0,
             "ticks": ""
            },
            "colorscale": [
             [
              0,
              "#0d0887"
             ],
             [
              0.1111111111111111,
              "#46039f"
             ],
             [
              0.2222222222222222,
              "#7201a8"
             ],
             [
              0.3333333333333333,
              "#9c179e"
             ],
             [
              0.4444444444444444,
              "#bd3786"
             ],
             [
              0.5555555555555556,
              "#d8576b"
             ],
             [
              0.6666666666666666,
              "#ed7953"
             ],
             [
              0.7777777777777778,
              "#fb9f3a"
             ],
             [
              0.8888888888888888,
              "#fdca26"
             ],
             [
              1,
              "#f0f921"
             ]
            ],
            "type": "heatmap"
           }
          ],
          "heatmapgl": [
           {
            "colorbar": {
             "outlinewidth": 0,
             "ticks": ""
            },
            "colorscale": [
             [
              0,
              "#0d0887"
             ],
             [
              0.1111111111111111,
              "#46039f"
             ],
             [
              0.2222222222222222,
              "#7201a8"
             ],
             [
              0.3333333333333333,
              "#9c179e"
             ],
             [
              0.4444444444444444,
              "#bd3786"
             ],
             [
              0.5555555555555556,
              "#d8576b"
             ],
             [
              0.6666666666666666,
              "#ed7953"
             ],
             [
              0.7777777777777778,
              "#fb9f3a"
             ],
             [
              0.8888888888888888,
              "#fdca26"
             ],
             [
              1,
              "#f0f921"
             ]
            ],
            "type": "heatmapgl"
           }
          ],
          "histogram": [
           {
            "marker": {
             "pattern": {
              "fillmode": "overlay",
              "size": 10,
              "solidity": 0.2
             }
            },
            "type": "histogram"
           }
          ],
          "histogram2d": [
           {
            "colorbar": {
             "outlinewidth": 0,
             "ticks": ""
            },
            "colorscale": [
             [
              0,
              "#0d0887"
             ],
             [
              0.1111111111111111,
              "#46039f"
             ],
             [
              0.2222222222222222,
              "#7201a8"
             ],
             [
              0.3333333333333333,
              "#9c179e"
             ],
             [
              0.4444444444444444,
              "#bd3786"
             ],
             [
              0.5555555555555556,
              "#d8576b"
             ],
             [
              0.6666666666666666,
              "#ed7953"
             ],
             [
              0.7777777777777778,
              "#fb9f3a"
             ],
             [
              0.8888888888888888,
              "#fdca26"
             ],
             [
              1,
              "#f0f921"
             ]
            ],
            "type": "histogram2d"
           }
          ],
          "histogram2dcontour": [
           {
            "colorbar": {
             "outlinewidth": 0,
             "ticks": ""
            },
            "colorscale": [
             [
              0,
              "#0d0887"
             ],
             [
              0.1111111111111111,
              "#46039f"
             ],
             [
              0.2222222222222222,
              "#7201a8"
             ],
             [
              0.3333333333333333,
              "#9c179e"
             ],
             [
              0.4444444444444444,
              "#bd3786"
             ],
             [
              0.5555555555555556,
              "#d8576b"
             ],
             [
              0.6666666666666666,
              "#ed7953"
             ],
             [
              0.7777777777777778,
              "#fb9f3a"
             ],
             [
              0.8888888888888888,
              "#fdca26"
             ],
             [
              1,
              "#f0f921"
             ]
            ],
            "type": "histogram2dcontour"
           }
          ],
          "mesh3d": [
           {
            "colorbar": {
             "outlinewidth": 0,
             "ticks": ""
            },
            "type": "mesh3d"
           }
          ],
          "parcoords": [
           {
            "line": {
             "colorbar": {
              "outlinewidth": 0,
              "ticks": ""
             }
            },
            "type": "parcoords"
           }
          ],
          "pie": [
           {
            "automargin": true,
            "type": "pie"
           }
          ],
          "scatter": [
           {
            "marker": {
             "colorbar": {
              "outlinewidth": 0,
              "ticks": ""
             }
            },
            "type": "scatter"
           }
          ],
          "scatter3d": [
           {
            "line": {
             "colorbar": {
              "outlinewidth": 0,
              "ticks": ""
             }
            },
            "marker": {
             "colorbar": {
              "outlinewidth": 0,
              "ticks": ""
             }
            },
            "type": "scatter3d"
           }
          ],
          "scattercarpet": [
           {
            "marker": {
             "colorbar": {
              "outlinewidth": 0,
              "ticks": ""
             }
            },
            "type": "scattercarpet"
           }
          ],
          "scattergeo": [
           {
            "marker": {
             "colorbar": {
              "outlinewidth": 0,
              "ticks": ""
             }
            },
            "type": "scattergeo"
           }
          ],
          "scattergl": [
           {
            "marker": {
             "colorbar": {
              "outlinewidth": 0,
              "ticks": ""
             }
            },
            "type": "scattergl"
           }
          ],
          "scattermapbox": [
           {
            "marker": {
             "colorbar": {
              "outlinewidth": 0,
              "ticks": ""
             }
            },
            "type": "scattermapbox"
           }
          ],
          "scatterpolar": [
           {
            "marker": {
             "colorbar": {
              "outlinewidth": 0,
              "ticks": ""
             }
            },
            "type": "scatterpolar"
           }
          ],
          "scatterpolargl": [
           {
            "marker": {
             "colorbar": {
              "outlinewidth": 0,
              "ticks": ""
             }
            },
            "type": "scatterpolargl"
           }
          ],
          "scatterternary": [
           {
            "marker": {
             "colorbar": {
              "outlinewidth": 0,
              "ticks": ""
             }
            },
            "type": "scatterternary"
           }
          ],
          "surface": [
           {
            "colorbar": {
             "outlinewidth": 0,
             "ticks": ""
            },
            "colorscale": [
             [
              0,
              "#0d0887"
             ],
             [
              0.1111111111111111,
              "#46039f"
             ],
             [
              0.2222222222222222,
              "#7201a8"
             ],
             [
              0.3333333333333333,
              "#9c179e"
             ],
             [
              0.4444444444444444,
              "#bd3786"
             ],
             [
              0.5555555555555556,
              "#d8576b"
             ],
             [
              0.6666666666666666,
              "#ed7953"
             ],
             [
              0.7777777777777778,
              "#fb9f3a"
             ],
             [
              0.8888888888888888,
              "#fdca26"
             ],
             [
              1,
              "#f0f921"
             ]
            ],
            "type": "surface"
           }
          ],
          "table": [
           {
            "cells": {
             "fill": {
              "color": "#EBF0F8"
             },
             "line": {
              "color": "white"
             }
            },
            "header": {
             "fill": {
              "color": "#C8D4E3"
             },
             "line": {
              "color": "white"
             }
            },
            "type": "table"
           }
          ]
         },
         "layout": {
          "annotationdefaults": {
           "arrowcolor": "#2a3f5f",
           "arrowhead": 0,
           "arrowwidth": 1
          },
          "autotypenumbers": "strict",
          "coloraxis": {
           "colorbar": {
            "outlinewidth": 0,
            "ticks": ""
           }
          },
          "colorscale": {
           "diverging": [
            [
             0,
             "#8e0152"
            ],
            [
             0.1,
             "#c51b7d"
            ],
            [
             0.2,
             "#de77ae"
            ],
            [
             0.3,
             "#f1b6da"
            ],
            [
             0.4,
             "#fde0ef"
            ],
            [
             0.5,
             "#f7f7f7"
            ],
            [
             0.6,
             "#e6f5d0"
            ],
            [
             0.7,
             "#b8e186"
            ],
            [
             0.8,
             "#7fbc41"
            ],
            [
             0.9,
             "#4d9221"
            ],
            [
             1,
             "#276419"
            ]
           ],
           "sequential": [
            [
             0,
             "#0d0887"
            ],
            [
             0.1111111111111111,
             "#46039f"
            ],
            [
             0.2222222222222222,
             "#7201a8"
            ],
            [
             0.3333333333333333,
             "#9c179e"
            ],
            [
             0.4444444444444444,
             "#bd3786"
            ],
            [
             0.5555555555555556,
             "#d8576b"
            ],
            [
             0.6666666666666666,
             "#ed7953"
            ],
            [
             0.7777777777777778,
             "#fb9f3a"
            ],
            [
             0.8888888888888888,
             "#fdca26"
            ],
            [
             1,
             "#f0f921"
            ]
           ],
           "sequentialminus": [
            [
             0,
             "#0d0887"
            ],
            [
             0.1111111111111111,
             "#46039f"
            ],
            [
             0.2222222222222222,
             "#7201a8"
            ],
            [
             0.3333333333333333,
             "#9c179e"
            ],
            [
             0.4444444444444444,
             "#bd3786"
            ],
            [
             0.5555555555555556,
             "#d8576b"
            ],
            [
             0.6666666666666666,
             "#ed7953"
            ],
            [
             0.7777777777777778,
             "#fb9f3a"
            ],
            [
             0.8888888888888888,
             "#fdca26"
            ],
            [
             1,
             "#f0f921"
            ]
           ]
          },
          "colorway": [
           "#636efa",
           "#EF553B",
           "#00cc96",
           "#ab63fa",
           "#FFA15A",
           "#19d3f3",
           "#FF6692",
           "#B6E880",
           "#FF97FF",
           "#FECB52"
          ],
          "font": {
           "color": "#2a3f5f"
          },
          "geo": {
           "bgcolor": "white",
           "lakecolor": "white",
           "landcolor": "#E5ECF6",
           "showlakes": true,
           "showland": true,
           "subunitcolor": "white"
          },
          "hoverlabel": {
           "align": "left"
          },
          "hovermode": "closest",
          "mapbox": {
           "style": "light"
          },
          "paper_bgcolor": "white",
          "plot_bgcolor": "#E5ECF6",
          "polar": {
           "angularaxis": {
            "gridcolor": "white",
            "linecolor": "white",
            "ticks": ""
           },
           "bgcolor": "#E5ECF6",
           "radialaxis": {
            "gridcolor": "white",
            "linecolor": "white",
            "ticks": ""
           }
          },
          "scene": {
           "xaxis": {
            "backgroundcolor": "#E5ECF6",
            "gridcolor": "white",
            "gridwidth": 2,
            "linecolor": "white",
            "showbackground": true,
            "ticks": "",
            "zerolinecolor": "white"
           },
           "yaxis": {
            "backgroundcolor": "#E5ECF6",
            "gridcolor": "white",
            "gridwidth": 2,
            "linecolor": "white",
            "showbackground": true,
            "ticks": "",
            "zerolinecolor": "white"
           },
           "zaxis": {
            "backgroundcolor": "#E5ECF6",
            "gridcolor": "white",
            "gridwidth": 2,
            "linecolor": "white",
            "showbackground": true,
            "ticks": "",
            "zerolinecolor": "white"
           }
          },
          "shapedefaults": {
           "line": {
            "color": "#2a3f5f"
           }
          },
          "ternary": {
           "aaxis": {
            "gridcolor": "white",
            "linecolor": "white",
            "ticks": ""
           },
           "baxis": {
            "gridcolor": "white",
            "linecolor": "white",
            "ticks": ""
           },
           "bgcolor": "#E5ECF6",
           "caxis": {
            "gridcolor": "white",
            "linecolor": "white",
            "ticks": ""
           }
          },
          "title": {
           "x": 0.05
          },
          "xaxis": {
           "automargin": true,
           "gridcolor": "white",
           "linecolor": "white",
           "ticks": "",
           "title": {
            "standoff": 15
           },
           "zerolinecolor": "white",
           "zerolinewidth": 2
          },
          "yaxis": {
           "automargin": true,
           "gridcolor": "white",
           "linecolor": "white",
           "ticks": "",
           "title": {
            "standoff": 15
           },
           "zerolinecolor": "white",
           "zerolinewidth": 2
          }
         }
        },
        "title": {
         "text": "Most Commmon Positive Words"
        },
        "width": 700,
        "xaxis": {
         "anchor": "y",
         "domain": [
          0,
          1
         ],
         "title": {
          "text": "count"
         }
        },
        "yaxis": {
         "anchor": "x",
         "categoryarray": [
          "still",
          "bad",
          "hate",
          "sorry",
          "sad",
          "feel",
          "work",
          "got",
          "really",
          "going",
          "can`t",
          "don`t",
          "im",
          "it`s",
          "go",
          "****",
          "miss",
          "get",
          "like",
          "i`m"
         ],
         "categoryorder": "array",
         "domain": [
          0,
          1
         ],
         "title": {
          "text": "Common_words"
         }
        }
       }
      },
      "text/html": [
       "<div>                            <div id=\"fdc68a57-dd6c-434d-8e41-879436b34195\" class=\"plotly-graph-div\" style=\"height:700px; width:700px;\"></div>            <script type=\"text/javascript\">                require([\"plotly\"], function(Plotly) {                    window.PLOTLYENV=window.PLOTLYENV || {};                                    if (document.getElementById(\"fdc68a57-dd6c-434d-8e41-879436b34195\")) {                    Plotly.newPlot(                        \"fdc68a57-dd6c-434d-8e41-879436b34195\",                        [{\"alignmentgroup\":\"True\",\"hovertemplate\":\"Common_words=%{y}<br>count=%{x}<extra></extra>\",\"legendgroup\":\"i`m\",\"marker\":{\"color\":\"#636efa\",\"pattern\":{\"shape\":\"\"}},\"name\":\"i`m\",\"offsetgroup\":\"i`m\",\"orientation\":\"h\",\"showlegend\":true,\"textposition\":\"auto\",\"type\":\"bar\",\"x\":[866],\"xaxis\":\"x\",\"y\":[\"i`m\"],\"yaxis\":\"y\"},{\"alignmentgroup\":\"True\",\"hovertemplate\":\"Common_words=%{y}<br>count=%{x}<extra></extra>\",\"legendgroup\":\"like\",\"marker\":{\"color\":\"#EF553B\",\"pattern\":{\"shape\":\"\"}},\"name\":\"like\",\"offsetgroup\":\"like\",\"orientation\":\"h\",\"showlegend\":true,\"textposition\":\"auto\",\"type\":\"bar\",\"x\":[464],\"xaxis\":\"x\",\"y\":[\"like\"],\"yaxis\":\"y\"},{\"alignmentgroup\":\"True\",\"hovertemplate\":\"Common_words=%{y}<br>count=%{x}<extra></extra>\",\"legendgroup\":\"get\",\"marker\":{\"color\":\"#00cc96\",\"pattern\":{\"shape\":\"\"}},\"name\":\"get\",\"offsetgroup\":\"get\",\"orientation\":\"h\",\"showlegend\":true,\"textposition\":\"auto\",\"type\":\"bar\",\"x\":[432],\"xaxis\":\"x\",\"y\":[\"get\"],\"yaxis\":\"y\"},{\"alignmentgroup\":\"True\",\"hovertemplate\":\"Common_words=%{y}<br>count=%{x}<extra></extra>\",\"legendgroup\":\"miss\",\"marker\":{\"color\":\"#ab63fa\",\"pattern\":{\"shape\":\"\"}},\"name\":\"miss\",\"offsetgroup\":\"miss\",\"orientation\":\"h\",\"showlegend\":true,\"textposition\":\"auto\",\"type\":\"bar\",\"x\":[422],\"xaxis\":\"x\",\"y\":[\"miss\"],\"yaxis\":\"y\"},{\"alignmentgroup\":\"True\",\"hovertemplate\":\"Common_words=%{y}<br>count=%{x}<extra></extra>\",\"legendgroup\":\"****\",\"marker\":{\"color\":\"#FFA15A\",\"pattern\":{\"shape\":\"\"}},\"name\":\"****\",\"offsetgroup\":\"****\",\"orientation\":\"h\",\"showlegend\":true,\"textposition\":\"auto\",\"type\":\"bar\",\"x\":[405],\"xaxis\":\"x\",\"y\":[\"****\"],\"yaxis\":\"y\"},{\"alignmentgroup\":\"True\",\"hovertemplate\":\"Common_words=%{y}<br>count=%{x}<extra></extra>\",\"legendgroup\":\"go\",\"marker\":{\"color\":\"#19d3f3\",\"pattern\":{\"shape\":\"\"}},\"name\":\"go\",\"offsetgroup\":\"go\",\"orientation\":\"h\",\"showlegend\":true,\"textposition\":\"auto\",\"type\":\"bar\",\"x\":[377],\"xaxis\":\"x\",\"y\":[\"go\"],\"yaxis\":\"y\"},{\"alignmentgroup\":\"True\",\"hovertemplate\":\"Common_words=%{y}<br>count=%{x}<extra></extra>\",\"legendgroup\":\"it`s\",\"marker\":{\"color\":\"#FF6692\",\"pattern\":{\"shape\":\"\"}},\"name\":\"it`s\",\"offsetgroup\":\"it`s\",\"orientation\":\"h\",\"showlegend\":true,\"textposition\":\"auto\",\"type\":\"bar\",\"x\":[366],\"xaxis\":\"x\",\"y\":[\"it`s\"],\"yaxis\":\"y\"},{\"alignmentgroup\":\"True\",\"hovertemplate\":\"Common_words=%{y}<br>count=%{x}<extra></extra>\",\"legendgroup\":\"im\",\"marker\":{\"color\":\"#B6E880\",\"pattern\":{\"shape\":\"\"}},\"name\":\"im\",\"offsetgroup\":\"im\",\"orientation\":\"h\",\"showlegend\":true,\"textposition\":\"auto\",\"type\":\"bar\",\"x\":[348],\"xaxis\":\"x\",\"y\":[\"im\"],\"yaxis\":\"y\"},{\"alignmentgroup\":\"True\",\"hovertemplate\":\"Common_words=%{y}<br>count=%{x}<extra></extra>\",\"legendgroup\":\"don`t\",\"marker\":{\"color\":\"#FF97FF\",\"pattern\":{\"shape\":\"\"}},\"name\":\"don`t\",\"offsetgroup\":\"don`t\",\"orientation\":\"h\",\"showlegend\":true,\"textposition\":\"auto\",\"type\":\"bar\",\"x\":[336],\"xaxis\":\"x\",\"y\":[\"don`t\"],\"yaxis\":\"y\"},{\"alignmentgroup\":\"True\",\"hovertemplate\":\"Common_words=%{y}<br>count=%{x}<extra></extra>\",\"legendgroup\":\"can`t\",\"marker\":{\"color\":\"#FECB52\",\"pattern\":{\"shape\":\"\"}},\"name\":\"can`t\",\"offsetgroup\":\"can`t\",\"orientation\":\"h\",\"showlegend\":true,\"textposition\":\"auto\",\"type\":\"bar\",\"x\":[328],\"xaxis\":\"x\",\"y\":[\"can`t\"],\"yaxis\":\"y\"},{\"alignmentgroup\":\"True\",\"hovertemplate\":\"Common_words=%{y}<br>count=%{x}<extra></extra>\",\"legendgroup\":\"going\",\"marker\":{\"color\":\"#636efa\",\"pattern\":{\"shape\":\"\"}},\"name\":\"going\",\"offsetgroup\":\"going\",\"orientation\":\"h\",\"showlegend\":true,\"textposition\":\"auto\",\"type\":\"bar\",\"x\":[326],\"xaxis\":\"x\",\"y\":[\"going\"],\"yaxis\":\"y\"},{\"alignmentgroup\":\"True\",\"hovertemplate\":\"Common_words=%{y}<br>count=%{x}<extra></extra>\",\"legendgroup\":\"really\",\"marker\":{\"color\":\"#EF553B\",\"pattern\":{\"shape\":\"\"}},\"name\":\"really\",\"offsetgroup\":\"really\",\"orientation\":\"h\",\"showlegend\":true,\"textposition\":\"auto\",\"type\":\"bar\",\"x\":[320],\"xaxis\":\"x\",\"y\":[\"really\"],\"yaxis\":\"y\"},{\"alignmentgroup\":\"True\",\"hovertemplate\":\"Common_words=%{y}<br>count=%{x}<extra></extra>\",\"legendgroup\":\"got\",\"marker\":{\"color\":\"#00cc96\",\"pattern\":{\"shape\":\"\"}},\"name\":\"got\",\"offsetgroup\":\"got\",\"orientation\":\"h\",\"showlegend\":true,\"textposition\":\"auto\",\"type\":\"bar\",\"x\":[317],\"xaxis\":\"x\",\"y\":[\"got\"],\"yaxis\":\"y\"},{\"alignmentgroup\":\"True\",\"hovertemplate\":\"Common_words=%{y}<br>count=%{x}<extra></extra>\",\"legendgroup\":\"work\",\"marker\":{\"color\":\"#ab63fa\",\"pattern\":{\"shape\":\"\"}},\"name\":\"work\",\"offsetgroup\":\"work\",\"orientation\":\"h\",\"showlegend\":true,\"textposition\":\"auto\",\"type\":\"bar\",\"x\":[309],\"xaxis\":\"x\",\"y\":[\"work\"],\"yaxis\":\"y\"},{\"alignmentgroup\":\"True\",\"hovertemplate\":\"Common_words=%{y}<br>count=%{x}<extra></extra>\",\"legendgroup\":\"feel\",\"marker\":{\"color\":\"#FFA15A\",\"pattern\":{\"shape\":\"\"}},\"name\":\"feel\",\"offsetgroup\":\"feel\",\"orientation\":\"h\",\"showlegend\":true,\"textposition\":\"auto\",\"type\":\"bar\",\"x\":[282],\"xaxis\":\"x\",\"y\":[\"feel\"],\"yaxis\":\"y\"},{\"alignmentgroup\":\"True\",\"hovertemplate\":\"Common_words=%{y}<br>count=%{x}<extra></extra>\",\"legendgroup\":\"sad\",\"marker\":{\"color\":\"#19d3f3\",\"pattern\":{\"shape\":\"\"}},\"name\":\"sad\",\"offsetgroup\":\"sad\",\"orientation\":\"h\",\"showlegend\":true,\"textposition\":\"auto\",\"type\":\"bar\",\"x\":[280],\"xaxis\":\"x\",\"y\":[\"sad\"],\"yaxis\":\"y\"},{\"alignmentgroup\":\"True\",\"hovertemplate\":\"Common_words=%{y}<br>count=%{x}<extra></extra>\",\"legendgroup\":\"sorry\",\"marker\":{\"color\":\"#FF6692\",\"pattern\":{\"shape\":\"\"}},\"name\":\"sorry\",\"offsetgroup\":\"sorry\",\"orientation\":\"h\",\"showlegend\":true,\"textposition\":\"auto\",\"type\":\"bar\",\"x\":[264],\"xaxis\":\"x\",\"y\":[\"sorry\"],\"yaxis\":\"y\"},{\"alignmentgroup\":\"True\",\"hovertemplate\":\"Common_words=%{y}<br>count=%{x}<extra></extra>\",\"legendgroup\":\"hate\",\"marker\":{\"color\":\"#B6E880\",\"pattern\":{\"shape\":\"\"}},\"name\":\"hate\",\"offsetgroup\":\"hate\",\"orientation\":\"h\",\"showlegend\":true,\"textposition\":\"auto\",\"type\":\"bar\",\"x\":[261],\"xaxis\":\"x\",\"y\":[\"hate\"],\"yaxis\":\"y\"},{\"alignmentgroup\":\"True\",\"hovertemplate\":\"Common_words=%{y}<br>count=%{x}<extra></extra>\",\"legendgroup\":\"bad\",\"marker\":{\"color\":\"#FF97FF\",\"pattern\":{\"shape\":\"\"}},\"name\":\"bad\",\"offsetgroup\":\"bad\",\"orientation\":\"h\",\"showlegend\":true,\"textposition\":\"auto\",\"type\":\"bar\",\"x\":[245],\"xaxis\":\"x\",\"y\":[\"bad\"],\"yaxis\":\"y\"},{\"alignmentgroup\":\"True\",\"hovertemplate\":\"Common_words=%{y}<br>count=%{x}<extra></extra>\",\"legendgroup\":\"still\",\"marker\":{\"color\":\"#FECB52\",\"pattern\":{\"shape\":\"\"}},\"name\":\"still\",\"offsetgroup\":\"still\",\"orientation\":\"h\",\"showlegend\":true,\"textposition\":\"auto\",\"type\":\"bar\",\"x\":[240],\"xaxis\":\"x\",\"y\":[\"still\"],\"yaxis\":\"y\"}],                        {\"barmode\":\"relative\",\"height\":700,\"legend\":{\"title\":{\"text\":\"Common_words\"},\"tracegroupgap\":0},\"template\":{\"data\":{\"bar\":[{\"error_x\":{\"color\":\"#2a3f5f\"},\"error_y\":{\"color\":\"#2a3f5f\"},\"marker\":{\"line\":{\"color\":\"#E5ECF6\",\"width\":0.5},\"pattern\":{\"fillmode\":\"overlay\",\"size\":10,\"solidity\":0.2}},\"type\":\"bar\"}],\"barpolar\":[{\"marker\":{\"line\":{\"color\":\"#E5ECF6\",\"width\":0.5},\"pattern\":{\"fillmode\":\"overlay\",\"size\":10,\"solidity\":0.2}},\"type\":\"barpolar\"}],\"carpet\":[{\"aaxis\":{\"endlinecolor\":\"#2a3f5f\",\"gridcolor\":\"white\",\"linecolor\":\"white\",\"minorgridcolor\":\"white\",\"startlinecolor\":\"#2a3f5f\"},\"baxis\":{\"endlinecolor\":\"#2a3f5f\",\"gridcolor\":\"white\",\"linecolor\":\"white\",\"minorgridcolor\":\"white\",\"startlinecolor\":\"#2a3f5f\"},\"type\":\"carpet\"}],\"choropleth\":[{\"colorbar\":{\"outlinewidth\":0,\"ticks\":\"\"},\"type\":\"choropleth\"}],\"contour\":[{\"colorbar\":{\"outlinewidth\":0,\"ticks\":\"\"},\"colorscale\":[[0.0,\"#0d0887\"],[0.1111111111111111,\"#46039f\"],[0.2222222222222222,\"#7201a8\"],[0.3333333333333333,\"#9c179e\"],[0.4444444444444444,\"#bd3786\"],[0.5555555555555556,\"#d8576b\"],[0.6666666666666666,\"#ed7953\"],[0.7777777777777778,\"#fb9f3a\"],[0.8888888888888888,\"#fdca26\"],[1.0,\"#f0f921\"]],\"type\":\"contour\"}],\"contourcarpet\":[{\"colorbar\":{\"outlinewidth\":0,\"ticks\":\"\"},\"type\":\"contourcarpet\"}],\"heatmap\":[{\"colorbar\":{\"outlinewidth\":0,\"ticks\":\"\"},\"colorscale\":[[0.0,\"#0d0887\"],[0.1111111111111111,\"#46039f\"],[0.2222222222222222,\"#7201a8\"],[0.3333333333333333,\"#9c179e\"],[0.4444444444444444,\"#bd3786\"],[0.5555555555555556,\"#d8576b\"],[0.6666666666666666,\"#ed7953\"],[0.7777777777777778,\"#fb9f3a\"],[0.8888888888888888,\"#fdca26\"],[1.0,\"#f0f921\"]],\"type\":\"heatmap\"}],\"heatmapgl\":[{\"colorbar\":{\"outlinewidth\":0,\"ticks\":\"\"},\"colorscale\":[[0.0,\"#0d0887\"],[0.1111111111111111,\"#46039f\"],[0.2222222222222222,\"#7201a8\"],[0.3333333333333333,\"#9c179e\"],[0.4444444444444444,\"#bd3786\"],[0.5555555555555556,\"#d8576b\"],[0.6666666666666666,\"#ed7953\"],[0.7777777777777778,\"#fb9f3a\"],[0.8888888888888888,\"#fdca26\"],[1.0,\"#f0f921\"]],\"type\":\"heatmapgl\"}],\"histogram\":[{\"marker\":{\"pattern\":{\"fillmode\":\"overlay\",\"size\":10,\"solidity\":0.2}},\"type\":\"histogram\"}],\"histogram2d\":[{\"colorbar\":{\"outlinewidth\":0,\"ticks\":\"\"},\"colorscale\":[[0.0,\"#0d0887\"],[0.1111111111111111,\"#46039f\"],[0.2222222222222222,\"#7201a8\"],[0.3333333333333333,\"#9c179e\"],[0.4444444444444444,\"#bd3786\"],[0.5555555555555556,\"#d8576b\"],[0.6666666666666666,\"#ed7953\"],[0.7777777777777778,\"#fb9f3a\"],[0.8888888888888888,\"#fdca26\"],[1.0,\"#f0f921\"]],\"type\":\"histogram2d\"}],\"histogram2dcontour\":[{\"colorbar\":{\"outlinewidth\":0,\"ticks\":\"\"},\"colorscale\":[[0.0,\"#0d0887\"],[0.1111111111111111,\"#46039f\"],[0.2222222222222222,\"#7201a8\"],[0.3333333333333333,\"#9c179e\"],[0.4444444444444444,\"#bd3786\"],[0.5555555555555556,\"#d8576b\"],[0.6666666666666666,\"#ed7953\"],[0.7777777777777778,\"#fb9f3a\"],[0.8888888888888888,\"#fdca26\"],[1.0,\"#f0f921\"]],\"type\":\"histogram2dcontour\"}],\"mesh3d\":[{\"colorbar\":{\"outlinewidth\":0,\"ticks\":\"\"},\"type\":\"mesh3d\"}],\"parcoords\":[{\"line\":{\"colorbar\":{\"outlinewidth\":0,\"ticks\":\"\"}},\"type\":\"parcoords\"}],\"pie\":[{\"automargin\":true,\"type\":\"pie\"}],\"scatter\":[{\"marker\":{\"colorbar\":{\"outlinewidth\":0,\"ticks\":\"\"}},\"type\":\"scatter\"}],\"scatter3d\":[{\"line\":{\"colorbar\":{\"outlinewidth\":0,\"ticks\":\"\"}},\"marker\":{\"colorbar\":{\"outlinewidth\":0,\"ticks\":\"\"}},\"type\":\"scatter3d\"}],\"scattercarpet\":[{\"marker\":{\"colorbar\":{\"outlinewidth\":0,\"ticks\":\"\"}},\"type\":\"scattercarpet\"}],\"scattergeo\":[{\"marker\":{\"colorbar\":{\"outlinewidth\":0,\"ticks\":\"\"}},\"type\":\"scattergeo\"}],\"scattergl\":[{\"marker\":{\"colorbar\":{\"outlinewidth\":0,\"ticks\":\"\"}},\"type\":\"scattergl\"}],\"scattermapbox\":[{\"marker\":{\"colorbar\":{\"outlinewidth\":0,\"ticks\":\"\"}},\"type\":\"scattermapbox\"}],\"scatterpolar\":[{\"marker\":{\"colorbar\":{\"outlinewidth\":0,\"ticks\":\"\"}},\"type\":\"scatterpolar\"}],\"scatterpolargl\":[{\"marker\":{\"colorbar\":{\"outlinewidth\":0,\"ticks\":\"\"}},\"type\":\"scatterpolargl\"}],\"scatterternary\":[{\"marker\":{\"colorbar\":{\"outlinewidth\":0,\"ticks\":\"\"}},\"type\":\"scatterternary\"}],\"surface\":[{\"colorbar\":{\"outlinewidth\":0,\"ticks\":\"\"},\"colorscale\":[[0.0,\"#0d0887\"],[0.1111111111111111,\"#46039f\"],[0.2222222222222222,\"#7201a8\"],[0.3333333333333333,\"#9c179e\"],[0.4444444444444444,\"#bd3786\"],[0.5555555555555556,\"#d8576b\"],[0.6666666666666666,\"#ed7953\"],[0.7777777777777778,\"#fb9f3a\"],[0.8888888888888888,\"#fdca26\"],[1.0,\"#f0f921\"]],\"type\":\"surface\"}],\"table\":[{\"cells\":{\"fill\":{\"color\":\"#EBF0F8\"},\"line\":{\"color\":\"white\"}},\"header\":{\"fill\":{\"color\":\"#C8D4E3\"},\"line\":{\"color\":\"white\"}},\"type\":\"table\"}]},\"layout\":{\"annotationdefaults\":{\"arrowcolor\":\"#2a3f5f\",\"arrowhead\":0,\"arrowwidth\":1},\"autotypenumbers\":\"strict\",\"coloraxis\":{\"colorbar\":{\"outlinewidth\":0,\"ticks\":\"\"}},\"colorscale\":{\"diverging\":[[0,\"#8e0152\"],[0.1,\"#c51b7d\"],[0.2,\"#de77ae\"],[0.3,\"#f1b6da\"],[0.4,\"#fde0ef\"],[0.5,\"#f7f7f7\"],[0.6,\"#e6f5d0\"],[0.7,\"#b8e186\"],[0.8,\"#7fbc41\"],[0.9,\"#4d9221\"],[1,\"#276419\"]],\"sequential\":[[0.0,\"#0d0887\"],[0.1111111111111111,\"#46039f\"],[0.2222222222222222,\"#7201a8\"],[0.3333333333333333,\"#9c179e\"],[0.4444444444444444,\"#bd3786\"],[0.5555555555555556,\"#d8576b\"],[0.6666666666666666,\"#ed7953\"],[0.7777777777777778,\"#fb9f3a\"],[0.8888888888888888,\"#fdca26\"],[1.0,\"#f0f921\"]],\"sequentialminus\":[[0.0,\"#0d0887\"],[0.1111111111111111,\"#46039f\"],[0.2222222222222222,\"#7201a8\"],[0.3333333333333333,\"#9c179e\"],[0.4444444444444444,\"#bd3786\"],[0.5555555555555556,\"#d8576b\"],[0.6666666666666666,\"#ed7953\"],[0.7777777777777778,\"#fb9f3a\"],[0.8888888888888888,\"#fdca26\"],[1.0,\"#f0f921\"]]},\"colorway\":[\"#636efa\",\"#EF553B\",\"#00cc96\",\"#ab63fa\",\"#FFA15A\",\"#19d3f3\",\"#FF6692\",\"#B6E880\",\"#FF97FF\",\"#FECB52\"],\"font\":{\"color\":\"#2a3f5f\"},\"geo\":{\"bgcolor\":\"white\",\"lakecolor\":\"white\",\"landcolor\":\"#E5ECF6\",\"showlakes\":true,\"showland\":true,\"subunitcolor\":\"white\"},\"hoverlabel\":{\"align\":\"left\"},\"hovermode\":\"closest\",\"mapbox\":{\"style\":\"light\"},\"paper_bgcolor\":\"white\",\"plot_bgcolor\":\"#E5ECF6\",\"polar\":{\"angularaxis\":{\"gridcolor\":\"white\",\"linecolor\":\"white\",\"ticks\":\"\"},\"bgcolor\":\"#E5ECF6\",\"radialaxis\":{\"gridcolor\":\"white\",\"linecolor\":\"white\",\"ticks\":\"\"}},\"scene\":{\"xaxis\":{\"backgroundcolor\":\"#E5ECF6\",\"gridcolor\":\"white\",\"gridwidth\":2,\"linecolor\":\"white\",\"showbackground\":true,\"ticks\":\"\",\"zerolinecolor\":\"white\"},\"yaxis\":{\"backgroundcolor\":\"#E5ECF6\",\"gridcolor\":\"white\",\"gridwidth\":2,\"linecolor\":\"white\",\"showbackground\":true,\"ticks\":\"\",\"zerolinecolor\":\"white\"},\"zaxis\":{\"backgroundcolor\":\"#E5ECF6\",\"gridcolor\":\"white\",\"gridwidth\":2,\"linecolor\":\"white\",\"showbackground\":true,\"ticks\":\"\",\"zerolinecolor\":\"white\"}},\"shapedefaults\":{\"line\":{\"color\":\"#2a3f5f\"}},\"ternary\":{\"aaxis\":{\"gridcolor\":\"white\",\"linecolor\":\"white\",\"ticks\":\"\"},\"baxis\":{\"gridcolor\":\"white\",\"linecolor\":\"white\",\"ticks\":\"\"},\"bgcolor\":\"#E5ECF6\",\"caxis\":{\"gridcolor\":\"white\",\"linecolor\":\"white\",\"ticks\":\"\"}},\"title\":{\"x\":0.05},\"xaxis\":{\"automargin\":true,\"gridcolor\":\"white\",\"linecolor\":\"white\",\"ticks\":\"\",\"title\":{\"standoff\":15},\"zerolinecolor\":\"white\",\"zerolinewidth\":2},\"yaxis\":{\"automargin\":true,\"gridcolor\":\"white\",\"linecolor\":\"white\",\"ticks\":\"\",\"title\":{\"standoff\":15},\"zerolinecolor\":\"white\",\"zerolinewidth\":2}}},\"title\":{\"text\":\"Most Commmon Positive Words\"},\"width\":700,\"xaxis\":{\"anchor\":\"y\",\"domain\":[0.0,1.0],\"title\":{\"text\":\"count\"}},\"yaxis\":{\"anchor\":\"x\",\"categoryarray\":[\"still\",\"bad\",\"hate\",\"sorry\",\"sad\",\"feel\",\"work\",\"got\",\"really\",\"going\",\"can`t\",\"don`t\",\"im\",\"it`s\",\"go\",\"****\",\"miss\",\"get\",\"like\",\"i`m\"],\"categoryorder\":\"array\",\"domain\":[0.0,1.0],\"title\":{\"text\":\"Common_words\"}}},                        {\"responsive\": true}                    ).then(function(){\n",
       "                            \n",
       "var gd = document.getElementById('fdc68a57-dd6c-434d-8e41-879436b34195');\n",
       "var x = new MutationObserver(function (mutations, observer) {{\n",
       "        var display = window.getComputedStyle(gd).display;\n",
       "        if (!display || display === 'none') {{\n",
       "            console.log([gd, 'removed!']);\n",
       "            Plotly.purge(gd);\n",
       "            observer.disconnect();\n",
       "        }}\n",
       "}});\n",
       "\n",
       "// Listen for the removal of the full notebook cells\n",
       "var notebookContainer = gd.closest('#notebook-container');\n",
       "if (notebookContainer) {{\n",
       "    x.observe(notebookContainer, {childList: true});\n",
       "}}\n",
       "\n",
       "// Listen for the clearing of the current output cell\n",
       "var outputEl = gd.closest('.output');\n",
       "if (outputEl) {{\n",
       "    x.observe(outputEl, {childList: true});\n",
       "}}\n",
       "\n",
       "                        })                };                });            </script>        </div>"
      ]
     },
     "metadata": {},
     "output_type": "display_data"
    }
   ],
   "source": [
    "\n",
    "fig = px.bar(temp_positive, x=\"count\", y=\"Common_words\", title='Most Commmon Positive Words', orientation='h', \n",
    "             width=700, height=700,color='Common_words')\n",
    "fig.show()"
   ]
  },
  {
   "cell_type": "markdown",
   "id": "47761be0",
   "metadata": {},
   "source": [
    "### 5.2 Most common Negatice words"
   ]
  },
  {
   "cell_type": "code",
   "execution_count": 140,
   "id": "16fc5ad1",
   "metadata": {
    "scrolled": true
   },
   "outputs": [
    {
     "data": {
      "text/html": [
       "<style  type=\"text/css\" >\n",
       "#T_a9094_row0_col1{\n",
       "            background-color:  #67000d;\n",
       "            color:  #f1f1f1;\n",
       "        }#T_a9094_row1_col1{\n",
       "            background-color:  #fc9879;\n",
       "            color:  #000000;\n",
       "        }#T_a9094_row2_col1{\n",
       "            background-color:  #fca98c;\n",
       "            color:  #000000;\n",
       "        }#T_a9094_row3_col1{\n",
       "            background-color:  #fcae92;\n",
       "            color:  #000000;\n",
       "        }#T_a9094_row4_col1{\n",
       "            background-color:  #fcb79c;\n",
       "            color:  #000000;\n",
       "        }#T_a9094_row5_col1{\n",
       "            background-color:  #fcc4ad;\n",
       "            color:  #000000;\n",
       "        }#T_a9094_row6_col1{\n",
       "            background-color:  #fdcab5;\n",
       "            color:  #000000;\n",
       "        }#T_a9094_row7_col1{\n",
       "            background-color:  #fdd2bf;\n",
       "            color:  #000000;\n",
       "        }#T_a9094_row8_col1{\n",
       "            background-color:  #fed8c7;\n",
       "            color:  #000000;\n",
       "        }#T_a9094_row9_col1,#T_a9094_row10_col1{\n",
       "            background-color:  #fedccd;\n",
       "            color:  #000000;\n",
       "        }#T_a9094_row11_col1{\n",
       "            background-color:  #fee0d2;\n",
       "            color:  #000000;\n",
       "        }#T_a9094_row12_col1{\n",
       "            background-color:  #fee1d3;\n",
       "            color:  #000000;\n",
       "        }#T_a9094_row13_col1{\n",
       "            background-color:  #fee3d6;\n",
       "            color:  #000000;\n",
       "        }#T_a9094_row14_col1{\n",
       "            background-color:  #feeae0;\n",
       "            color:  #000000;\n",
       "        }#T_a9094_row15_col1{\n",
       "            background-color:  #feeae1;\n",
       "            color:  #000000;\n",
       "        }#T_a9094_row16_col1{\n",
       "            background-color:  #ffefe8;\n",
       "            color:  #000000;\n",
       "        }#T_a9094_row17_col1{\n",
       "            background-color:  #fff0e8;\n",
       "            color:  #000000;\n",
       "        }#T_a9094_row18_col1{\n",
       "            background-color:  #fff4ee;\n",
       "            color:  #000000;\n",
       "        }#T_a9094_row19_col1{\n",
       "            background-color:  #fff5f0;\n",
       "            color:  #000000;\n",
       "        }</style><table id=\"T_a9094_\" ><thead>    <tr>        <th class=\"blank level0\" ></th>        <th class=\"col_heading level0 col0\" >Common_words</th>        <th class=\"col_heading level0 col1\" >count</th>    </tr></thead><tbody>\n",
       "                <tr>\n",
       "                        <th id=\"T_a9094_level0_row0\" class=\"row_heading level0 row0\" >0</th>\n",
       "                        <td id=\"T_a9094_row0_col0\" class=\"data row0 col0\" >i`m</td>\n",
       "                        <td id=\"T_a9094_row0_col1\" class=\"data row0 col1\" >866</td>\n",
       "            </tr>\n",
       "            <tr>\n",
       "                        <th id=\"T_a9094_level0_row1\" class=\"row_heading level0 row1\" >1</th>\n",
       "                        <td id=\"T_a9094_row1_col0\" class=\"data row1 col0\" >like</td>\n",
       "                        <td id=\"T_a9094_row1_col1\" class=\"data row1 col1\" >464</td>\n",
       "            </tr>\n",
       "            <tr>\n",
       "                        <th id=\"T_a9094_level0_row2\" class=\"row_heading level0 row2\" >2</th>\n",
       "                        <td id=\"T_a9094_row2_col0\" class=\"data row2 col0\" >get</td>\n",
       "                        <td id=\"T_a9094_row2_col1\" class=\"data row2 col1\" >432</td>\n",
       "            </tr>\n",
       "            <tr>\n",
       "                        <th id=\"T_a9094_level0_row3\" class=\"row_heading level0 row3\" >3</th>\n",
       "                        <td id=\"T_a9094_row3_col0\" class=\"data row3 col0\" >miss</td>\n",
       "                        <td id=\"T_a9094_row3_col1\" class=\"data row3 col1\" >422</td>\n",
       "            </tr>\n",
       "            <tr>\n",
       "                        <th id=\"T_a9094_level0_row4\" class=\"row_heading level0 row4\" >4</th>\n",
       "                        <td id=\"T_a9094_row4_col0\" class=\"data row4 col0\" >****</td>\n",
       "                        <td id=\"T_a9094_row4_col1\" class=\"data row4 col1\" >405</td>\n",
       "            </tr>\n",
       "            <tr>\n",
       "                        <th id=\"T_a9094_level0_row5\" class=\"row_heading level0 row5\" >5</th>\n",
       "                        <td id=\"T_a9094_row5_col0\" class=\"data row5 col0\" >go</td>\n",
       "                        <td id=\"T_a9094_row5_col1\" class=\"data row5 col1\" >377</td>\n",
       "            </tr>\n",
       "            <tr>\n",
       "                        <th id=\"T_a9094_level0_row6\" class=\"row_heading level0 row6\" >6</th>\n",
       "                        <td id=\"T_a9094_row6_col0\" class=\"data row6 col0\" >it`s</td>\n",
       "                        <td id=\"T_a9094_row6_col1\" class=\"data row6 col1\" >366</td>\n",
       "            </tr>\n",
       "            <tr>\n",
       "                        <th id=\"T_a9094_level0_row7\" class=\"row_heading level0 row7\" >7</th>\n",
       "                        <td id=\"T_a9094_row7_col0\" class=\"data row7 col0\" >im</td>\n",
       "                        <td id=\"T_a9094_row7_col1\" class=\"data row7 col1\" >348</td>\n",
       "            </tr>\n",
       "            <tr>\n",
       "                        <th id=\"T_a9094_level0_row8\" class=\"row_heading level0 row8\" >8</th>\n",
       "                        <td id=\"T_a9094_row8_col0\" class=\"data row8 col0\" >don`t</td>\n",
       "                        <td id=\"T_a9094_row8_col1\" class=\"data row8 col1\" >336</td>\n",
       "            </tr>\n",
       "            <tr>\n",
       "                        <th id=\"T_a9094_level0_row9\" class=\"row_heading level0 row9\" >9</th>\n",
       "                        <td id=\"T_a9094_row9_col0\" class=\"data row9 col0\" >can`t</td>\n",
       "                        <td id=\"T_a9094_row9_col1\" class=\"data row9 col1\" >328</td>\n",
       "            </tr>\n",
       "            <tr>\n",
       "                        <th id=\"T_a9094_level0_row10\" class=\"row_heading level0 row10\" >10</th>\n",
       "                        <td id=\"T_a9094_row10_col0\" class=\"data row10 col0\" >going</td>\n",
       "                        <td id=\"T_a9094_row10_col1\" class=\"data row10 col1\" >326</td>\n",
       "            </tr>\n",
       "            <tr>\n",
       "                        <th id=\"T_a9094_level0_row11\" class=\"row_heading level0 row11\" >11</th>\n",
       "                        <td id=\"T_a9094_row11_col0\" class=\"data row11 col0\" >really</td>\n",
       "                        <td id=\"T_a9094_row11_col1\" class=\"data row11 col1\" >320</td>\n",
       "            </tr>\n",
       "            <tr>\n",
       "                        <th id=\"T_a9094_level0_row12\" class=\"row_heading level0 row12\" >12</th>\n",
       "                        <td id=\"T_a9094_row12_col0\" class=\"data row12 col0\" >got</td>\n",
       "                        <td id=\"T_a9094_row12_col1\" class=\"data row12 col1\" >317</td>\n",
       "            </tr>\n",
       "            <tr>\n",
       "                        <th id=\"T_a9094_level0_row13\" class=\"row_heading level0 row13\" >13</th>\n",
       "                        <td id=\"T_a9094_row13_col0\" class=\"data row13 col0\" >work</td>\n",
       "                        <td id=\"T_a9094_row13_col1\" class=\"data row13 col1\" >309</td>\n",
       "            </tr>\n",
       "            <tr>\n",
       "                        <th id=\"T_a9094_level0_row14\" class=\"row_heading level0 row14\" >14</th>\n",
       "                        <td id=\"T_a9094_row14_col0\" class=\"data row14 col0\" >feel</td>\n",
       "                        <td id=\"T_a9094_row14_col1\" class=\"data row14 col1\" >282</td>\n",
       "            </tr>\n",
       "            <tr>\n",
       "                        <th id=\"T_a9094_level0_row15\" class=\"row_heading level0 row15\" >15</th>\n",
       "                        <td id=\"T_a9094_row15_col0\" class=\"data row15 col0\" >sad</td>\n",
       "                        <td id=\"T_a9094_row15_col1\" class=\"data row15 col1\" >280</td>\n",
       "            </tr>\n",
       "            <tr>\n",
       "                        <th id=\"T_a9094_level0_row16\" class=\"row_heading level0 row16\" >16</th>\n",
       "                        <td id=\"T_a9094_row16_col0\" class=\"data row16 col0\" >sorry</td>\n",
       "                        <td id=\"T_a9094_row16_col1\" class=\"data row16 col1\" >264</td>\n",
       "            </tr>\n",
       "            <tr>\n",
       "                        <th id=\"T_a9094_level0_row17\" class=\"row_heading level0 row17\" >17</th>\n",
       "                        <td id=\"T_a9094_row17_col0\" class=\"data row17 col0\" >hate</td>\n",
       "                        <td id=\"T_a9094_row17_col1\" class=\"data row17 col1\" >261</td>\n",
       "            </tr>\n",
       "            <tr>\n",
       "                        <th id=\"T_a9094_level0_row18\" class=\"row_heading level0 row18\" >18</th>\n",
       "                        <td id=\"T_a9094_row18_col0\" class=\"data row18 col0\" >bad</td>\n",
       "                        <td id=\"T_a9094_row18_col1\" class=\"data row18 col1\" >245</td>\n",
       "            </tr>\n",
       "            <tr>\n",
       "                        <th id=\"T_a9094_level0_row19\" class=\"row_heading level0 row19\" >19</th>\n",
       "                        <td id=\"T_a9094_row19_col0\" class=\"data row19 col0\" >still</td>\n",
       "                        <td id=\"T_a9094_row19_col1\" class=\"data row19 col1\" >240</td>\n",
       "            </tr>\n",
       "    </tbody></table>"
      ],
      "text/plain": [
       "<pandas.io.formats.style.Styler at 0x20065ba6700>"
      ]
     },
     "execution_count": 140,
     "metadata": {},
     "output_type": "execute_result"
    }
   ],
   "source": [
    "top = Counter([word for sentence in negative_sentiment[\"temp_text\"] for word in sentence.split()])\n",
    "temp_negatives = pd.DataFrame(top.most_common(20))\n",
    "temp_negatives.columns = ['Common_words','count']\n",
    "temp_negatives.style.background_gradient(cmap='Reds')"
   ]
  },
  {
   "cell_type": "code",
   "execution_count": 141,
   "id": "6b82650c",
   "metadata": {},
   "outputs": [
    {
     "data": {
      "application/vnd.plotly.v1+json": {
       "config": {
        "plotlyServerURL": "https://plot.ly"
       },
       "data": [
        {
         "alignmentgroup": "True",
         "hovertemplate": "Common_words=%{y}<br>count=%{x}<extra></extra>",
         "legendgroup": "i`m",
         "marker": {
          "color": "#636efa",
          "pattern": {
           "shape": ""
          }
         },
         "name": "i`m",
         "offsetgroup": "i`m",
         "orientation": "h",
         "showlegend": true,
         "textposition": "auto",
         "type": "bar",
         "x": [
          866
         ],
         "xaxis": "x",
         "y": [
          "i`m"
         ],
         "yaxis": "y"
        },
        {
         "alignmentgroup": "True",
         "hovertemplate": "Common_words=%{y}<br>count=%{x}<extra></extra>",
         "legendgroup": "like",
         "marker": {
          "color": "#EF553B",
          "pattern": {
           "shape": ""
          }
         },
         "name": "like",
         "offsetgroup": "like",
         "orientation": "h",
         "showlegend": true,
         "textposition": "auto",
         "type": "bar",
         "x": [
          464
         ],
         "xaxis": "x",
         "y": [
          "like"
         ],
         "yaxis": "y"
        },
        {
         "alignmentgroup": "True",
         "hovertemplate": "Common_words=%{y}<br>count=%{x}<extra></extra>",
         "legendgroup": "get",
         "marker": {
          "color": "#00cc96",
          "pattern": {
           "shape": ""
          }
         },
         "name": "get",
         "offsetgroup": "get",
         "orientation": "h",
         "showlegend": true,
         "textposition": "auto",
         "type": "bar",
         "x": [
          432
         ],
         "xaxis": "x",
         "y": [
          "get"
         ],
         "yaxis": "y"
        },
        {
         "alignmentgroup": "True",
         "hovertemplate": "Common_words=%{y}<br>count=%{x}<extra></extra>",
         "legendgroup": "miss",
         "marker": {
          "color": "#ab63fa",
          "pattern": {
           "shape": ""
          }
         },
         "name": "miss",
         "offsetgroup": "miss",
         "orientation": "h",
         "showlegend": true,
         "textposition": "auto",
         "type": "bar",
         "x": [
          422
         ],
         "xaxis": "x",
         "y": [
          "miss"
         ],
         "yaxis": "y"
        },
        {
         "alignmentgroup": "True",
         "hovertemplate": "Common_words=%{y}<br>count=%{x}<extra></extra>",
         "legendgroup": "****",
         "marker": {
          "color": "#FFA15A",
          "pattern": {
           "shape": ""
          }
         },
         "name": "****",
         "offsetgroup": "****",
         "orientation": "h",
         "showlegend": true,
         "textposition": "auto",
         "type": "bar",
         "x": [
          405
         ],
         "xaxis": "x",
         "y": [
          "****"
         ],
         "yaxis": "y"
        },
        {
         "alignmentgroup": "True",
         "hovertemplate": "Common_words=%{y}<br>count=%{x}<extra></extra>",
         "legendgroup": "go",
         "marker": {
          "color": "#19d3f3",
          "pattern": {
           "shape": ""
          }
         },
         "name": "go",
         "offsetgroup": "go",
         "orientation": "h",
         "showlegend": true,
         "textposition": "auto",
         "type": "bar",
         "x": [
          377
         ],
         "xaxis": "x",
         "y": [
          "go"
         ],
         "yaxis": "y"
        },
        {
         "alignmentgroup": "True",
         "hovertemplate": "Common_words=%{y}<br>count=%{x}<extra></extra>",
         "legendgroup": "it`s",
         "marker": {
          "color": "#FF6692",
          "pattern": {
           "shape": ""
          }
         },
         "name": "it`s",
         "offsetgroup": "it`s",
         "orientation": "h",
         "showlegend": true,
         "textposition": "auto",
         "type": "bar",
         "x": [
          366
         ],
         "xaxis": "x",
         "y": [
          "it`s"
         ],
         "yaxis": "y"
        },
        {
         "alignmentgroup": "True",
         "hovertemplate": "Common_words=%{y}<br>count=%{x}<extra></extra>",
         "legendgroup": "im",
         "marker": {
          "color": "#B6E880",
          "pattern": {
           "shape": ""
          }
         },
         "name": "im",
         "offsetgroup": "im",
         "orientation": "h",
         "showlegend": true,
         "textposition": "auto",
         "type": "bar",
         "x": [
          348
         ],
         "xaxis": "x",
         "y": [
          "im"
         ],
         "yaxis": "y"
        },
        {
         "alignmentgroup": "True",
         "hovertemplate": "Common_words=%{y}<br>count=%{x}<extra></extra>",
         "legendgroup": "don`t",
         "marker": {
          "color": "#FF97FF",
          "pattern": {
           "shape": ""
          }
         },
         "name": "don`t",
         "offsetgroup": "don`t",
         "orientation": "h",
         "showlegend": true,
         "textposition": "auto",
         "type": "bar",
         "x": [
          336
         ],
         "xaxis": "x",
         "y": [
          "don`t"
         ],
         "yaxis": "y"
        },
        {
         "alignmentgroup": "True",
         "hovertemplate": "Common_words=%{y}<br>count=%{x}<extra></extra>",
         "legendgroup": "can`t",
         "marker": {
          "color": "#FECB52",
          "pattern": {
           "shape": ""
          }
         },
         "name": "can`t",
         "offsetgroup": "can`t",
         "orientation": "h",
         "showlegend": true,
         "textposition": "auto",
         "type": "bar",
         "x": [
          328
         ],
         "xaxis": "x",
         "y": [
          "can`t"
         ],
         "yaxis": "y"
        },
        {
         "alignmentgroup": "True",
         "hovertemplate": "Common_words=%{y}<br>count=%{x}<extra></extra>",
         "legendgroup": "going",
         "marker": {
          "color": "#636efa",
          "pattern": {
           "shape": ""
          }
         },
         "name": "going",
         "offsetgroup": "going",
         "orientation": "h",
         "showlegend": true,
         "textposition": "auto",
         "type": "bar",
         "x": [
          326
         ],
         "xaxis": "x",
         "y": [
          "going"
         ],
         "yaxis": "y"
        },
        {
         "alignmentgroup": "True",
         "hovertemplate": "Common_words=%{y}<br>count=%{x}<extra></extra>",
         "legendgroup": "really",
         "marker": {
          "color": "#EF553B",
          "pattern": {
           "shape": ""
          }
         },
         "name": "really",
         "offsetgroup": "really",
         "orientation": "h",
         "showlegend": true,
         "textposition": "auto",
         "type": "bar",
         "x": [
          320
         ],
         "xaxis": "x",
         "y": [
          "really"
         ],
         "yaxis": "y"
        },
        {
         "alignmentgroup": "True",
         "hovertemplate": "Common_words=%{y}<br>count=%{x}<extra></extra>",
         "legendgroup": "got",
         "marker": {
          "color": "#00cc96",
          "pattern": {
           "shape": ""
          }
         },
         "name": "got",
         "offsetgroup": "got",
         "orientation": "h",
         "showlegend": true,
         "textposition": "auto",
         "type": "bar",
         "x": [
          317
         ],
         "xaxis": "x",
         "y": [
          "got"
         ],
         "yaxis": "y"
        },
        {
         "alignmentgroup": "True",
         "hovertemplate": "Common_words=%{y}<br>count=%{x}<extra></extra>",
         "legendgroup": "work",
         "marker": {
          "color": "#ab63fa",
          "pattern": {
           "shape": ""
          }
         },
         "name": "work",
         "offsetgroup": "work",
         "orientation": "h",
         "showlegend": true,
         "textposition": "auto",
         "type": "bar",
         "x": [
          309
         ],
         "xaxis": "x",
         "y": [
          "work"
         ],
         "yaxis": "y"
        },
        {
         "alignmentgroup": "True",
         "hovertemplate": "Common_words=%{y}<br>count=%{x}<extra></extra>",
         "legendgroup": "feel",
         "marker": {
          "color": "#FFA15A",
          "pattern": {
           "shape": ""
          }
         },
         "name": "feel",
         "offsetgroup": "feel",
         "orientation": "h",
         "showlegend": true,
         "textposition": "auto",
         "type": "bar",
         "x": [
          282
         ],
         "xaxis": "x",
         "y": [
          "feel"
         ],
         "yaxis": "y"
        },
        {
         "alignmentgroup": "True",
         "hovertemplate": "Common_words=%{y}<br>count=%{x}<extra></extra>",
         "legendgroup": "sad",
         "marker": {
          "color": "#19d3f3",
          "pattern": {
           "shape": ""
          }
         },
         "name": "sad",
         "offsetgroup": "sad",
         "orientation": "h",
         "showlegend": true,
         "textposition": "auto",
         "type": "bar",
         "x": [
          280
         ],
         "xaxis": "x",
         "y": [
          "sad"
         ],
         "yaxis": "y"
        },
        {
         "alignmentgroup": "True",
         "hovertemplate": "Common_words=%{y}<br>count=%{x}<extra></extra>",
         "legendgroup": "sorry",
         "marker": {
          "color": "#FF6692",
          "pattern": {
           "shape": ""
          }
         },
         "name": "sorry",
         "offsetgroup": "sorry",
         "orientation": "h",
         "showlegend": true,
         "textposition": "auto",
         "type": "bar",
         "x": [
          264
         ],
         "xaxis": "x",
         "y": [
          "sorry"
         ],
         "yaxis": "y"
        },
        {
         "alignmentgroup": "True",
         "hovertemplate": "Common_words=%{y}<br>count=%{x}<extra></extra>",
         "legendgroup": "hate",
         "marker": {
          "color": "#B6E880",
          "pattern": {
           "shape": ""
          }
         },
         "name": "hate",
         "offsetgroup": "hate",
         "orientation": "h",
         "showlegend": true,
         "textposition": "auto",
         "type": "bar",
         "x": [
          261
         ],
         "xaxis": "x",
         "y": [
          "hate"
         ],
         "yaxis": "y"
        },
        {
         "alignmentgroup": "True",
         "hovertemplate": "Common_words=%{y}<br>count=%{x}<extra></extra>",
         "legendgroup": "bad",
         "marker": {
          "color": "#FF97FF",
          "pattern": {
           "shape": ""
          }
         },
         "name": "bad",
         "offsetgroup": "bad",
         "orientation": "h",
         "showlegend": true,
         "textposition": "auto",
         "type": "bar",
         "x": [
          245
         ],
         "xaxis": "x",
         "y": [
          "bad"
         ],
         "yaxis": "y"
        },
        {
         "alignmentgroup": "True",
         "hovertemplate": "Common_words=%{y}<br>count=%{x}<extra></extra>",
         "legendgroup": "still",
         "marker": {
          "color": "#FECB52",
          "pattern": {
           "shape": ""
          }
         },
         "name": "still",
         "offsetgroup": "still",
         "orientation": "h",
         "showlegend": true,
         "textposition": "auto",
         "type": "bar",
         "x": [
          240
         ],
         "xaxis": "x",
         "y": [
          "still"
         ],
         "yaxis": "y"
        }
       ],
       "layout": {
        "barmode": "relative",
        "height": 700,
        "legend": {
         "title": {
          "text": "Common_words"
         },
         "tracegroupgap": 0
        },
        "template": {
         "data": {
          "bar": [
           {
            "error_x": {
             "color": "#2a3f5f"
            },
            "error_y": {
             "color": "#2a3f5f"
            },
            "marker": {
             "line": {
              "color": "#E5ECF6",
              "width": 0.5
             },
             "pattern": {
              "fillmode": "overlay",
              "size": 10,
              "solidity": 0.2
             }
            },
            "type": "bar"
           }
          ],
          "barpolar": [
           {
            "marker": {
             "line": {
              "color": "#E5ECF6",
              "width": 0.5
             },
             "pattern": {
              "fillmode": "overlay",
              "size": 10,
              "solidity": 0.2
             }
            },
            "type": "barpolar"
           }
          ],
          "carpet": [
           {
            "aaxis": {
             "endlinecolor": "#2a3f5f",
             "gridcolor": "white",
             "linecolor": "white",
             "minorgridcolor": "white",
             "startlinecolor": "#2a3f5f"
            },
            "baxis": {
             "endlinecolor": "#2a3f5f",
             "gridcolor": "white",
             "linecolor": "white",
             "minorgridcolor": "white",
             "startlinecolor": "#2a3f5f"
            },
            "type": "carpet"
           }
          ],
          "choropleth": [
           {
            "colorbar": {
             "outlinewidth": 0,
             "ticks": ""
            },
            "type": "choropleth"
           }
          ],
          "contour": [
           {
            "colorbar": {
             "outlinewidth": 0,
             "ticks": ""
            },
            "colorscale": [
             [
              0,
              "#0d0887"
             ],
             [
              0.1111111111111111,
              "#46039f"
             ],
             [
              0.2222222222222222,
              "#7201a8"
             ],
             [
              0.3333333333333333,
              "#9c179e"
             ],
             [
              0.4444444444444444,
              "#bd3786"
             ],
             [
              0.5555555555555556,
              "#d8576b"
             ],
             [
              0.6666666666666666,
              "#ed7953"
             ],
             [
              0.7777777777777778,
              "#fb9f3a"
             ],
             [
              0.8888888888888888,
              "#fdca26"
             ],
             [
              1,
              "#f0f921"
             ]
            ],
            "type": "contour"
           }
          ],
          "contourcarpet": [
           {
            "colorbar": {
             "outlinewidth": 0,
             "ticks": ""
            },
            "type": "contourcarpet"
           }
          ],
          "heatmap": [
           {
            "colorbar": {
             "outlinewidth": 0,
             "ticks": ""
            },
            "colorscale": [
             [
              0,
              "#0d0887"
             ],
             [
              0.1111111111111111,
              "#46039f"
             ],
             [
              0.2222222222222222,
              "#7201a8"
             ],
             [
              0.3333333333333333,
              "#9c179e"
             ],
             [
              0.4444444444444444,
              "#bd3786"
             ],
             [
              0.5555555555555556,
              "#d8576b"
             ],
             [
              0.6666666666666666,
              "#ed7953"
             ],
             [
              0.7777777777777778,
              "#fb9f3a"
             ],
             [
              0.8888888888888888,
              "#fdca26"
             ],
             [
              1,
              "#f0f921"
             ]
            ],
            "type": "heatmap"
           }
          ],
          "heatmapgl": [
           {
            "colorbar": {
             "outlinewidth": 0,
             "ticks": ""
            },
            "colorscale": [
             [
              0,
              "#0d0887"
             ],
             [
              0.1111111111111111,
              "#46039f"
             ],
             [
              0.2222222222222222,
              "#7201a8"
             ],
             [
              0.3333333333333333,
              "#9c179e"
             ],
             [
              0.4444444444444444,
              "#bd3786"
             ],
             [
              0.5555555555555556,
              "#d8576b"
             ],
             [
              0.6666666666666666,
              "#ed7953"
             ],
             [
              0.7777777777777778,
              "#fb9f3a"
             ],
             [
              0.8888888888888888,
              "#fdca26"
             ],
             [
              1,
              "#f0f921"
             ]
            ],
            "type": "heatmapgl"
           }
          ],
          "histogram": [
           {
            "marker": {
             "pattern": {
              "fillmode": "overlay",
              "size": 10,
              "solidity": 0.2
             }
            },
            "type": "histogram"
           }
          ],
          "histogram2d": [
           {
            "colorbar": {
             "outlinewidth": 0,
             "ticks": ""
            },
            "colorscale": [
             [
              0,
              "#0d0887"
             ],
             [
              0.1111111111111111,
              "#46039f"
             ],
             [
              0.2222222222222222,
              "#7201a8"
             ],
             [
              0.3333333333333333,
              "#9c179e"
             ],
             [
              0.4444444444444444,
              "#bd3786"
             ],
             [
              0.5555555555555556,
              "#d8576b"
             ],
             [
              0.6666666666666666,
              "#ed7953"
             ],
             [
              0.7777777777777778,
              "#fb9f3a"
             ],
             [
              0.8888888888888888,
              "#fdca26"
             ],
             [
              1,
              "#f0f921"
             ]
            ],
            "type": "histogram2d"
           }
          ],
          "histogram2dcontour": [
           {
            "colorbar": {
             "outlinewidth": 0,
             "ticks": ""
            },
            "colorscale": [
             [
              0,
              "#0d0887"
             ],
             [
              0.1111111111111111,
              "#46039f"
             ],
             [
              0.2222222222222222,
              "#7201a8"
             ],
             [
              0.3333333333333333,
              "#9c179e"
             ],
             [
              0.4444444444444444,
              "#bd3786"
             ],
             [
              0.5555555555555556,
              "#d8576b"
             ],
             [
              0.6666666666666666,
              "#ed7953"
             ],
             [
              0.7777777777777778,
              "#fb9f3a"
             ],
             [
              0.8888888888888888,
              "#fdca26"
             ],
             [
              1,
              "#f0f921"
             ]
            ],
            "type": "histogram2dcontour"
           }
          ],
          "mesh3d": [
           {
            "colorbar": {
             "outlinewidth": 0,
             "ticks": ""
            },
            "type": "mesh3d"
           }
          ],
          "parcoords": [
           {
            "line": {
             "colorbar": {
              "outlinewidth": 0,
              "ticks": ""
             }
            },
            "type": "parcoords"
           }
          ],
          "pie": [
           {
            "automargin": true,
            "type": "pie"
           }
          ],
          "scatter": [
           {
            "marker": {
             "colorbar": {
              "outlinewidth": 0,
              "ticks": ""
             }
            },
            "type": "scatter"
           }
          ],
          "scatter3d": [
           {
            "line": {
             "colorbar": {
              "outlinewidth": 0,
              "ticks": ""
             }
            },
            "marker": {
             "colorbar": {
              "outlinewidth": 0,
              "ticks": ""
             }
            },
            "type": "scatter3d"
           }
          ],
          "scattercarpet": [
           {
            "marker": {
             "colorbar": {
              "outlinewidth": 0,
              "ticks": ""
             }
            },
            "type": "scattercarpet"
           }
          ],
          "scattergeo": [
           {
            "marker": {
             "colorbar": {
              "outlinewidth": 0,
              "ticks": ""
             }
            },
            "type": "scattergeo"
           }
          ],
          "scattergl": [
           {
            "marker": {
             "colorbar": {
              "outlinewidth": 0,
              "ticks": ""
             }
            },
            "type": "scattergl"
           }
          ],
          "scattermapbox": [
           {
            "marker": {
             "colorbar": {
              "outlinewidth": 0,
              "ticks": ""
             }
            },
            "type": "scattermapbox"
           }
          ],
          "scatterpolar": [
           {
            "marker": {
             "colorbar": {
              "outlinewidth": 0,
              "ticks": ""
             }
            },
            "type": "scatterpolar"
           }
          ],
          "scatterpolargl": [
           {
            "marker": {
             "colorbar": {
              "outlinewidth": 0,
              "ticks": ""
             }
            },
            "type": "scatterpolargl"
           }
          ],
          "scatterternary": [
           {
            "marker": {
             "colorbar": {
              "outlinewidth": 0,
              "ticks": ""
             }
            },
            "type": "scatterternary"
           }
          ],
          "surface": [
           {
            "colorbar": {
             "outlinewidth": 0,
             "ticks": ""
            },
            "colorscale": [
             [
              0,
              "#0d0887"
             ],
             [
              0.1111111111111111,
              "#46039f"
             ],
             [
              0.2222222222222222,
              "#7201a8"
             ],
             [
              0.3333333333333333,
              "#9c179e"
             ],
             [
              0.4444444444444444,
              "#bd3786"
             ],
             [
              0.5555555555555556,
              "#d8576b"
             ],
             [
              0.6666666666666666,
              "#ed7953"
             ],
             [
              0.7777777777777778,
              "#fb9f3a"
             ],
             [
              0.8888888888888888,
              "#fdca26"
             ],
             [
              1,
              "#f0f921"
             ]
            ],
            "type": "surface"
           }
          ],
          "table": [
           {
            "cells": {
             "fill": {
              "color": "#EBF0F8"
             },
             "line": {
              "color": "white"
             }
            },
            "header": {
             "fill": {
              "color": "#C8D4E3"
             },
             "line": {
              "color": "white"
             }
            },
            "type": "table"
           }
          ]
         },
         "layout": {
          "annotationdefaults": {
           "arrowcolor": "#2a3f5f",
           "arrowhead": 0,
           "arrowwidth": 1
          },
          "autotypenumbers": "strict",
          "coloraxis": {
           "colorbar": {
            "outlinewidth": 0,
            "ticks": ""
           }
          },
          "colorscale": {
           "diverging": [
            [
             0,
             "#8e0152"
            ],
            [
             0.1,
             "#c51b7d"
            ],
            [
             0.2,
             "#de77ae"
            ],
            [
             0.3,
             "#f1b6da"
            ],
            [
             0.4,
             "#fde0ef"
            ],
            [
             0.5,
             "#f7f7f7"
            ],
            [
             0.6,
             "#e6f5d0"
            ],
            [
             0.7,
             "#b8e186"
            ],
            [
             0.8,
             "#7fbc41"
            ],
            [
             0.9,
             "#4d9221"
            ],
            [
             1,
             "#276419"
            ]
           ],
           "sequential": [
            [
             0,
             "#0d0887"
            ],
            [
             0.1111111111111111,
             "#46039f"
            ],
            [
             0.2222222222222222,
             "#7201a8"
            ],
            [
             0.3333333333333333,
             "#9c179e"
            ],
            [
             0.4444444444444444,
             "#bd3786"
            ],
            [
             0.5555555555555556,
             "#d8576b"
            ],
            [
             0.6666666666666666,
             "#ed7953"
            ],
            [
             0.7777777777777778,
             "#fb9f3a"
            ],
            [
             0.8888888888888888,
             "#fdca26"
            ],
            [
             1,
             "#f0f921"
            ]
           ],
           "sequentialminus": [
            [
             0,
             "#0d0887"
            ],
            [
             0.1111111111111111,
             "#46039f"
            ],
            [
             0.2222222222222222,
             "#7201a8"
            ],
            [
             0.3333333333333333,
             "#9c179e"
            ],
            [
             0.4444444444444444,
             "#bd3786"
            ],
            [
             0.5555555555555556,
             "#d8576b"
            ],
            [
             0.6666666666666666,
             "#ed7953"
            ],
            [
             0.7777777777777778,
             "#fb9f3a"
            ],
            [
             0.8888888888888888,
             "#fdca26"
            ],
            [
             1,
             "#f0f921"
            ]
           ]
          },
          "colorway": [
           "#636efa",
           "#EF553B",
           "#00cc96",
           "#ab63fa",
           "#FFA15A",
           "#19d3f3",
           "#FF6692",
           "#B6E880",
           "#FF97FF",
           "#FECB52"
          ],
          "font": {
           "color": "#2a3f5f"
          },
          "geo": {
           "bgcolor": "white",
           "lakecolor": "white",
           "landcolor": "#E5ECF6",
           "showlakes": true,
           "showland": true,
           "subunitcolor": "white"
          },
          "hoverlabel": {
           "align": "left"
          },
          "hovermode": "closest",
          "mapbox": {
           "style": "light"
          },
          "paper_bgcolor": "white",
          "plot_bgcolor": "#E5ECF6",
          "polar": {
           "angularaxis": {
            "gridcolor": "white",
            "linecolor": "white",
            "ticks": ""
           },
           "bgcolor": "#E5ECF6",
           "radialaxis": {
            "gridcolor": "white",
            "linecolor": "white",
            "ticks": ""
           }
          },
          "scene": {
           "xaxis": {
            "backgroundcolor": "#E5ECF6",
            "gridcolor": "white",
            "gridwidth": 2,
            "linecolor": "white",
            "showbackground": true,
            "ticks": "",
            "zerolinecolor": "white"
           },
           "yaxis": {
            "backgroundcolor": "#E5ECF6",
            "gridcolor": "white",
            "gridwidth": 2,
            "linecolor": "white",
            "showbackground": true,
            "ticks": "",
            "zerolinecolor": "white"
           },
           "zaxis": {
            "backgroundcolor": "#E5ECF6",
            "gridcolor": "white",
            "gridwidth": 2,
            "linecolor": "white",
            "showbackground": true,
            "ticks": "",
            "zerolinecolor": "white"
           }
          },
          "shapedefaults": {
           "line": {
            "color": "#2a3f5f"
           }
          },
          "ternary": {
           "aaxis": {
            "gridcolor": "white",
            "linecolor": "white",
            "ticks": ""
           },
           "baxis": {
            "gridcolor": "white",
            "linecolor": "white",
            "ticks": ""
           },
           "bgcolor": "#E5ECF6",
           "caxis": {
            "gridcolor": "white",
            "linecolor": "white",
            "ticks": ""
           }
          },
          "title": {
           "x": 0.05
          },
          "xaxis": {
           "automargin": true,
           "gridcolor": "white",
           "linecolor": "white",
           "ticks": "",
           "title": {
            "standoff": 15
           },
           "zerolinecolor": "white",
           "zerolinewidth": 2
          },
          "yaxis": {
           "automargin": true,
           "gridcolor": "white",
           "linecolor": "white",
           "ticks": "",
           "title": {
            "standoff": 15
           },
           "zerolinecolor": "white",
           "zerolinewidth": 2
          }
         }
        },
        "title": {
         "text": "Most Commmon Negative Words"
        },
        "width": 700,
        "xaxis": {
         "anchor": "y",
         "domain": [
          0,
          1
         ],
         "title": {
          "text": "count"
         }
        },
        "yaxis": {
         "anchor": "x",
         "categoryarray": [
          "still",
          "bad",
          "hate",
          "sorry",
          "sad",
          "feel",
          "work",
          "got",
          "really",
          "going",
          "can`t",
          "don`t",
          "im",
          "it`s",
          "go",
          "****",
          "miss",
          "get",
          "like",
          "i`m"
         ],
         "categoryorder": "array",
         "domain": [
          0,
          1
         ],
         "title": {
          "text": "Common_words"
         }
        }
       }
      },
      "text/html": [
       "<div>                            <div id=\"d0a497c5-1110-496d-8205-7a73404d5fbd\" class=\"plotly-graph-div\" style=\"height:700px; width:700px;\"></div>            <script type=\"text/javascript\">                require([\"plotly\"], function(Plotly) {                    window.PLOTLYENV=window.PLOTLYENV || {};                                    if (document.getElementById(\"d0a497c5-1110-496d-8205-7a73404d5fbd\")) {                    Plotly.newPlot(                        \"d0a497c5-1110-496d-8205-7a73404d5fbd\",                        [{\"alignmentgroup\":\"True\",\"hovertemplate\":\"Common_words=%{y}<br>count=%{x}<extra></extra>\",\"legendgroup\":\"i`m\",\"marker\":{\"color\":\"#636efa\",\"pattern\":{\"shape\":\"\"}},\"name\":\"i`m\",\"offsetgroup\":\"i`m\",\"orientation\":\"h\",\"showlegend\":true,\"textposition\":\"auto\",\"type\":\"bar\",\"x\":[866],\"xaxis\":\"x\",\"y\":[\"i`m\"],\"yaxis\":\"y\"},{\"alignmentgroup\":\"True\",\"hovertemplate\":\"Common_words=%{y}<br>count=%{x}<extra></extra>\",\"legendgroup\":\"like\",\"marker\":{\"color\":\"#EF553B\",\"pattern\":{\"shape\":\"\"}},\"name\":\"like\",\"offsetgroup\":\"like\",\"orientation\":\"h\",\"showlegend\":true,\"textposition\":\"auto\",\"type\":\"bar\",\"x\":[464],\"xaxis\":\"x\",\"y\":[\"like\"],\"yaxis\":\"y\"},{\"alignmentgroup\":\"True\",\"hovertemplate\":\"Common_words=%{y}<br>count=%{x}<extra></extra>\",\"legendgroup\":\"get\",\"marker\":{\"color\":\"#00cc96\",\"pattern\":{\"shape\":\"\"}},\"name\":\"get\",\"offsetgroup\":\"get\",\"orientation\":\"h\",\"showlegend\":true,\"textposition\":\"auto\",\"type\":\"bar\",\"x\":[432],\"xaxis\":\"x\",\"y\":[\"get\"],\"yaxis\":\"y\"},{\"alignmentgroup\":\"True\",\"hovertemplate\":\"Common_words=%{y}<br>count=%{x}<extra></extra>\",\"legendgroup\":\"miss\",\"marker\":{\"color\":\"#ab63fa\",\"pattern\":{\"shape\":\"\"}},\"name\":\"miss\",\"offsetgroup\":\"miss\",\"orientation\":\"h\",\"showlegend\":true,\"textposition\":\"auto\",\"type\":\"bar\",\"x\":[422],\"xaxis\":\"x\",\"y\":[\"miss\"],\"yaxis\":\"y\"},{\"alignmentgroup\":\"True\",\"hovertemplate\":\"Common_words=%{y}<br>count=%{x}<extra></extra>\",\"legendgroup\":\"****\",\"marker\":{\"color\":\"#FFA15A\",\"pattern\":{\"shape\":\"\"}},\"name\":\"****\",\"offsetgroup\":\"****\",\"orientation\":\"h\",\"showlegend\":true,\"textposition\":\"auto\",\"type\":\"bar\",\"x\":[405],\"xaxis\":\"x\",\"y\":[\"****\"],\"yaxis\":\"y\"},{\"alignmentgroup\":\"True\",\"hovertemplate\":\"Common_words=%{y}<br>count=%{x}<extra></extra>\",\"legendgroup\":\"go\",\"marker\":{\"color\":\"#19d3f3\",\"pattern\":{\"shape\":\"\"}},\"name\":\"go\",\"offsetgroup\":\"go\",\"orientation\":\"h\",\"showlegend\":true,\"textposition\":\"auto\",\"type\":\"bar\",\"x\":[377],\"xaxis\":\"x\",\"y\":[\"go\"],\"yaxis\":\"y\"},{\"alignmentgroup\":\"True\",\"hovertemplate\":\"Common_words=%{y}<br>count=%{x}<extra></extra>\",\"legendgroup\":\"it`s\",\"marker\":{\"color\":\"#FF6692\",\"pattern\":{\"shape\":\"\"}},\"name\":\"it`s\",\"offsetgroup\":\"it`s\",\"orientation\":\"h\",\"showlegend\":true,\"textposition\":\"auto\",\"type\":\"bar\",\"x\":[366],\"xaxis\":\"x\",\"y\":[\"it`s\"],\"yaxis\":\"y\"},{\"alignmentgroup\":\"True\",\"hovertemplate\":\"Common_words=%{y}<br>count=%{x}<extra></extra>\",\"legendgroup\":\"im\",\"marker\":{\"color\":\"#B6E880\",\"pattern\":{\"shape\":\"\"}},\"name\":\"im\",\"offsetgroup\":\"im\",\"orientation\":\"h\",\"showlegend\":true,\"textposition\":\"auto\",\"type\":\"bar\",\"x\":[348],\"xaxis\":\"x\",\"y\":[\"im\"],\"yaxis\":\"y\"},{\"alignmentgroup\":\"True\",\"hovertemplate\":\"Common_words=%{y}<br>count=%{x}<extra></extra>\",\"legendgroup\":\"don`t\",\"marker\":{\"color\":\"#FF97FF\",\"pattern\":{\"shape\":\"\"}},\"name\":\"don`t\",\"offsetgroup\":\"don`t\",\"orientation\":\"h\",\"showlegend\":true,\"textposition\":\"auto\",\"type\":\"bar\",\"x\":[336],\"xaxis\":\"x\",\"y\":[\"don`t\"],\"yaxis\":\"y\"},{\"alignmentgroup\":\"True\",\"hovertemplate\":\"Common_words=%{y}<br>count=%{x}<extra></extra>\",\"legendgroup\":\"can`t\",\"marker\":{\"color\":\"#FECB52\",\"pattern\":{\"shape\":\"\"}},\"name\":\"can`t\",\"offsetgroup\":\"can`t\",\"orientation\":\"h\",\"showlegend\":true,\"textposition\":\"auto\",\"type\":\"bar\",\"x\":[328],\"xaxis\":\"x\",\"y\":[\"can`t\"],\"yaxis\":\"y\"},{\"alignmentgroup\":\"True\",\"hovertemplate\":\"Common_words=%{y}<br>count=%{x}<extra></extra>\",\"legendgroup\":\"going\",\"marker\":{\"color\":\"#636efa\",\"pattern\":{\"shape\":\"\"}},\"name\":\"going\",\"offsetgroup\":\"going\",\"orientation\":\"h\",\"showlegend\":true,\"textposition\":\"auto\",\"type\":\"bar\",\"x\":[326],\"xaxis\":\"x\",\"y\":[\"going\"],\"yaxis\":\"y\"},{\"alignmentgroup\":\"True\",\"hovertemplate\":\"Common_words=%{y}<br>count=%{x}<extra></extra>\",\"legendgroup\":\"really\",\"marker\":{\"color\":\"#EF553B\",\"pattern\":{\"shape\":\"\"}},\"name\":\"really\",\"offsetgroup\":\"really\",\"orientation\":\"h\",\"showlegend\":true,\"textposition\":\"auto\",\"type\":\"bar\",\"x\":[320],\"xaxis\":\"x\",\"y\":[\"really\"],\"yaxis\":\"y\"},{\"alignmentgroup\":\"True\",\"hovertemplate\":\"Common_words=%{y}<br>count=%{x}<extra></extra>\",\"legendgroup\":\"got\",\"marker\":{\"color\":\"#00cc96\",\"pattern\":{\"shape\":\"\"}},\"name\":\"got\",\"offsetgroup\":\"got\",\"orientation\":\"h\",\"showlegend\":true,\"textposition\":\"auto\",\"type\":\"bar\",\"x\":[317],\"xaxis\":\"x\",\"y\":[\"got\"],\"yaxis\":\"y\"},{\"alignmentgroup\":\"True\",\"hovertemplate\":\"Common_words=%{y}<br>count=%{x}<extra></extra>\",\"legendgroup\":\"work\",\"marker\":{\"color\":\"#ab63fa\",\"pattern\":{\"shape\":\"\"}},\"name\":\"work\",\"offsetgroup\":\"work\",\"orientation\":\"h\",\"showlegend\":true,\"textposition\":\"auto\",\"type\":\"bar\",\"x\":[309],\"xaxis\":\"x\",\"y\":[\"work\"],\"yaxis\":\"y\"},{\"alignmentgroup\":\"True\",\"hovertemplate\":\"Common_words=%{y}<br>count=%{x}<extra></extra>\",\"legendgroup\":\"feel\",\"marker\":{\"color\":\"#FFA15A\",\"pattern\":{\"shape\":\"\"}},\"name\":\"feel\",\"offsetgroup\":\"feel\",\"orientation\":\"h\",\"showlegend\":true,\"textposition\":\"auto\",\"type\":\"bar\",\"x\":[282],\"xaxis\":\"x\",\"y\":[\"feel\"],\"yaxis\":\"y\"},{\"alignmentgroup\":\"True\",\"hovertemplate\":\"Common_words=%{y}<br>count=%{x}<extra></extra>\",\"legendgroup\":\"sad\",\"marker\":{\"color\":\"#19d3f3\",\"pattern\":{\"shape\":\"\"}},\"name\":\"sad\",\"offsetgroup\":\"sad\",\"orientation\":\"h\",\"showlegend\":true,\"textposition\":\"auto\",\"type\":\"bar\",\"x\":[280],\"xaxis\":\"x\",\"y\":[\"sad\"],\"yaxis\":\"y\"},{\"alignmentgroup\":\"True\",\"hovertemplate\":\"Common_words=%{y}<br>count=%{x}<extra></extra>\",\"legendgroup\":\"sorry\",\"marker\":{\"color\":\"#FF6692\",\"pattern\":{\"shape\":\"\"}},\"name\":\"sorry\",\"offsetgroup\":\"sorry\",\"orientation\":\"h\",\"showlegend\":true,\"textposition\":\"auto\",\"type\":\"bar\",\"x\":[264],\"xaxis\":\"x\",\"y\":[\"sorry\"],\"yaxis\":\"y\"},{\"alignmentgroup\":\"True\",\"hovertemplate\":\"Common_words=%{y}<br>count=%{x}<extra></extra>\",\"legendgroup\":\"hate\",\"marker\":{\"color\":\"#B6E880\",\"pattern\":{\"shape\":\"\"}},\"name\":\"hate\",\"offsetgroup\":\"hate\",\"orientation\":\"h\",\"showlegend\":true,\"textposition\":\"auto\",\"type\":\"bar\",\"x\":[261],\"xaxis\":\"x\",\"y\":[\"hate\"],\"yaxis\":\"y\"},{\"alignmentgroup\":\"True\",\"hovertemplate\":\"Common_words=%{y}<br>count=%{x}<extra></extra>\",\"legendgroup\":\"bad\",\"marker\":{\"color\":\"#FF97FF\",\"pattern\":{\"shape\":\"\"}},\"name\":\"bad\",\"offsetgroup\":\"bad\",\"orientation\":\"h\",\"showlegend\":true,\"textposition\":\"auto\",\"type\":\"bar\",\"x\":[245],\"xaxis\":\"x\",\"y\":[\"bad\"],\"yaxis\":\"y\"},{\"alignmentgroup\":\"True\",\"hovertemplate\":\"Common_words=%{y}<br>count=%{x}<extra></extra>\",\"legendgroup\":\"still\",\"marker\":{\"color\":\"#FECB52\",\"pattern\":{\"shape\":\"\"}},\"name\":\"still\",\"offsetgroup\":\"still\",\"orientation\":\"h\",\"showlegend\":true,\"textposition\":\"auto\",\"type\":\"bar\",\"x\":[240],\"xaxis\":\"x\",\"y\":[\"still\"],\"yaxis\":\"y\"}],                        {\"barmode\":\"relative\",\"height\":700,\"legend\":{\"title\":{\"text\":\"Common_words\"},\"tracegroupgap\":0},\"template\":{\"data\":{\"bar\":[{\"error_x\":{\"color\":\"#2a3f5f\"},\"error_y\":{\"color\":\"#2a3f5f\"},\"marker\":{\"line\":{\"color\":\"#E5ECF6\",\"width\":0.5},\"pattern\":{\"fillmode\":\"overlay\",\"size\":10,\"solidity\":0.2}},\"type\":\"bar\"}],\"barpolar\":[{\"marker\":{\"line\":{\"color\":\"#E5ECF6\",\"width\":0.5},\"pattern\":{\"fillmode\":\"overlay\",\"size\":10,\"solidity\":0.2}},\"type\":\"barpolar\"}],\"carpet\":[{\"aaxis\":{\"endlinecolor\":\"#2a3f5f\",\"gridcolor\":\"white\",\"linecolor\":\"white\",\"minorgridcolor\":\"white\",\"startlinecolor\":\"#2a3f5f\"},\"baxis\":{\"endlinecolor\":\"#2a3f5f\",\"gridcolor\":\"white\",\"linecolor\":\"white\",\"minorgridcolor\":\"white\",\"startlinecolor\":\"#2a3f5f\"},\"type\":\"carpet\"}],\"choropleth\":[{\"colorbar\":{\"outlinewidth\":0,\"ticks\":\"\"},\"type\":\"choropleth\"}],\"contour\":[{\"colorbar\":{\"outlinewidth\":0,\"ticks\":\"\"},\"colorscale\":[[0.0,\"#0d0887\"],[0.1111111111111111,\"#46039f\"],[0.2222222222222222,\"#7201a8\"],[0.3333333333333333,\"#9c179e\"],[0.4444444444444444,\"#bd3786\"],[0.5555555555555556,\"#d8576b\"],[0.6666666666666666,\"#ed7953\"],[0.7777777777777778,\"#fb9f3a\"],[0.8888888888888888,\"#fdca26\"],[1.0,\"#f0f921\"]],\"type\":\"contour\"}],\"contourcarpet\":[{\"colorbar\":{\"outlinewidth\":0,\"ticks\":\"\"},\"type\":\"contourcarpet\"}],\"heatmap\":[{\"colorbar\":{\"outlinewidth\":0,\"ticks\":\"\"},\"colorscale\":[[0.0,\"#0d0887\"],[0.1111111111111111,\"#46039f\"],[0.2222222222222222,\"#7201a8\"],[0.3333333333333333,\"#9c179e\"],[0.4444444444444444,\"#bd3786\"],[0.5555555555555556,\"#d8576b\"],[0.6666666666666666,\"#ed7953\"],[0.7777777777777778,\"#fb9f3a\"],[0.8888888888888888,\"#fdca26\"],[1.0,\"#f0f921\"]],\"type\":\"heatmap\"}],\"heatmapgl\":[{\"colorbar\":{\"outlinewidth\":0,\"ticks\":\"\"},\"colorscale\":[[0.0,\"#0d0887\"],[0.1111111111111111,\"#46039f\"],[0.2222222222222222,\"#7201a8\"],[0.3333333333333333,\"#9c179e\"],[0.4444444444444444,\"#bd3786\"],[0.5555555555555556,\"#d8576b\"],[0.6666666666666666,\"#ed7953\"],[0.7777777777777778,\"#fb9f3a\"],[0.8888888888888888,\"#fdca26\"],[1.0,\"#f0f921\"]],\"type\":\"heatmapgl\"}],\"histogram\":[{\"marker\":{\"pattern\":{\"fillmode\":\"overlay\",\"size\":10,\"solidity\":0.2}},\"type\":\"histogram\"}],\"histogram2d\":[{\"colorbar\":{\"outlinewidth\":0,\"ticks\":\"\"},\"colorscale\":[[0.0,\"#0d0887\"],[0.1111111111111111,\"#46039f\"],[0.2222222222222222,\"#7201a8\"],[0.3333333333333333,\"#9c179e\"],[0.4444444444444444,\"#bd3786\"],[0.5555555555555556,\"#d8576b\"],[0.6666666666666666,\"#ed7953\"],[0.7777777777777778,\"#fb9f3a\"],[0.8888888888888888,\"#fdca26\"],[1.0,\"#f0f921\"]],\"type\":\"histogram2d\"}],\"histogram2dcontour\":[{\"colorbar\":{\"outlinewidth\":0,\"ticks\":\"\"},\"colorscale\":[[0.0,\"#0d0887\"],[0.1111111111111111,\"#46039f\"],[0.2222222222222222,\"#7201a8\"],[0.3333333333333333,\"#9c179e\"],[0.4444444444444444,\"#bd3786\"],[0.5555555555555556,\"#d8576b\"],[0.6666666666666666,\"#ed7953\"],[0.7777777777777778,\"#fb9f3a\"],[0.8888888888888888,\"#fdca26\"],[1.0,\"#f0f921\"]],\"type\":\"histogram2dcontour\"}],\"mesh3d\":[{\"colorbar\":{\"outlinewidth\":0,\"ticks\":\"\"},\"type\":\"mesh3d\"}],\"parcoords\":[{\"line\":{\"colorbar\":{\"outlinewidth\":0,\"ticks\":\"\"}},\"type\":\"parcoords\"}],\"pie\":[{\"automargin\":true,\"type\":\"pie\"}],\"scatter\":[{\"marker\":{\"colorbar\":{\"outlinewidth\":0,\"ticks\":\"\"}},\"type\":\"scatter\"}],\"scatter3d\":[{\"line\":{\"colorbar\":{\"outlinewidth\":0,\"ticks\":\"\"}},\"marker\":{\"colorbar\":{\"outlinewidth\":0,\"ticks\":\"\"}},\"type\":\"scatter3d\"}],\"scattercarpet\":[{\"marker\":{\"colorbar\":{\"outlinewidth\":0,\"ticks\":\"\"}},\"type\":\"scattercarpet\"}],\"scattergeo\":[{\"marker\":{\"colorbar\":{\"outlinewidth\":0,\"ticks\":\"\"}},\"type\":\"scattergeo\"}],\"scattergl\":[{\"marker\":{\"colorbar\":{\"outlinewidth\":0,\"ticks\":\"\"}},\"type\":\"scattergl\"}],\"scattermapbox\":[{\"marker\":{\"colorbar\":{\"outlinewidth\":0,\"ticks\":\"\"}},\"type\":\"scattermapbox\"}],\"scatterpolar\":[{\"marker\":{\"colorbar\":{\"outlinewidth\":0,\"ticks\":\"\"}},\"type\":\"scatterpolar\"}],\"scatterpolargl\":[{\"marker\":{\"colorbar\":{\"outlinewidth\":0,\"ticks\":\"\"}},\"type\":\"scatterpolargl\"}],\"scatterternary\":[{\"marker\":{\"colorbar\":{\"outlinewidth\":0,\"ticks\":\"\"}},\"type\":\"scatterternary\"}],\"surface\":[{\"colorbar\":{\"outlinewidth\":0,\"ticks\":\"\"},\"colorscale\":[[0.0,\"#0d0887\"],[0.1111111111111111,\"#46039f\"],[0.2222222222222222,\"#7201a8\"],[0.3333333333333333,\"#9c179e\"],[0.4444444444444444,\"#bd3786\"],[0.5555555555555556,\"#d8576b\"],[0.6666666666666666,\"#ed7953\"],[0.7777777777777778,\"#fb9f3a\"],[0.8888888888888888,\"#fdca26\"],[1.0,\"#f0f921\"]],\"type\":\"surface\"}],\"table\":[{\"cells\":{\"fill\":{\"color\":\"#EBF0F8\"},\"line\":{\"color\":\"white\"}},\"header\":{\"fill\":{\"color\":\"#C8D4E3\"},\"line\":{\"color\":\"white\"}},\"type\":\"table\"}]},\"layout\":{\"annotationdefaults\":{\"arrowcolor\":\"#2a3f5f\",\"arrowhead\":0,\"arrowwidth\":1},\"autotypenumbers\":\"strict\",\"coloraxis\":{\"colorbar\":{\"outlinewidth\":0,\"ticks\":\"\"}},\"colorscale\":{\"diverging\":[[0,\"#8e0152\"],[0.1,\"#c51b7d\"],[0.2,\"#de77ae\"],[0.3,\"#f1b6da\"],[0.4,\"#fde0ef\"],[0.5,\"#f7f7f7\"],[0.6,\"#e6f5d0\"],[0.7,\"#b8e186\"],[0.8,\"#7fbc41\"],[0.9,\"#4d9221\"],[1,\"#276419\"]],\"sequential\":[[0.0,\"#0d0887\"],[0.1111111111111111,\"#46039f\"],[0.2222222222222222,\"#7201a8\"],[0.3333333333333333,\"#9c179e\"],[0.4444444444444444,\"#bd3786\"],[0.5555555555555556,\"#d8576b\"],[0.6666666666666666,\"#ed7953\"],[0.7777777777777778,\"#fb9f3a\"],[0.8888888888888888,\"#fdca26\"],[1.0,\"#f0f921\"]],\"sequentialminus\":[[0.0,\"#0d0887\"],[0.1111111111111111,\"#46039f\"],[0.2222222222222222,\"#7201a8\"],[0.3333333333333333,\"#9c179e\"],[0.4444444444444444,\"#bd3786\"],[0.5555555555555556,\"#d8576b\"],[0.6666666666666666,\"#ed7953\"],[0.7777777777777778,\"#fb9f3a\"],[0.8888888888888888,\"#fdca26\"],[1.0,\"#f0f921\"]]},\"colorway\":[\"#636efa\",\"#EF553B\",\"#00cc96\",\"#ab63fa\",\"#FFA15A\",\"#19d3f3\",\"#FF6692\",\"#B6E880\",\"#FF97FF\",\"#FECB52\"],\"font\":{\"color\":\"#2a3f5f\"},\"geo\":{\"bgcolor\":\"white\",\"lakecolor\":\"white\",\"landcolor\":\"#E5ECF6\",\"showlakes\":true,\"showland\":true,\"subunitcolor\":\"white\"},\"hoverlabel\":{\"align\":\"left\"},\"hovermode\":\"closest\",\"mapbox\":{\"style\":\"light\"},\"paper_bgcolor\":\"white\",\"plot_bgcolor\":\"#E5ECF6\",\"polar\":{\"angularaxis\":{\"gridcolor\":\"white\",\"linecolor\":\"white\",\"ticks\":\"\"},\"bgcolor\":\"#E5ECF6\",\"radialaxis\":{\"gridcolor\":\"white\",\"linecolor\":\"white\",\"ticks\":\"\"}},\"scene\":{\"xaxis\":{\"backgroundcolor\":\"#E5ECF6\",\"gridcolor\":\"white\",\"gridwidth\":2,\"linecolor\":\"white\",\"showbackground\":true,\"ticks\":\"\",\"zerolinecolor\":\"white\"},\"yaxis\":{\"backgroundcolor\":\"#E5ECF6\",\"gridcolor\":\"white\",\"gridwidth\":2,\"linecolor\":\"white\",\"showbackground\":true,\"ticks\":\"\",\"zerolinecolor\":\"white\"},\"zaxis\":{\"backgroundcolor\":\"#E5ECF6\",\"gridcolor\":\"white\",\"gridwidth\":2,\"linecolor\":\"white\",\"showbackground\":true,\"ticks\":\"\",\"zerolinecolor\":\"white\"}},\"shapedefaults\":{\"line\":{\"color\":\"#2a3f5f\"}},\"ternary\":{\"aaxis\":{\"gridcolor\":\"white\",\"linecolor\":\"white\",\"ticks\":\"\"},\"baxis\":{\"gridcolor\":\"white\",\"linecolor\":\"white\",\"ticks\":\"\"},\"bgcolor\":\"#E5ECF6\",\"caxis\":{\"gridcolor\":\"white\",\"linecolor\":\"white\",\"ticks\":\"\"}},\"title\":{\"x\":0.05},\"xaxis\":{\"automargin\":true,\"gridcolor\":\"white\",\"linecolor\":\"white\",\"ticks\":\"\",\"title\":{\"standoff\":15},\"zerolinecolor\":\"white\",\"zerolinewidth\":2},\"yaxis\":{\"automargin\":true,\"gridcolor\":\"white\",\"linecolor\":\"white\",\"ticks\":\"\",\"title\":{\"standoff\":15},\"zerolinecolor\":\"white\",\"zerolinewidth\":2}}},\"title\":{\"text\":\"Most Commmon Negative Words\"},\"width\":700,\"xaxis\":{\"anchor\":\"y\",\"domain\":[0.0,1.0],\"title\":{\"text\":\"count\"}},\"yaxis\":{\"anchor\":\"x\",\"categoryarray\":[\"still\",\"bad\",\"hate\",\"sorry\",\"sad\",\"feel\",\"work\",\"got\",\"really\",\"going\",\"can`t\",\"don`t\",\"im\",\"it`s\",\"go\",\"****\",\"miss\",\"get\",\"like\",\"i`m\"],\"categoryorder\":\"array\",\"domain\":[0.0,1.0],\"title\":{\"text\":\"Common_words\"}}},                        {\"responsive\": true}                    ).then(function(){\n",
       "                            \n",
       "var gd = document.getElementById('d0a497c5-1110-496d-8205-7a73404d5fbd');\n",
       "var x = new MutationObserver(function (mutations, observer) {{\n",
       "        var display = window.getComputedStyle(gd).display;\n",
       "        if (!display || display === 'none') {{\n",
       "            console.log([gd, 'removed!']);\n",
       "            Plotly.purge(gd);\n",
       "            observer.disconnect();\n",
       "        }}\n",
       "}});\n",
       "\n",
       "// Listen for the removal of the full notebook cells\n",
       "var notebookContainer = gd.closest('#notebook-container');\n",
       "if (notebookContainer) {{\n",
       "    x.observe(notebookContainer, {childList: true});\n",
       "}}\n",
       "\n",
       "// Listen for the clearing of the current output cell\n",
       "var outputEl = gd.closest('.output');\n",
       "if (outputEl) {{\n",
       "    x.observe(outputEl, {childList: true});\n",
       "}}\n",
       "\n",
       "                        })                };                });            </script>        </div>"
      ]
     },
     "metadata": {},
     "output_type": "display_data"
    }
   ],
   "source": [
    "\n",
    "fig = px.bar(temp_negatives, x=\"count\", y=\"Common_words\", title='Most Commmon Negative Words', orientation='h', \n",
    "             width=700, height=700,color='Common_words')\n",
    "fig.show()"
   ]
  },
  {
   "cell_type": "markdown",
   "id": "e9cbea7e",
   "metadata": {},
   "source": [
    "### 5.3 Most Common Neutral Words"
   ]
  },
  {
   "cell_type": "code",
   "execution_count": 142,
   "id": "5211969d",
   "metadata": {
    "scrolled": true
   },
   "outputs": [
    {
     "data": {
      "text/html": [
       "<style  type=\"text/css\" >\n",
       "#T_3bbec_row0_col1{\n",
       "            background-color:  #3f007d;\n",
       "            color:  #f1f1f1;\n",
       "        }#T_3bbec_row1_col1{\n",
       "            background-color:  #7465ad;\n",
       "            color:  #000000;\n",
       "        }#T_3bbec_row2_col1{\n",
       "            background-color:  #a09dca;\n",
       "            color:  #000000;\n",
       "        }#T_3bbec_row3_col1{\n",
       "            background-color:  #c2c3df;\n",
       "            color:  #000000;\n",
       "        }#T_3bbec_row4_col1,#T_3bbec_row5_col1{\n",
       "            background-color:  #c7c8e1;\n",
       "            color:  #000000;\n",
       "        }#T_3bbec_row6_col1{\n",
       "            background-color:  #cacae3;\n",
       "            color:  #000000;\n",
       "        }#T_3bbec_row7_col1{\n",
       "            background-color:  #cfd0e6;\n",
       "            color:  #000000;\n",
       "        }#T_3bbec_row8_col1{\n",
       "            background-color:  #e9e8f2;\n",
       "            color:  #000000;\n",
       "        }#T_3bbec_row9_col1{\n",
       "            background-color:  #ecebf4;\n",
       "            color:  #000000;\n",
       "        }#T_3bbec_row10_col1{\n",
       "            background-color:  #f0eef6;\n",
       "            color:  #000000;\n",
       "        }#T_3bbec_row11_col1{\n",
       "            background-color:  #f2f0f7;\n",
       "            color:  #000000;\n",
       "        }#T_3bbec_row12_col1{\n",
       "            background-color:  #f3f2f8;\n",
       "            color:  #000000;\n",
       "        }#T_3bbec_row13_col1{\n",
       "            background-color:  #f4f3f8;\n",
       "            color:  #000000;\n",
       "        }#T_3bbec_row14_col1{\n",
       "            background-color:  #f5f3f8;\n",
       "            color:  #000000;\n",
       "        }#T_3bbec_row15_col1{\n",
       "            background-color:  #f5f4f9;\n",
       "            color:  #000000;\n",
       "        }#T_3bbec_row16_col1{\n",
       "            background-color:  #f7f5fa;\n",
       "            color:  #000000;\n",
       "        }#T_3bbec_row17_col1{\n",
       "            background-color:  #f7f6fa;\n",
       "            color:  #000000;\n",
       "        }#T_3bbec_row18_col1{\n",
       "            background-color:  #fbfafc;\n",
       "            color:  #000000;\n",
       "        }#T_3bbec_row19_col1{\n",
       "            background-color:  #fcfbfd;\n",
       "            color:  #000000;\n",
       "        }</style><table id=\"T_3bbec_\" ><thead>    <tr>        <th class=\"blank level0\" ></th>        <th class=\"col_heading level0 col0\" >Common_words</th>        <th class=\"col_heading level0 col1\" >count</th>    </tr></thead><tbody>\n",
       "                <tr>\n",
       "                        <th id=\"T_3bbec_level0_row0\" class=\"row_heading level0 row0\" >0</th>\n",
       "                        <td id=\"T_3bbec_row0_col0\" class=\"data row0 col0\" >i`m</td>\n",
       "                        <td id=\"T_3bbec_row0_col1\" class=\"data row0 col1\" >752</td>\n",
       "            </tr>\n",
       "            <tr>\n",
       "                        <th id=\"T_3bbec_level0_row1\" class=\"row_heading level0 row1\" >1</th>\n",
       "                        <td id=\"T_3bbec_row1_col0\" class=\"data row1 col0\" >get</td>\n",
       "                        <td id=\"T_3bbec_row1_col1\" class=\"data row1 col1\" >617</td>\n",
       "            </tr>\n",
       "            <tr>\n",
       "                        <th id=\"T_3bbec_level0_row2\" class=\"row_heading level0 row2\" >2</th>\n",
       "                        <td id=\"T_3bbec_row2_col0\" class=\"data row2 col0\" >go</td>\n",
       "                        <td id=\"T_3bbec_row2_col1\" class=\"data row2 col1\" >529</td>\n",
       "            </tr>\n",
       "            <tr>\n",
       "                        <th id=\"T_3bbec_level0_row3\" class=\"row_heading level0 row3\" >3</th>\n",
       "                        <td id=\"T_3bbec_row3_col0\" class=\"data row3 col0\" >-</td>\n",
       "                        <td id=\"T_3bbec_row3_col1\" class=\"data row3 col1\" >466</td>\n",
       "            </tr>\n",
       "            <tr>\n",
       "                        <th id=\"T_3bbec_level0_row4\" class=\"row_heading level0 row4\" >4</th>\n",
       "                        <td id=\"T_3bbec_row4_col0\" class=\"data row4 col0\" >going</td>\n",
       "                        <td id=\"T_3bbec_row4_col1\" class=\"data row4 col1\" >458</td>\n",
       "            </tr>\n",
       "            <tr>\n",
       "                        <th id=\"T_3bbec_level0_row5\" class=\"row_heading level0 row5\" >5</th>\n",
       "                        <td id=\"T_3bbec_row5_col0\" class=\"data row5 col0\" >it`s</td>\n",
       "                        <td id=\"T_3bbec_row5_col1\" class=\"data row5 col1\" >458</td>\n",
       "            </tr>\n",
       "            <tr>\n",
       "                        <th id=\"T_3bbec_level0_row6\" class=\"row_heading level0 row6\" >6</th>\n",
       "                        <td id=\"T_3bbec_row6_col0\" class=\"data row6 col0\" >got</td>\n",
       "                        <td id=\"T_3bbec_row6_col1\" class=\"data row6 col1\" >453</td>\n",
       "            </tr>\n",
       "            <tr>\n",
       "                        <th id=\"T_3bbec_level0_row7\" class=\"row_heading level0 row7\" >7</th>\n",
       "                        <td id=\"T_3bbec_row7_col0\" class=\"data row7 col0\" >like</td>\n",
       "                        <td id=\"T_3bbec_row7_col1\" class=\"data row7 col1\" >443</td>\n",
       "            </tr>\n",
       "            <tr>\n",
       "                        <th id=\"T_3bbec_level0_row8\" class=\"row_heading level0 row8\" >8</th>\n",
       "                        <td id=\"T_3bbec_row8_col0\" class=\"data row8 col0\" >day</td>\n",
       "                        <td id=\"T_3bbec_row8_col1\" class=\"data row8 col1\" >385</td>\n",
       "            </tr>\n",
       "            <tr>\n",
       "                        <th id=\"T_3bbec_level0_row9\" class=\"row_heading level0 row9\" >9</th>\n",
       "                        <td id=\"T_3bbec_row9_col0\" class=\"data row9 col0\" >work</td>\n",
       "                        <td id=\"T_3bbec_row9_col1\" class=\"data row9 col1\" >375</td>\n",
       "            </tr>\n",
       "            <tr>\n",
       "                        <th id=\"T_3bbec_level0_row10\" class=\"row_heading level0 row10\" >10</th>\n",
       "                        <td id=\"T_3bbec_row10_col0\" class=\"data row10 col0\" >back</td>\n",
       "                        <td id=\"T_3bbec_row10_col1\" class=\"data row10 col1\" >363</td>\n",
       "            </tr>\n",
       "            <tr>\n",
       "                        <th id=\"T_3bbec_level0_row11\" class=\"row_heading level0 row11\" >11</th>\n",
       "                        <td id=\"T_3bbec_row11_col0\" class=\"data row11 col0\" >u</td>\n",
       "                        <td id=\"T_3bbec_row11_col1\" class=\"data row11 col1\" >356</td>\n",
       "            </tr>\n",
       "            <tr>\n",
       "                        <th id=\"T_3bbec_level0_row12\" class=\"row_heading level0 row12\" >12</th>\n",
       "                        <td id=\"T_3bbec_row12_col0\" class=\"data row12 col0\" >one</td>\n",
       "                        <td id=\"T_3bbec_row12_col1\" class=\"data row12 col1\" >350</td>\n",
       "            </tr>\n",
       "            <tr>\n",
       "                        <th id=\"T_3bbec_level0_row13\" class=\"row_heading level0 row13\" >13</th>\n",
       "                        <td id=\"T_3bbec_row13_col0\" class=\"data row13 col0\" >know</td>\n",
       "                        <td id=\"T_3bbec_row13_col1\" class=\"data row13 col1\" >347</td>\n",
       "            </tr>\n",
       "            <tr>\n",
       "                        <th id=\"T_3bbec_level0_row14\" class=\"row_heading level0 row14\" >14</th>\n",
       "                        <td id=\"T_3bbec_row14_col0\" class=\"data row14 col0\" >don`t</td>\n",
       "                        <td id=\"T_3bbec_row14_col1\" class=\"data row14 col1\" >345</td>\n",
       "            </tr>\n",
       "            <tr>\n",
       "                        <th id=\"T_3bbec_level0_row15\" class=\"row_heading level0 row15\" >15</th>\n",
       "                        <td id=\"T_3bbec_row15_col0\" class=\"data row15 col0\" >see</td>\n",
       "                        <td id=\"T_3bbec_row15_col1\" class=\"data row15 col1\" >342</td>\n",
       "            </tr>\n",
       "            <tr>\n",
       "                        <th id=\"T_3bbec_level0_row16\" class=\"row_heading level0 row16\" >16</th>\n",
       "                        <td id=\"T_3bbec_row16_col0\" class=\"data row16 col0\" >lol</td>\n",
       "                        <td id=\"T_3bbec_row16_col1\" class=\"data row16 col1\" >336</td>\n",
       "            </tr>\n",
       "            <tr>\n",
       "                        <th id=\"T_3bbec_level0_row17\" class=\"row_heading level0 row17\" >17</th>\n",
       "                        <td id=\"T_3bbec_row17_col0\" class=\"data row17 col0\" >time</td>\n",
       "                        <td id=\"T_3bbec_row17_col1\" class=\"data row17 col1\" >335</td>\n",
       "            </tr>\n",
       "            <tr>\n",
       "                        <th id=\"T_3bbec_level0_row18\" class=\"row_heading level0 row18\" >18</th>\n",
       "                        <td id=\"T_3bbec_row18_col0\" class=\"data row18 col0\" >want</td>\n",
       "                        <td id=\"T_3bbec_row18_col1\" class=\"data row18 col1\" >319</td>\n",
       "            </tr>\n",
       "            <tr>\n",
       "                        <th id=\"T_3bbec_level0_row19\" class=\"row_heading level0 row19\" >19</th>\n",
       "                        <td id=\"T_3bbec_row19_col0\" class=\"data row19 col0\" >new</td>\n",
       "                        <td id=\"T_3bbec_row19_col1\" class=\"data row19 col1\" >313</td>\n",
       "            </tr>\n",
       "    </tbody></table>"
      ],
      "text/plain": [
       "<pandas.io.formats.style.Styler at 0x200618fba90>"
      ]
     },
     "execution_count": 142,
     "metadata": {},
     "output_type": "execute_result"
    }
   ],
   "source": [
    "top = Counter([word for sentence in neutral_sentiment[\"temp_text\"] for word in sentence.split()])\n",
    "temp_neutrals = pd.DataFrame(top.most_common(20))\n",
    "temp_neutrals.columns = ['Common_words','count']\n",
    "temp_neutrals.style.background_gradient(cmap='Purples')"
   ]
  },
  {
   "cell_type": "code",
   "execution_count": 143,
   "id": "0bdb35be",
   "metadata": {},
   "outputs": [
    {
     "data": {
      "application/vnd.plotly.v1+json": {
       "config": {
        "plotlyServerURL": "https://plot.ly"
       },
       "data": [
        {
         "alignmentgroup": "True",
         "hovertemplate": "Common_words=%{y}<br>count=%{x}<extra></extra>",
         "legendgroup": "i`m",
         "marker": {
          "color": "#636efa",
          "pattern": {
           "shape": ""
          }
         },
         "name": "i`m",
         "offsetgroup": "i`m",
         "orientation": "h",
         "showlegend": true,
         "textposition": "auto",
         "type": "bar",
         "x": [
          752
         ],
         "xaxis": "x",
         "y": [
          "i`m"
         ],
         "yaxis": "y"
        },
        {
         "alignmentgroup": "True",
         "hovertemplate": "Common_words=%{y}<br>count=%{x}<extra></extra>",
         "legendgroup": "get",
         "marker": {
          "color": "#EF553B",
          "pattern": {
           "shape": ""
          }
         },
         "name": "get",
         "offsetgroup": "get",
         "orientation": "h",
         "showlegend": true,
         "textposition": "auto",
         "type": "bar",
         "x": [
          617
         ],
         "xaxis": "x",
         "y": [
          "get"
         ],
         "yaxis": "y"
        },
        {
         "alignmentgroup": "True",
         "hovertemplate": "Common_words=%{y}<br>count=%{x}<extra></extra>",
         "legendgroup": "go",
         "marker": {
          "color": "#00cc96",
          "pattern": {
           "shape": ""
          }
         },
         "name": "go",
         "offsetgroup": "go",
         "orientation": "h",
         "showlegend": true,
         "textposition": "auto",
         "type": "bar",
         "x": [
          529
         ],
         "xaxis": "x",
         "y": [
          "go"
         ],
         "yaxis": "y"
        },
        {
         "alignmentgroup": "True",
         "hovertemplate": "Common_words=%{y}<br>count=%{x}<extra></extra>",
         "legendgroup": "-",
         "marker": {
          "color": "#ab63fa",
          "pattern": {
           "shape": ""
          }
         },
         "name": "-",
         "offsetgroup": "-",
         "orientation": "h",
         "showlegend": true,
         "textposition": "auto",
         "type": "bar",
         "x": [
          466
         ],
         "xaxis": "x",
         "y": [
          "-"
         ],
         "yaxis": "y"
        },
        {
         "alignmentgroup": "True",
         "hovertemplate": "Common_words=%{y}<br>count=%{x}<extra></extra>",
         "legendgroup": "going",
         "marker": {
          "color": "#FFA15A",
          "pattern": {
           "shape": ""
          }
         },
         "name": "going",
         "offsetgroup": "going",
         "orientation": "h",
         "showlegend": true,
         "textposition": "auto",
         "type": "bar",
         "x": [
          458
         ],
         "xaxis": "x",
         "y": [
          "going"
         ],
         "yaxis": "y"
        },
        {
         "alignmentgroup": "True",
         "hovertemplate": "Common_words=%{y}<br>count=%{x}<extra></extra>",
         "legendgroup": "it`s",
         "marker": {
          "color": "#19d3f3",
          "pattern": {
           "shape": ""
          }
         },
         "name": "it`s",
         "offsetgroup": "it`s",
         "orientation": "h",
         "showlegend": true,
         "textposition": "auto",
         "type": "bar",
         "x": [
          458
         ],
         "xaxis": "x",
         "y": [
          "it`s"
         ],
         "yaxis": "y"
        },
        {
         "alignmentgroup": "True",
         "hovertemplate": "Common_words=%{y}<br>count=%{x}<extra></extra>",
         "legendgroup": "got",
         "marker": {
          "color": "#FF6692",
          "pattern": {
           "shape": ""
          }
         },
         "name": "got",
         "offsetgroup": "got",
         "orientation": "h",
         "showlegend": true,
         "textposition": "auto",
         "type": "bar",
         "x": [
          453
         ],
         "xaxis": "x",
         "y": [
          "got"
         ],
         "yaxis": "y"
        },
        {
         "alignmentgroup": "True",
         "hovertemplate": "Common_words=%{y}<br>count=%{x}<extra></extra>",
         "legendgroup": "like",
         "marker": {
          "color": "#B6E880",
          "pattern": {
           "shape": ""
          }
         },
         "name": "like",
         "offsetgroup": "like",
         "orientation": "h",
         "showlegend": true,
         "textposition": "auto",
         "type": "bar",
         "x": [
          443
         ],
         "xaxis": "x",
         "y": [
          "like"
         ],
         "yaxis": "y"
        },
        {
         "alignmentgroup": "True",
         "hovertemplate": "Common_words=%{y}<br>count=%{x}<extra></extra>",
         "legendgroup": "day",
         "marker": {
          "color": "#FF97FF",
          "pattern": {
           "shape": ""
          }
         },
         "name": "day",
         "offsetgroup": "day",
         "orientation": "h",
         "showlegend": true,
         "textposition": "auto",
         "type": "bar",
         "x": [
          385
         ],
         "xaxis": "x",
         "y": [
          "day"
         ],
         "yaxis": "y"
        },
        {
         "alignmentgroup": "True",
         "hovertemplate": "Common_words=%{y}<br>count=%{x}<extra></extra>",
         "legendgroup": "work",
         "marker": {
          "color": "#FECB52",
          "pattern": {
           "shape": ""
          }
         },
         "name": "work",
         "offsetgroup": "work",
         "orientation": "h",
         "showlegend": true,
         "textposition": "auto",
         "type": "bar",
         "x": [
          375
         ],
         "xaxis": "x",
         "y": [
          "work"
         ],
         "yaxis": "y"
        },
        {
         "alignmentgroup": "True",
         "hovertemplate": "Common_words=%{y}<br>count=%{x}<extra></extra>",
         "legendgroup": "back",
         "marker": {
          "color": "#636efa",
          "pattern": {
           "shape": ""
          }
         },
         "name": "back",
         "offsetgroup": "back",
         "orientation": "h",
         "showlegend": true,
         "textposition": "auto",
         "type": "bar",
         "x": [
          363
         ],
         "xaxis": "x",
         "y": [
          "back"
         ],
         "yaxis": "y"
        },
        {
         "alignmentgroup": "True",
         "hovertemplate": "Common_words=%{y}<br>count=%{x}<extra></extra>",
         "legendgroup": "u",
         "marker": {
          "color": "#EF553B",
          "pattern": {
           "shape": ""
          }
         },
         "name": "u",
         "offsetgroup": "u",
         "orientation": "h",
         "showlegend": true,
         "textposition": "auto",
         "type": "bar",
         "x": [
          356
         ],
         "xaxis": "x",
         "y": [
          "u"
         ],
         "yaxis": "y"
        },
        {
         "alignmentgroup": "True",
         "hovertemplate": "Common_words=%{y}<br>count=%{x}<extra></extra>",
         "legendgroup": "one",
         "marker": {
          "color": "#00cc96",
          "pattern": {
           "shape": ""
          }
         },
         "name": "one",
         "offsetgroup": "one",
         "orientation": "h",
         "showlegend": true,
         "textposition": "auto",
         "type": "bar",
         "x": [
          350
         ],
         "xaxis": "x",
         "y": [
          "one"
         ],
         "yaxis": "y"
        },
        {
         "alignmentgroup": "True",
         "hovertemplate": "Common_words=%{y}<br>count=%{x}<extra></extra>",
         "legendgroup": "know",
         "marker": {
          "color": "#ab63fa",
          "pattern": {
           "shape": ""
          }
         },
         "name": "know",
         "offsetgroup": "know",
         "orientation": "h",
         "showlegend": true,
         "textposition": "auto",
         "type": "bar",
         "x": [
          347
         ],
         "xaxis": "x",
         "y": [
          "know"
         ],
         "yaxis": "y"
        },
        {
         "alignmentgroup": "True",
         "hovertemplate": "Common_words=%{y}<br>count=%{x}<extra></extra>",
         "legendgroup": "don`t",
         "marker": {
          "color": "#FFA15A",
          "pattern": {
           "shape": ""
          }
         },
         "name": "don`t",
         "offsetgroup": "don`t",
         "orientation": "h",
         "showlegend": true,
         "textposition": "auto",
         "type": "bar",
         "x": [
          345
         ],
         "xaxis": "x",
         "y": [
          "don`t"
         ],
         "yaxis": "y"
        },
        {
         "alignmentgroup": "True",
         "hovertemplate": "Common_words=%{y}<br>count=%{x}<extra></extra>",
         "legendgroup": "see",
         "marker": {
          "color": "#19d3f3",
          "pattern": {
           "shape": ""
          }
         },
         "name": "see",
         "offsetgroup": "see",
         "orientation": "h",
         "showlegend": true,
         "textposition": "auto",
         "type": "bar",
         "x": [
          342
         ],
         "xaxis": "x",
         "y": [
          "see"
         ],
         "yaxis": "y"
        },
        {
         "alignmentgroup": "True",
         "hovertemplate": "Common_words=%{y}<br>count=%{x}<extra></extra>",
         "legendgroup": "lol",
         "marker": {
          "color": "#FF6692",
          "pattern": {
           "shape": ""
          }
         },
         "name": "lol",
         "offsetgroup": "lol",
         "orientation": "h",
         "showlegend": true,
         "textposition": "auto",
         "type": "bar",
         "x": [
          336
         ],
         "xaxis": "x",
         "y": [
          "lol"
         ],
         "yaxis": "y"
        },
        {
         "alignmentgroup": "True",
         "hovertemplate": "Common_words=%{y}<br>count=%{x}<extra></extra>",
         "legendgroup": "time",
         "marker": {
          "color": "#B6E880",
          "pattern": {
           "shape": ""
          }
         },
         "name": "time",
         "offsetgroup": "time",
         "orientation": "h",
         "showlegend": true,
         "textposition": "auto",
         "type": "bar",
         "x": [
          335
         ],
         "xaxis": "x",
         "y": [
          "time"
         ],
         "yaxis": "y"
        },
        {
         "alignmentgroup": "True",
         "hovertemplate": "Common_words=%{y}<br>count=%{x}<extra></extra>",
         "legendgroup": "want",
         "marker": {
          "color": "#FF97FF",
          "pattern": {
           "shape": ""
          }
         },
         "name": "want",
         "offsetgroup": "want",
         "orientation": "h",
         "showlegend": true,
         "textposition": "auto",
         "type": "bar",
         "x": [
          319
         ],
         "xaxis": "x",
         "y": [
          "want"
         ],
         "yaxis": "y"
        },
        {
         "alignmentgroup": "True",
         "hovertemplate": "Common_words=%{y}<br>count=%{x}<extra></extra>",
         "legendgroup": "new",
         "marker": {
          "color": "#FECB52",
          "pattern": {
           "shape": ""
          }
         },
         "name": "new",
         "offsetgroup": "new",
         "orientation": "h",
         "showlegend": true,
         "textposition": "auto",
         "type": "bar",
         "x": [
          313
         ],
         "xaxis": "x",
         "y": [
          "new"
         ],
         "yaxis": "y"
        }
       ],
       "layout": {
        "barmode": "relative",
        "height": 700,
        "legend": {
         "title": {
          "text": "Common_words"
         },
         "tracegroupgap": 0
        },
        "template": {
         "data": {
          "bar": [
           {
            "error_x": {
             "color": "#2a3f5f"
            },
            "error_y": {
             "color": "#2a3f5f"
            },
            "marker": {
             "line": {
              "color": "#E5ECF6",
              "width": 0.5
             },
             "pattern": {
              "fillmode": "overlay",
              "size": 10,
              "solidity": 0.2
             }
            },
            "type": "bar"
           }
          ],
          "barpolar": [
           {
            "marker": {
             "line": {
              "color": "#E5ECF6",
              "width": 0.5
             },
             "pattern": {
              "fillmode": "overlay",
              "size": 10,
              "solidity": 0.2
             }
            },
            "type": "barpolar"
           }
          ],
          "carpet": [
           {
            "aaxis": {
             "endlinecolor": "#2a3f5f",
             "gridcolor": "white",
             "linecolor": "white",
             "minorgridcolor": "white",
             "startlinecolor": "#2a3f5f"
            },
            "baxis": {
             "endlinecolor": "#2a3f5f",
             "gridcolor": "white",
             "linecolor": "white",
             "minorgridcolor": "white",
             "startlinecolor": "#2a3f5f"
            },
            "type": "carpet"
           }
          ],
          "choropleth": [
           {
            "colorbar": {
             "outlinewidth": 0,
             "ticks": ""
            },
            "type": "choropleth"
           }
          ],
          "contour": [
           {
            "colorbar": {
             "outlinewidth": 0,
             "ticks": ""
            },
            "colorscale": [
             [
              0,
              "#0d0887"
             ],
             [
              0.1111111111111111,
              "#46039f"
             ],
             [
              0.2222222222222222,
              "#7201a8"
             ],
             [
              0.3333333333333333,
              "#9c179e"
             ],
             [
              0.4444444444444444,
              "#bd3786"
             ],
             [
              0.5555555555555556,
              "#d8576b"
             ],
             [
              0.6666666666666666,
              "#ed7953"
             ],
             [
              0.7777777777777778,
              "#fb9f3a"
             ],
             [
              0.8888888888888888,
              "#fdca26"
             ],
             [
              1,
              "#f0f921"
             ]
            ],
            "type": "contour"
           }
          ],
          "contourcarpet": [
           {
            "colorbar": {
             "outlinewidth": 0,
             "ticks": ""
            },
            "type": "contourcarpet"
           }
          ],
          "heatmap": [
           {
            "colorbar": {
             "outlinewidth": 0,
             "ticks": ""
            },
            "colorscale": [
             [
              0,
              "#0d0887"
             ],
             [
              0.1111111111111111,
              "#46039f"
             ],
             [
              0.2222222222222222,
              "#7201a8"
             ],
             [
              0.3333333333333333,
              "#9c179e"
             ],
             [
              0.4444444444444444,
              "#bd3786"
             ],
             [
              0.5555555555555556,
              "#d8576b"
             ],
             [
              0.6666666666666666,
              "#ed7953"
             ],
             [
              0.7777777777777778,
              "#fb9f3a"
             ],
             [
              0.8888888888888888,
              "#fdca26"
             ],
             [
              1,
              "#f0f921"
             ]
            ],
            "type": "heatmap"
           }
          ],
          "heatmapgl": [
           {
            "colorbar": {
             "outlinewidth": 0,
             "ticks": ""
            },
            "colorscale": [
             [
              0,
              "#0d0887"
             ],
             [
              0.1111111111111111,
              "#46039f"
             ],
             [
              0.2222222222222222,
              "#7201a8"
             ],
             [
              0.3333333333333333,
              "#9c179e"
             ],
             [
              0.4444444444444444,
              "#bd3786"
             ],
             [
              0.5555555555555556,
              "#d8576b"
             ],
             [
              0.6666666666666666,
              "#ed7953"
             ],
             [
              0.7777777777777778,
              "#fb9f3a"
             ],
             [
              0.8888888888888888,
              "#fdca26"
             ],
             [
              1,
              "#f0f921"
             ]
            ],
            "type": "heatmapgl"
           }
          ],
          "histogram": [
           {
            "marker": {
             "pattern": {
              "fillmode": "overlay",
              "size": 10,
              "solidity": 0.2
             }
            },
            "type": "histogram"
           }
          ],
          "histogram2d": [
           {
            "colorbar": {
             "outlinewidth": 0,
             "ticks": ""
            },
            "colorscale": [
             [
              0,
              "#0d0887"
             ],
             [
              0.1111111111111111,
              "#46039f"
             ],
             [
              0.2222222222222222,
              "#7201a8"
             ],
             [
              0.3333333333333333,
              "#9c179e"
             ],
             [
              0.4444444444444444,
              "#bd3786"
             ],
             [
              0.5555555555555556,
              "#d8576b"
             ],
             [
              0.6666666666666666,
              "#ed7953"
             ],
             [
              0.7777777777777778,
              "#fb9f3a"
             ],
             [
              0.8888888888888888,
              "#fdca26"
             ],
             [
              1,
              "#f0f921"
             ]
            ],
            "type": "histogram2d"
           }
          ],
          "histogram2dcontour": [
           {
            "colorbar": {
             "outlinewidth": 0,
             "ticks": ""
            },
            "colorscale": [
             [
              0,
              "#0d0887"
             ],
             [
              0.1111111111111111,
              "#46039f"
             ],
             [
              0.2222222222222222,
              "#7201a8"
             ],
             [
              0.3333333333333333,
              "#9c179e"
             ],
             [
              0.4444444444444444,
              "#bd3786"
             ],
             [
              0.5555555555555556,
              "#d8576b"
             ],
             [
              0.6666666666666666,
              "#ed7953"
             ],
             [
              0.7777777777777778,
              "#fb9f3a"
             ],
             [
              0.8888888888888888,
              "#fdca26"
             ],
             [
              1,
              "#f0f921"
             ]
            ],
            "type": "histogram2dcontour"
           }
          ],
          "mesh3d": [
           {
            "colorbar": {
             "outlinewidth": 0,
             "ticks": ""
            },
            "type": "mesh3d"
           }
          ],
          "parcoords": [
           {
            "line": {
             "colorbar": {
              "outlinewidth": 0,
              "ticks": ""
             }
            },
            "type": "parcoords"
           }
          ],
          "pie": [
           {
            "automargin": true,
            "type": "pie"
           }
          ],
          "scatter": [
           {
            "marker": {
             "colorbar": {
              "outlinewidth": 0,
              "ticks": ""
             }
            },
            "type": "scatter"
           }
          ],
          "scatter3d": [
           {
            "line": {
             "colorbar": {
              "outlinewidth": 0,
              "ticks": ""
             }
            },
            "marker": {
             "colorbar": {
              "outlinewidth": 0,
              "ticks": ""
             }
            },
            "type": "scatter3d"
           }
          ],
          "scattercarpet": [
           {
            "marker": {
             "colorbar": {
              "outlinewidth": 0,
              "ticks": ""
             }
            },
            "type": "scattercarpet"
           }
          ],
          "scattergeo": [
           {
            "marker": {
             "colorbar": {
              "outlinewidth": 0,
              "ticks": ""
             }
            },
            "type": "scattergeo"
           }
          ],
          "scattergl": [
           {
            "marker": {
             "colorbar": {
              "outlinewidth": 0,
              "ticks": ""
             }
            },
            "type": "scattergl"
           }
          ],
          "scattermapbox": [
           {
            "marker": {
             "colorbar": {
              "outlinewidth": 0,
              "ticks": ""
             }
            },
            "type": "scattermapbox"
           }
          ],
          "scatterpolar": [
           {
            "marker": {
             "colorbar": {
              "outlinewidth": 0,
              "ticks": ""
             }
            },
            "type": "scatterpolar"
           }
          ],
          "scatterpolargl": [
           {
            "marker": {
             "colorbar": {
              "outlinewidth": 0,
              "ticks": ""
             }
            },
            "type": "scatterpolargl"
           }
          ],
          "scatterternary": [
           {
            "marker": {
             "colorbar": {
              "outlinewidth": 0,
              "ticks": ""
             }
            },
            "type": "scatterternary"
           }
          ],
          "surface": [
           {
            "colorbar": {
             "outlinewidth": 0,
             "ticks": ""
            },
            "colorscale": [
             [
              0,
              "#0d0887"
             ],
             [
              0.1111111111111111,
              "#46039f"
             ],
             [
              0.2222222222222222,
              "#7201a8"
             ],
             [
              0.3333333333333333,
              "#9c179e"
             ],
             [
              0.4444444444444444,
              "#bd3786"
             ],
             [
              0.5555555555555556,
              "#d8576b"
             ],
             [
              0.6666666666666666,
              "#ed7953"
             ],
             [
              0.7777777777777778,
              "#fb9f3a"
             ],
             [
              0.8888888888888888,
              "#fdca26"
             ],
             [
              1,
              "#f0f921"
             ]
            ],
            "type": "surface"
           }
          ],
          "table": [
           {
            "cells": {
             "fill": {
              "color": "#EBF0F8"
             },
             "line": {
              "color": "white"
             }
            },
            "header": {
             "fill": {
              "color": "#C8D4E3"
             },
             "line": {
              "color": "white"
             }
            },
            "type": "table"
           }
          ]
         },
         "layout": {
          "annotationdefaults": {
           "arrowcolor": "#2a3f5f",
           "arrowhead": 0,
           "arrowwidth": 1
          },
          "autotypenumbers": "strict",
          "coloraxis": {
           "colorbar": {
            "outlinewidth": 0,
            "ticks": ""
           }
          },
          "colorscale": {
           "diverging": [
            [
             0,
             "#8e0152"
            ],
            [
             0.1,
             "#c51b7d"
            ],
            [
             0.2,
             "#de77ae"
            ],
            [
             0.3,
             "#f1b6da"
            ],
            [
             0.4,
             "#fde0ef"
            ],
            [
             0.5,
             "#f7f7f7"
            ],
            [
             0.6,
             "#e6f5d0"
            ],
            [
             0.7,
             "#b8e186"
            ],
            [
             0.8,
             "#7fbc41"
            ],
            [
             0.9,
             "#4d9221"
            ],
            [
             1,
             "#276419"
            ]
           ],
           "sequential": [
            [
             0,
             "#0d0887"
            ],
            [
             0.1111111111111111,
             "#46039f"
            ],
            [
             0.2222222222222222,
             "#7201a8"
            ],
            [
             0.3333333333333333,
             "#9c179e"
            ],
            [
             0.4444444444444444,
             "#bd3786"
            ],
            [
             0.5555555555555556,
             "#d8576b"
            ],
            [
             0.6666666666666666,
             "#ed7953"
            ],
            [
             0.7777777777777778,
             "#fb9f3a"
            ],
            [
             0.8888888888888888,
             "#fdca26"
            ],
            [
             1,
             "#f0f921"
            ]
           ],
           "sequentialminus": [
            [
             0,
             "#0d0887"
            ],
            [
             0.1111111111111111,
             "#46039f"
            ],
            [
             0.2222222222222222,
             "#7201a8"
            ],
            [
             0.3333333333333333,
             "#9c179e"
            ],
            [
             0.4444444444444444,
             "#bd3786"
            ],
            [
             0.5555555555555556,
             "#d8576b"
            ],
            [
             0.6666666666666666,
             "#ed7953"
            ],
            [
             0.7777777777777778,
             "#fb9f3a"
            ],
            [
             0.8888888888888888,
             "#fdca26"
            ],
            [
             1,
             "#f0f921"
            ]
           ]
          },
          "colorway": [
           "#636efa",
           "#EF553B",
           "#00cc96",
           "#ab63fa",
           "#FFA15A",
           "#19d3f3",
           "#FF6692",
           "#B6E880",
           "#FF97FF",
           "#FECB52"
          ],
          "font": {
           "color": "#2a3f5f"
          },
          "geo": {
           "bgcolor": "white",
           "lakecolor": "white",
           "landcolor": "#E5ECF6",
           "showlakes": true,
           "showland": true,
           "subunitcolor": "white"
          },
          "hoverlabel": {
           "align": "left"
          },
          "hovermode": "closest",
          "mapbox": {
           "style": "light"
          },
          "paper_bgcolor": "white",
          "plot_bgcolor": "#E5ECF6",
          "polar": {
           "angularaxis": {
            "gridcolor": "white",
            "linecolor": "white",
            "ticks": ""
           },
           "bgcolor": "#E5ECF6",
           "radialaxis": {
            "gridcolor": "white",
            "linecolor": "white",
            "ticks": ""
           }
          },
          "scene": {
           "xaxis": {
            "backgroundcolor": "#E5ECF6",
            "gridcolor": "white",
            "gridwidth": 2,
            "linecolor": "white",
            "showbackground": true,
            "ticks": "",
            "zerolinecolor": "white"
           },
           "yaxis": {
            "backgroundcolor": "#E5ECF6",
            "gridcolor": "white",
            "gridwidth": 2,
            "linecolor": "white",
            "showbackground": true,
            "ticks": "",
            "zerolinecolor": "white"
           },
           "zaxis": {
            "backgroundcolor": "#E5ECF6",
            "gridcolor": "white",
            "gridwidth": 2,
            "linecolor": "white",
            "showbackground": true,
            "ticks": "",
            "zerolinecolor": "white"
           }
          },
          "shapedefaults": {
           "line": {
            "color": "#2a3f5f"
           }
          },
          "ternary": {
           "aaxis": {
            "gridcolor": "white",
            "linecolor": "white",
            "ticks": ""
           },
           "baxis": {
            "gridcolor": "white",
            "linecolor": "white",
            "ticks": ""
           },
           "bgcolor": "#E5ECF6",
           "caxis": {
            "gridcolor": "white",
            "linecolor": "white",
            "ticks": ""
           }
          },
          "title": {
           "x": 0.05
          },
          "xaxis": {
           "automargin": true,
           "gridcolor": "white",
           "linecolor": "white",
           "ticks": "",
           "title": {
            "standoff": 15
           },
           "zerolinecolor": "white",
           "zerolinewidth": 2
          },
          "yaxis": {
           "automargin": true,
           "gridcolor": "white",
           "linecolor": "white",
           "ticks": "",
           "title": {
            "standoff": 15
           },
           "zerolinecolor": "white",
           "zerolinewidth": 2
          }
         }
        },
        "title": {
         "text": "Most Commmon Neutral Words"
        },
        "width": 700,
        "xaxis": {
         "anchor": "y",
         "domain": [
          0,
          1
         ],
         "title": {
          "text": "count"
         }
        },
        "yaxis": {
         "anchor": "x",
         "categoryarray": [
          "new",
          "want",
          "time",
          "lol",
          "see",
          "don`t",
          "know",
          "one",
          "u",
          "back",
          "work",
          "day",
          "like",
          "got",
          "it`s",
          "going",
          "-",
          "go",
          "get",
          "i`m"
         ],
         "categoryorder": "array",
         "domain": [
          0,
          1
         ],
         "title": {
          "text": "Common_words"
         }
        }
       }
      },
      "text/html": [
       "<div>                            <div id=\"42837d0e-e27a-418e-b183-2b88302379d3\" class=\"plotly-graph-div\" style=\"height:700px; width:700px;\"></div>            <script type=\"text/javascript\">                require([\"plotly\"], function(Plotly) {                    window.PLOTLYENV=window.PLOTLYENV || {};                                    if (document.getElementById(\"42837d0e-e27a-418e-b183-2b88302379d3\")) {                    Plotly.newPlot(                        \"42837d0e-e27a-418e-b183-2b88302379d3\",                        [{\"alignmentgroup\":\"True\",\"hovertemplate\":\"Common_words=%{y}<br>count=%{x}<extra></extra>\",\"legendgroup\":\"i`m\",\"marker\":{\"color\":\"#636efa\",\"pattern\":{\"shape\":\"\"}},\"name\":\"i`m\",\"offsetgroup\":\"i`m\",\"orientation\":\"h\",\"showlegend\":true,\"textposition\":\"auto\",\"type\":\"bar\",\"x\":[752],\"xaxis\":\"x\",\"y\":[\"i`m\"],\"yaxis\":\"y\"},{\"alignmentgroup\":\"True\",\"hovertemplate\":\"Common_words=%{y}<br>count=%{x}<extra></extra>\",\"legendgroup\":\"get\",\"marker\":{\"color\":\"#EF553B\",\"pattern\":{\"shape\":\"\"}},\"name\":\"get\",\"offsetgroup\":\"get\",\"orientation\":\"h\",\"showlegend\":true,\"textposition\":\"auto\",\"type\":\"bar\",\"x\":[617],\"xaxis\":\"x\",\"y\":[\"get\"],\"yaxis\":\"y\"},{\"alignmentgroup\":\"True\",\"hovertemplate\":\"Common_words=%{y}<br>count=%{x}<extra></extra>\",\"legendgroup\":\"go\",\"marker\":{\"color\":\"#00cc96\",\"pattern\":{\"shape\":\"\"}},\"name\":\"go\",\"offsetgroup\":\"go\",\"orientation\":\"h\",\"showlegend\":true,\"textposition\":\"auto\",\"type\":\"bar\",\"x\":[529],\"xaxis\":\"x\",\"y\":[\"go\"],\"yaxis\":\"y\"},{\"alignmentgroup\":\"True\",\"hovertemplate\":\"Common_words=%{y}<br>count=%{x}<extra></extra>\",\"legendgroup\":\"-\",\"marker\":{\"color\":\"#ab63fa\",\"pattern\":{\"shape\":\"\"}},\"name\":\"-\",\"offsetgroup\":\"-\",\"orientation\":\"h\",\"showlegend\":true,\"textposition\":\"auto\",\"type\":\"bar\",\"x\":[466],\"xaxis\":\"x\",\"y\":[\"-\"],\"yaxis\":\"y\"},{\"alignmentgroup\":\"True\",\"hovertemplate\":\"Common_words=%{y}<br>count=%{x}<extra></extra>\",\"legendgroup\":\"going\",\"marker\":{\"color\":\"#FFA15A\",\"pattern\":{\"shape\":\"\"}},\"name\":\"going\",\"offsetgroup\":\"going\",\"orientation\":\"h\",\"showlegend\":true,\"textposition\":\"auto\",\"type\":\"bar\",\"x\":[458],\"xaxis\":\"x\",\"y\":[\"going\"],\"yaxis\":\"y\"},{\"alignmentgroup\":\"True\",\"hovertemplate\":\"Common_words=%{y}<br>count=%{x}<extra></extra>\",\"legendgroup\":\"it`s\",\"marker\":{\"color\":\"#19d3f3\",\"pattern\":{\"shape\":\"\"}},\"name\":\"it`s\",\"offsetgroup\":\"it`s\",\"orientation\":\"h\",\"showlegend\":true,\"textposition\":\"auto\",\"type\":\"bar\",\"x\":[458],\"xaxis\":\"x\",\"y\":[\"it`s\"],\"yaxis\":\"y\"},{\"alignmentgroup\":\"True\",\"hovertemplate\":\"Common_words=%{y}<br>count=%{x}<extra></extra>\",\"legendgroup\":\"got\",\"marker\":{\"color\":\"#FF6692\",\"pattern\":{\"shape\":\"\"}},\"name\":\"got\",\"offsetgroup\":\"got\",\"orientation\":\"h\",\"showlegend\":true,\"textposition\":\"auto\",\"type\":\"bar\",\"x\":[453],\"xaxis\":\"x\",\"y\":[\"got\"],\"yaxis\":\"y\"},{\"alignmentgroup\":\"True\",\"hovertemplate\":\"Common_words=%{y}<br>count=%{x}<extra></extra>\",\"legendgroup\":\"like\",\"marker\":{\"color\":\"#B6E880\",\"pattern\":{\"shape\":\"\"}},\"name\":\"like\",\"offsetgroup\":\"like\",\"orientation\":\"h\",\"showlegend\":true,\"textposition\":\"auto\",\"type\":\"bar\",\"x\":[443],\"xaxis\":\"x\",\"y\":[\"like\"],\"yaxis\":\"y\"},{\"alignmentgroup\":\"True\",\"hovertemplate\":\"Common_words=%{y}<br>count=%{x}<extra></extra>\",\"legendgroup\":\"day\",\"marker\":{\"color\":\"#FF97FF\",\"pattern\":{\"shape\":\"\"}},\"name\":\"day\",\"offsetgroup\":\"day\",\"orientation\":\"h\",\"showlegend\":true,\"textposition\":\"auto\",\"type\":\"bar\",\"x\":[385],\"xaxis\":\"x\",\"y\":[\"day\"],\"yaxis\":\"y\"},{\"alignmentgroup\":\"True\",\"hovertemplate\":\"Common_words=%{y}<br>count=%{x}<extra></extra>\",\"legendgroup\":\"work\",\"marker\":{\"color\":\"#FECB52\",\"pattern\":{\"shape\":\"\"}},\"name\":\"work\",\"offsetgroup\":\"work\",\"orientation\":\"h\",\"showlegend\":true,\"textposition\":\"auto\",\"type\":\"bar\",\"x\":[375],\"xaxis\":\"x\",\"y\":[\"work\"],\"yaxis\":\"y\"},{\"alignmentgroup\":\"True\",\"hovertemplate\":\"Common_words=%{y}<br>count=%{x}<extra></extra>\",\"legendgroup\":\"back\",\"marker\":{\"color\":\"#636efa\",\"pattern\":{\"shape\":\"\"}},\"name\":\"back\",\"offsetgroup\":\"back\",\"orientation\":\"h\",\"showlegend\":true,\"textposition\":\"auto\",\"type\":\"bar\",\"x\":[363],\"xaxis\":\"x\",\"y\":[\"back\"],\"yaxis\":\"y\"},{\"alignmentgroup\":\"True\",\"hovertemplate\":\"Common_words=%{y}<br>count=%{x}<extra></extra>\",\"legendgroup\":\"u\",\"marker\":{\"color\":\"#EF553B\",\"pattern\":{\"shape\":\"\"}},\"name\":\"u\",\"offsetgroup\":\"u\",\"orientation\":\"h\",\"showlegend\":true,\"textposition\":\"auto\",\"type\":\"bar\",\"x\":[356],\"xaxis\":\"x\",\"y\":[\"u\"],\"yaxis\":\"y\"},{\"alignmentgroup\":\"True\",\"hovertemplate\":\"Common_words=%{y}<br>count=%{x}<extra></extra>\",\"legendgroup\":\"one\",\"marker\":{\"color\":\"#00cc96\",\"pattern\":{\"shape\":\"\"}},\"name\":\"one\",\"offsetgroup\":\"one\",\"orientation\":\"h\",\"showlegend\":true,\"textposition\":\"auto\",\"type\":\"bar\",\"x\":[350],\"xaxis\":\"x\",\"y\":[\"one\"],\"yaxis\":\"y\"},{\"alignmentgroup\":\"True\",\"hovertemplate\":\"Common_words=%{y}<br>count=%{x}<extra></extra>\",\"legendgroup\":\"know\",\"marker\":{\"color\":\"#ab63fa\",\"pattern\":{\"shape\":\"\"}},\"name\":\"know\",\"offsetgroup\":\"know\",\"orientation\":\"h\",\"showlegend\":true,\"textposition\":\"auto\",\"type\":\"bar\",\"x\":[347],\"xaxis\":\"x\",\"y\":[\"know\"],\"yaxis\":\"y\"},{\"alignmentgroup\":\"True\",\"hovertemplate\":\"Common_words=%{y}<br>count=%{x}<extra></extra>\",\"legendgroup\":\"don`t\",\"marker\":{\"color\":\"#FFA15A\",\"pattern\":{\"shape\":\"\"}},\"name\":\"don`t\",\"offsetgroup\":\"don`t\",\"orientation\":\"h\",\"showlegend\":true,\"textposition\":\"auto\",\"type\":\"bar\",\"x\":[345],\"xaxis\":\"x\",\"y\":[\"don`t\"],\"yaxis\":\"y\"},{\"alignmentgroup\":\"True\",\"hovertemplate\":\"Common_words=%{y}<br>count=%{x}<extra></extra>\",\"legendgroup\":\"see\",\"marker\":{\"color\":\"#19d3f3\",\"pattern\":{\"shape\":\"\"}},\"name\":\"see\",\"offsetgroup\":\"see\",\"orientation\":\"h\",\"showlegend\":true,\"textposition\":\"auto\",\"type\":\"bar\",\"x\":[342],\"xaxis\":\"x\",\"y\":[\"see\"],\"yaxis\":\"y\"},{\"alignmentgroup\":\"True\",\"hovertemplate\":\"Common_words=%{y}<br>count=%{x}<extra></extra>\",\"legendgroup\":\"lol\",\"marker\":{\"color\":\"#FF6692\",\"pattern\":{\"shape\":\"\"}},\"name\":\"lol\",\"offsetgroup\":\"lol\",\"orientation\":\"h\",\"showlegend\":true,\"textposition\":\"auto\",\"type\":\"bar\",\"x\":[336],\"xaxis\":\"x\",\"y\":[\"lol\"],\"yaxis\":\"y\"},{\"alignmentgroup\":\"True\",\"hovertemplate\":\"Common_words=%{y}<br>count=%{x}<extra></extra>\",\"legendgroup\":\"time\",\"marker\":{\"color\":\"#B6E880\",\"pattern\":{\"shape\":\"\"}},\"name\":\"time\",\"offsetgroup\":\"time\",\"orientation\":\"h\",\"showlegend\":true,\"textposition\":\"auto\",\"type\":\"bar\",\"x\":[335],\"xaxis\":\"x\",\"y\":[\"time\"],\"yaxis\":\"y\"},{\"alignmentgroup\":\"True\",\"hovertemplate\":\"Common_words=%{y}<br>count=%{x}<extra></extra>\",\"legendgroup\":\"want\",\"marker\":{\"color\":\"#FF97FF\",\"pattern\":{\"shape\":\"\"}},\"name\":\"want\",\"offsetgroup\":\"want\",\"orientation\":\"h\",\"showlegend\":true,\"textposition\":\"auto\",\"type\":\"bar\",\"x\":[319],\"xaxis\":\"x\",\"y\":[\"want\"],\"yaxis\":\"y\"},{\"alignmentgroup\":\"True\",\"hovertemplate\":\"Common_words=%{y}<br>count=%{x}<extra></extra>\",\"legendgroup\":\"new\",\"marker\":{\"color\":\"#FECB52\",\"pattern\":{\"shape\":\"\"}},\"name\":\"new\",\"offsetgroup\":\"new\",\"orientation\":\"h\",\"showlegend\":true,\"textposition\":\"auto\",\"type\":\"bar\",\"x\":[313],\"xaxis\":\"x\",\"y\":[\"new\"],\"yaxis\":\"y\"}],                        {\"barmode\":\"relative\",\"height\":700,\"legend\":{\"title\":{\"text\":\"Common_words\"},\"tracegroupgap\":0},\"template\":{\"data\":{\"bar\":[{\"error_x\":{\"color\":\"#2a3f5f\"},\"error_y\":{\"color\":\"#2a3f5f\"},\"marker\":{\"line\":{\"color\":\"#E5ECF6\",\"width\":0.5},\"pattern\":{\"fillmode\":\"overlay\",\"size\":10,\"solidity\":0.2}},\"type\":\"bar\"}],\"barpolar\":[{\"marker\":{\"line\":{\"color\":\"#E5ECF6\",\"width\":0.5},\"pattern\":{\"fillmode\":\"overlay\",\"size\":10,\"solidity\":0.2}},\"type\":\"barpolar\"}],\"carpet\":[{\"aaxis\":{\"endlinecolor\":\"#2a3f5f\",\"gridcolor\":\"white\",\"linecolor\":\"white\",\"minorgridcolor\":\"white\",\"startlinecolor\":\"#2a3f5f\"},\"baxis\":{\"endlinecolor\":\"#2a3f5f\",\"gridcolor\":\"white\",\"linecolor\":\"white\",\"minorgridcolor\":\"white\",\"startlinecolor\":\"#2a3f5f\"},\"type\":\"carpet\"}],\"choropleth\":[{\"colorbar\":{\"outlinewidth\":0,\"ticks\":\"\"},\"type\":\"choropleth\"}],\"contour\":[{\"colorbar\":{\"outlinewidth\":0,\"ticks\":\"\"},\"colorscale\":[[0.0,\"#0d0887\"],[0.1111111111111111,\"#46039f\"],[0.2222222222222222,\"#7201a8\"],[0.3333333333333333,\"#9c179e\"],[0.4444444444444444,\"#bd3786\"],[0.5555555555555556,\"#d8576b\"],[0.6666666666666666,\"#ed7953\"],[0.7777777777777778,\"#fb9f3a\"],[0.8888888888888888,\"#fdca26\"],[1.0,\"#f0f921\"]],\"type\":\"contour\"}],\"contourcarpet\":[{\"colorbar\":{\"outlinewidth\":0,\"ticks\":\"\"},\"type\":\"contourcarpet\"}],\"heatmap\":[{\"colorbar\":{\"outlinewidth\":0,\"ticks\":\"\"},\"colorscale\":[[0.0,\"#0d0887\"],[0.1111111111111111,\"#46039f\"],[0.2222222222222222,\"#7201a8\"],[0.3333333333333333,\"#9c179e\"],[0.4444444444444444,\"#bd3786\"],[0.5555555555555556,\"#d8576b\"],[0.6666666666666666,\"#ed7953\"],[0.7777777777777778,\"#fb9f3a\"],[0.8888888888888888,\"#fdca26\"],[1.0,\"#f0f921\"]],\"type\":\"heatmap\"}],\"heatmapgl\":[{\"colorbar\":{\"outlinewidth\":0,\"ticks\":\"\"},\"colorscale\":[[0.0,\"#0d0887\"],[0.1111111111111111,\"#46039f\"],[0.2222222222222222,\"#7201a8\"],[0.3333333333333333,\"#9c179e\"],[0.4444444444444444,\"#bd3786\"],[0.5555555555555556,\"#d8576b\"],[0.6666666666666666,\"#ed7953\"],[0.7777777777777778,\"#fb9f3a\"],[0.8888888888888888,\"#fdca26\"],[1.0,\"#f0f921\"]],\"type\":\"heatmapgl\"}],\"histogram\":[{\"marker\":{\"pattern\":{\"fillmode\":\"overlay\",\"size\":10,\"solidity\":0.2}},\"type\":\"histogram\"}],\"histogram2d\":[{\"colorbar\":{\"outlinewidth\":0,\"ticks\":\"\"},\"colorscale\":[[0.0,\"#0d0887\"],[0.1111111111111111,\"#46039f\"],[0.2222222222222222,\"#7201a8\"],[0.3333333333333333,\"#9c179e\"],[0.4444444444444444,\"#bd3786\"],[0.5555555555555556,\"#d8576b\"],[0.6666666666666666,\"#ed7953\"],[0.7777777777777778,\"#fb9f3a\"],[0.8888888888888888,\"#fdca26\"],[1.0,\"#f0f921\"]],\"type\":\"histogram2d\"}],\"histogram2dcontour\":[{\"colorbar\":{\"outlinewidth\":0,\"ticks\":\"\"},\"colorscale\":[[0.0,\"#0d0887\"],[0.1111111111111111,\"#46039f\"],[0.2222222222222222,\"#7201a8\"],[0.3333333333333333,\"#9c179e\"],[0.4444444444444444,\"#bd3786\"],[0.5555555555555556,\"#d8576b\"],[0.6666666666666666,\"#ed7953\"],[0.7777777777777778,\"#fb9f3a\"],[0.8888888888888888,\"#fdca26\"],[1.0,\"#f0f921\"]],\"type\":\"histogram2dcontour\"}],\"mesh3d\":[{\"colorbar\":{\"outlinewidth\":0,\"ticks\":\"\"},\"type\":\"mesh3d\"}],\"parcoords\":[{\"line\":{\"colorbar\":{\"outlinewidth\":0,\"ticks\":\"\"}},\"type\":\"parcoords\"}],\"pie\":[{\"automargin\":true,\"type\":\"pie\"}],\"scatter\":[{\"marker\":{\"colorbar\":{\"outlinewidth\":0,\"ticks\":\"\"}},\"type\":\"scatter\"}],\"scatter3d\":[{\"line\":{\"colorbar\":{\"outlinewidth\":0,\"ticks\":\"\"}},\"marker\":{\"colorbar\":{\"outlinewidth\":0,\"ticks\":\"\"}},\"type\":\"scatter3d\"}],\"scattercarpet\":[{\"marker\":{\"colorbar\":{\"outlinewidth\":0,\"ticks\":\"\"}},\"type\":\"scattercarpet\"}],\"scattergeo\":[{\"marker\":{\"colorbar\":{\"outlinewidth\":0,\"ticks\":\"\"}},\"type\":\"scattergeo\"}],\"scattergl\":[{\"marker\":{\"colorbar\":{\"outlinewidth\":0,\"ticks\":\"\"}},\"type\":\"scattergl\"}],\"scattermapbox\":[{\"marker\":{\"colorbar\":{\"outlinewidth\":0,\"ticks\":\"\"}},\"type\":\"scattermapbox\"}],\"scatterpolar\":[{\"marker\":{\"colorbar\":{\"outlinewidth\":0,\"ticks\":\"\"}},\"type\":\"scatterpolar\"}],\"scatterpolargl\":[{\"marker\":{\"colorbar\":{\"outlinewidth\":0,\"ticks\":\"\"}},\"type\":\"scatterpolargl\"}],\"scatterternary\":[{\"marker\":{\"colorbar\":{\"outlinewidth\":0,\"ticks\":\"\"}},\"type\":\"scatterternary\"}],\"surface\":[{\"colorbar\":{\"outlinewidth\":0,\"ticks\":\"\"},\"colorscale\":[[0.0,\"#0d0887\"],[0.1111111111111111,\"#46039f\"],[0.2222222222222222,\"#7201a8\"],[0.3333333333333333,\"#9c179e\"],[0.4444444444444444,\"#bd3786\"],[0.5555555555555556,\"#d8576b\"],[0.6666666666666666,\"#ed7953\"],[0.7777777777777778,\"#fb9f3a\"],[0.8888888888888888,\"#fdca26\"],[1.0,\"#f0f921\"]],\"type\":\"surface\"}],\"table\":[{\"cells\":{\"fill\":{\"color\":\"#EBF0F8\"},\"line\":{\"color\":\"white\"}},\"header\":{\"fill\":{\"color\":\"#C8D4E3\"},\"line\":{\"color\":\"white\"}},\"type\":\"table\"}]},\"layout\":{\"annotationdefaults\":{\"arrowcolor\":\"#2a3f5f\",\"arrowhead\":0,\"arrowwidth\":1},\"autotypenumbers\":\"strict\",\"coloraxis\":{\"colorbar\":{\"outlinewidth\":0,\"ticks\":\"\"}},\"colorscale\":{\"diverging\":[[0,\"#8e0152\"],[0.1,\"#c51b7d\"],[0.2,\"#de77ae\"],[0.3,\"#f1b6da\"],[0.4,\"#fde0ef\"],[0.5,\"#f7f7f7\"],[0.6,\"#e6f5d0\"],[0.7,\"#b8e186\"],[0.8,\"#7fbc41\"],[0.9,\"#4d9221\"],[1,\"#276419\"]],\"sequential\":[[0.0,\"#0d0887\"],[0.1111111111111111,\"#46039f\"],[0.2222222222222222,\"#7201a8\"],[0.3333333333333333,\"#9c179e\"],[0.4444444444444444,\"#bd3786\"],[0.5555555555555556,\"#d8576b\"],[0.6666666666666666,\"#ed7953\"],[0.7777777777777778,\"#fb9f3a\"],[0.8888888888888888,\"#fdca26\"],[1.0,\"#f0f921\"]],\"sequentialminus\":[[0.0,\"#0d0887\"],[0.1111111111111111,\"#46039f\"],[0.2222222222222222,\"#7201a8\"],[0.3333333333333333,\"#9c179e\"],[0.4444444444444444,\"#bd3786\"],[0.5555555555555556,\"#d8576b\"],[0.6666666666666666,\"#ed7953\"],[0.7777777777777778,\"#fb9f3a\"],[0.8888888888888888,\"#fdca26\"],[1.0,\"#f0f921\"]]},\"colorway\":[\"#636efa\",\"#EF553B\",\"#00cc96\",\"#ab63fa\",\"#FFA15A\",\"#19d3f3\",\"#FF6692\",\"#B6E880\",\"#FF97FF\",\"#FECB52\"],\"font\":{\"color\":\"#2a3f5f\"},\"geo\":{\"bgcolor\":\"white\",\"lakecolor\":\"white\",\"landcolor\":\"#E5ECF6\",\"showlakes\":true,\"showland\":true,\"subunitcolor\":\"white\"},\"hoverlabel\":{\"align\":\"left\"},\"hovermode\":\"closest\",\"mapbox\":{\"style\":\"light\"},\"paper_bgcolor\":\"white\",\"plot_bgcolor\":\"#E5ECF6\",\"polar\":{\"angularaxis\":{\"gridcolor\":\"white\",\"linecolor\":\"white\",\"ticks\":\"\"},\"bgcolor\":\"#E5ECF6\",\"radialaxis\":{\"gridcolor\":\"white\",\"linecolor\":\"white\",\"ticks\":\"\"}},\"scene\":{\"xaxis\":{\"backgroundcolor\":\"#E5ECF6\",\"gridcolor\":\"white\",\"gridwidth\":2,\"linecolor\":\"white\",\"showbackground\":true,\"ticks\":\"\",\"zerolinecolor\":\"white\"},\"yaxis\":{\"backgroundcolor\":\"#E5ECF6\",\"gridcolor\":\"white\",\"gridwidth\":2,\"linecolor\":\"white\",\"showbackground\":true,\"ticks\":\"\",\"zerolinecolor\":\"white\"},\"zaxis\":{\"backgroundcolor\":\"#E5ECF6\",\"gridcolor\":\"white\",\"gridwidth\":2,\"linecolor\":\"white\",\"showbackground\":true,\"ticks\":\"\",\"zerolinecolor\":\"white\"}},\"shapedefaults\":{\"line\":{\"color\":\"#2a3f5f\"}},\"ternary\":{\"aaxis\":{\"gridcolor\":\"white\",\"linecolor\":\"white\",\"ticks\":\"\"},\"baxis\":{\"gridcolor\":\"white\",\"linecolor\":\"white\",\"ticks\":\"\"},\"bgcolor\":\"#E5ECF6\",\"caxis\":{\"gridcolor\":\"white\",\"linecolor\":\"white\",\"ticks\":\"\"}},\"title\":{\"x\":0.05},\"xaxis\":{\"automargin\":true,\"gridcolor\":\"white\",\"linecolor\":\"white\",\"ticks\":\"\",\"title\":{\"standoff\":15},\"zerolinecolor\":\"white\",\"zerolinewidth\":2},\"yaxis\":{\"automargin\":true,\"gridcolor\":\"white\",\"linecolor\":\"white\",\"ticks\":\"\",\"title\":{\"standoff\":15},\"zerolinecolor\":\"white\",\"zerolinewidth\":2}}},\"title\":{\"text\":\"Most Commmon Neutral Words\"},\"width\":700,\"xaxis\":{\"anchor\":\"y\",\"domain\":[0.0,1.0],\"title\":{\"text\":\"count\"}},\"yaxis\":{\"anchor\":\"x\",\"categoryarray\":[\"new\",\"want\",\"time\",\"lol\",\"see\",\"don`t\",\"know\",\"one\",\"u\",\"back\",\"work\",\"day\",\"like\",\"got\",\"it`s\",\"going\",\"-\",\"go\",\"get\",\"i`m\"],\"categoryorder\":\"array\",\"domain\":[0.0,1.0],\"title\":{\"text\":\"Common_words\"}}},                        {\"responsive\": true}                    ).then(function(){\n",
       "                            \n",
       "var gd = document.getElementById('42837d0e-e27a-418e-b183-2b88302379d3');\n",
       "var x = new MutationObserver(function (mutations, observer) {{\n",
       "        var display = window.getComputedStyle(gd).display;\n",
       "        if (!display || display === 'none') {{\n",
       "            console.log([gd, 'removed!']);\n",
       "            Plotly.purge(gd);\n",
       "            observer.disconnect();\n",
       "        }}\n",
       "}});\n",
       "\n",
       "// Listen for the removal of the full notebook cells\n",
       "var notebookContainer = gd.closest('#notebook-container');\n",
       "if (notebookContainer) {{\n",
       "    x.observe(notebookContainer, {childList: true});\n",
       "}}\n",
       "\n",
       "// Listen for the clearing of the current output cell\n",
       "var outputEl = gd.closest('.output');\n",
       "if (outputEl) {{\n",
       "    x.observe(outputEl, {childList: true});\n",
       "}}\n",
       "\n",
       "                        })                };                });            </script>        </div>"
      ]
     },
     "metadata": {},
     "output_type": "display_data"
    }
   ],
   "source": [
    "\n",
    "fig = px.bar(temp_neutrals, x=\"count\", y=\"Common_words\", title='Most Commmon Neutral Words', orientation='h', \n",
    "             width=700, height=700,color='Common_words')\n",
    "fig.show()"
   ]
  },
  {
   "cell_type": "markdown",
   "id": "69b8315b",
   "metadata": {},
   "source": [
    "### Observation(s):\n",
    "- Some word like \"like\" which has positive nature but it is very commonly found in negative sentiments.\n",
    "- Words like go, get, gong, u, i'm are common in all three segments."
   ]
  },
  {
   "cell_type": "markdown",
   "id": "bdd755a4",
   "metadata": {},
   "source": [
    "## 6. Word Cloud of Tweets sentiment wise."
   ]
  },
  {
   "cell_type": "code",
   "execution_count": 161,
   "id": "f14e1b13",
   "metadata": {},
   "outputs": [
    {
     "data": {
      "image/png": "[encoded data removed]",
      "text/plain": [
       "<Figure size 432x288 with 1 Axes>"
      ]
     },
     "metadata": {
      "needs_background": "light"
     },
     "output_type": "display_data"
    }
   ],
   "source": [
    "# Reference:https://www.geeksforgeeks.org/generating-word-cloud-python/ \n",
    "\n",
    "#  program to generate WordCloud\n",
    "words = \"\"\n",
    "for val in positive_sentiment.temp_text:\n",
    "    words += val + \" \"\n",
    "    \n",
    "\n",
    "wordcloud = WordCloud(width = 400, height = 200,\n",
    "                background_color ='white',\n",
    "                min_font_size = 10,random_state=42).generate(words)\n",
    "\n",
    "# plot the WordCloud image\n",
    "plt.figure(figsize = (6, 4), facecolor = None)\n",
    "plt.imshow(wordcloud)\n",
    "plt.axis(\"off\")\n",
    "plt.tight_layout(pad = 0)\n",
    "\n",
    "plt.show()\n"
   ]
  },
  {
   "cell_type": "code",
   "execution_count": null,
   "id": "1ef78caa",
   "metadata": {},
   "outputs": [],
   "source": []
  }
 ],
 "metadata": {
  "kernelspec": {
   "display_name": "Python 3",
   "language": "python",
   "name": "python3"
  },
  "language_info": {
   "codemirror_mode": {
    "name": "ipython",
    "version": 3
   },
   "file_extension": ".py",
   "mimetype": "text/x-python",
   "name": "python",
   "nbconvert_exporter": "python",
   "pygments_lexer": "ipython3",
   "version": "3.8.8"
  }
 },
 "nbformat": 4,
 "nbformat_minor": 5
}
